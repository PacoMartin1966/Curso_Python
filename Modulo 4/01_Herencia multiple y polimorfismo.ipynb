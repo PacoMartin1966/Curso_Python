{
 "cells": [
  {
   "cell_type": "markdown",
   "metadata": {},
   "source": [
    "# Herencia múltiple\n",
    "Posibilidad de que una subclase herede de múltiples superclases.\n",
    "\n",
    "El problema aparece cuando las superclases tienen atributos o métodos comunes. \n",
    "\n",
    "En estos casos, Python dará prioridad a las clases más a la izquierda en el momento de la declaración de la subclase."
   ]
  },
  {
   "cell_type": "code",
   "execution_count": 1,
   "metadata": {},
   "outputs": [
    {
     "name": "stdout",
     "output_type": "stream",
     "text": [
      "Soy de clase B\n"
     ]
    }
   ],
   "source": [
    "class A:\n",
    "    def __init__(self):\n",
    "        print(\"Soy de clase A\")\n",
    "    def a(self):\n",
    "        print(\"Este método lo heredo de A\")\n",
    "        \n",
    "class B:\n",
    "    def __init__(self):\n",
    "        print(\"Soy de clase B\")\n",
    "    def b(self):\n",
    "        print(\"Este método lo heredo de B\")\n",
    "        \n",
    "class C(B,A):\n",
    "    def c(self):\n",
    "        print(\"Este método es de C\")\n",
    "\n",
    "c = C() # Al crear un objeto de la clase C, hereda el constructor de la superclase B (porque es la que esta más a la izquierda)"
   ]
  },
  {
   "cell_type": "code",
   "execution_count": 5,
   "metadata": {},
   "outputs": [
    {
     "name": "stdout",
     "output_type": "stream",
     "text": [
      "Este método es de C\n",
      "Este método lo heredo de A\n",
      "Este método lo heredo de B\n"
     ]
    }
   ],
   "source": [
    "c.c()\n",
    "c.a()\n",
    "c.b()"
   ]
  },
  {
   "cell_type": "markdown",
   "metadata": {},
   "source": [
    "# Herencia múltiple con un ejemplo"
   ]
  },
  {
   "cell_type": "code",
   "execution_count": 2,
   "metadata": {},
   "outputs": [
    {
     "name": "stdout",
     "output_type": "stream",
     "text": [
      "\n",
      "BICICLETA ELECTRICA\n",
      "100\n"
     ]
    }
   ],
   "source": [
    "class Vehiculos(): \n",
    "\n",
    "    # Constructor\n",
    "    def __init__(self, marca, modelo):\n",
    "            self.marca = marca\n",
    "            self.modelo = modelo\n",
    "\n",
    "class VElectricos():\n",
    "    \n",
    "    # Constructor\n",
    "    def __init__(self):\n",
    "        self.autonomia = 100\n",
    "\n",
    "    def cargarEnergia(self):\n",
    "        '''Metodo cargarEnergia() de la clase VElectricos. Indica al sistema si el vehiculo electrico esta cargando o no'''\n",
    "        self.cargando = True \n",
    "        \n",
    "class BicicletaElectrica(VElectricos,Vehiculos):\n",
    "    '''Clase BicicletaElectrica que hereda de la clase Vehiculos y de la clase VElectricos, es decir, herencia multiple'''\n",
    "    pass\n",
    "\n",
    "print(\"\\nBICICLETA ELECTRICA\")\n",
    "\n",
    "# Objeto de la clase BicicletaElectrica\n",
    "# Al heredar de 2 clases, tiene disponibles 2 constructores. ¿Cual ejecuta? ¿Cual esta heredando? En este caso, el de VElectricos, porque al definir la herencia multiple, VElectricos se puso primero\n",
    "miBici = BicicletaElectrica()\n",
    "print(miBici.autonomia)"
   ]
  },
  {
   "cell_type": "markdown",
   "metadata": {},
   "source": [
    "# Preparemonos para el Polimorfismo. Ejemplo Productos"
   ]
  },
  {
   "cell_type": "code",
   "execution_count": 10,
   "metadata": {},
   "outputs": [],
   "source": [
    "class Producto:\n",
    "    def __init__(self,referencia,nombre,pvp,descripcion):\n",
    "        self.referencia = referencia\n",
    "        self.nombre = nombre\n",
    "        self.pvp = pvp\n",
    "        self.descripcion = descripcion\n",
    "        \n",
    "    def __str__(self):\n",
    "        return \"\"\"\\\n",
    "REFERENCIA\\t{}\n",
    "NOMBRE\\t\\t{}\n",
    "PVP\\t\\t{}\n",
    "DESCRIPCIÓN\\t{}\"\"\".format(self.referencia,self.nombre,self.pvp,self.descripcion)\n",
    "    \n",
    "\n",
    "class Adorno(Producto):\n",
    "    pass\n",
    "\n",
    "\n",
    "class Alimento(Producto):\n",
    "    productor = \"\"\n",
    "    distribuidor = \"\"\n",
    "    \n",
    "    def __str__(self):\n",
    "        return \"\"\"\\\n",
    "REFERENCIA\\t{}\n",
    "NOMBRE\\t\\t{}\n",
    "PVP\\t\\t{}\n",
    "DESCRIPCIÓN\\t{}\n",
    "PRODUCTOR\\t{}\n",
    "DISTRIBUIDOR\\t{}\"\"\".format(self.referencia,self.nombre,self.pvp,self.descripcion,self.productor,self.distribuidor)\n",
    "\n",
    "\n",
    "class Libro(Producto):\n",
    "    isbn = \"\"\n",
    "    autor = \"\"\n",
    "    \n",
    "    def __str__(self):\n",
    "        return \"\"\"\\\n",
    "REFERENCIA\\t{}\n",
    "NOMBRE\\t\\t{}\n",
    "PVP\\t\\t{}\n",
    "DESCRIPCIÓN\\t{}\n",
    "ISBN\\t\\t{}\n",
    "AUTOR\\t\\t{}\"\"\".format(self.referencia,self.nombre,self.pvp,self.descripcion,self.isbn,self.autor)"
   ]
  },
  {
   "cell_type": "markdown",
   "metadata": {},
   "source": [
    "#### Creamos algunos objetos"
   ]
  },
  {
   "cell_type": "code",
   "execution_count": 11,
   "metadata": {},
   "outputs": [],
   "source": [
    "ad = Adorno(2034,\"Vaso adornado\",15,\"Vaso de porcelana adornado con árboles\")\n",
    "\n",
    "al = Alimento(2035,\"Botella de Aceite de Oliva Extra\",5,\"250 ML\")\n",
    "al.productor = \"La Aceitera\"\n",
    "al.distribuidor = \"Distribuciones SA\"\n",
    "\n",
    "li = Libro(2036,\"Cocina Mediterránea\",9,\"Recetas sanas y buenas\")\n",
    "li.isbn = \"0-123456-78-9\"\n",
    "li.autor = \"Doña Juana\""
   ]
  },
  {
   "cell_type": "markdown",
   "metadata": {},
   "source": [
    "#### Listamos los productos"
   ]
  },
  {
   "cell_type": "code",
   "execution_count": 12,
   "metadata": {},
   "outputs": [
    {
     "name": "stdout",
     "output_type": "stream",
     "text": [
      "REFERENCIA\t2034\n",
      "NOMBRE\t\tVaso adornado\n",
      "PVP\t\t15\n",
      "DESCRIPCIÓN\tVaso de porcelana adornado con árboles \n",
      "\n",
      "REFERENCIA\t2035\n",
      "NOMBRE\t\tBotella de Aceite de Oliva Extra\n",
      "PVP\t\t5\n",
      "DESCRIPCIÓN\t250 ML\n",
      "PRODUCTOR\tLa Aceitera\n",
      "DISTRIBUIDOR\tDistribuciones SA \n",
      "\n",
      "REFERENCIA\t2036\n",
      "NOMBRE\t\tCocina Mediterránea\n",
      "PVP\t\t9\n",
      "DESCRIPCIÓN\tRecetas sanas y buenas\n",
      "ISBN\t\t0-123456-78-9\n",
      "AUTOR\t\tDoña Juana \n",
      "\n"
     ]
    }
   ],
   "source": [
    "productos = [ad, al, li]\n",
    "for p in productos:\n",
    "    print(p,\"\\n\")"
   ]
  },
  {
   "cell_type": "markdown",
   "metadata": {
    "collapsed": true
   },
   "source": [
    "## Polimorfismo\n",
    "Se refiere a una propiedad de la herencia por la que objetos de distintas subclases pueden responder a una misma acción."
   ]
  },
  {
   "cell_type": "code",
   "execution_count": 13,
   "metadata": {},
   "outputs": [
    {
     "name": "stdout",
     "output_type": "stream",
     "text": [
      "ANTES DE LAS REBAJAS: 5\n",
      "DESPUES DE LAS REBAJAS: 4.5\n"
     ]
    }
   ],
   "source": [
    "def rebajar_producto(p, rebaja):\n",
    "    \"\"\"Rebaja un producto en porcentaje de su precio\"\"\"\n",
    "    p.pvp = p.pvp - (p.pvp/100 * rebaja)\n",
    "    \n",
    "print(\"ANTES DE LAS REBAJAS: \", end=\"\")\n",
    "print(al.pvp)\n",
    "rebajar_producto(al, 10)\n",
    "print(\"DESPUES DE LAS REBAJAS: \", end=\"\")\n",
    "print(al.pvp)"
   ]
  },
  {
   "cell_type": "markdown",
   "metadata": {},
   "source": [
    "El método  **rebajar_producto()** es capaz de tomar objetos de distintas subclases y manipular el atributo **pvp**.\n",
    "\n",
    "La acción de manipular el **pvp** funcionará siempre que los objetos tengan ése atributo, pero en el caso de no ser así, daría error.\n",
    "\n",
    "La polimorfia es implícita en Python en todos los objetos, ya que todos son hijos de una superclase común llamada **Object**."
   ]
  },
  {
   "cell_type": "markdown",
   "metadata": {},
   "source": [
    "## Funciones que reciben objetos de distintas clases\n",
    "### Los obetos se envían por referencia a las funciones\n",
    "Así que debemos tener en cuenta que cualquier cambio realizado dentro afectará al propio objeto."
   ]
  },
  {
   "cell_type": "code",
   "execution_count": 14,
   "metadata": {},
   "outputs": [
    {
     "name": "stdout",
     "output_type": "stream",
     "text": [
      "ANTES DE LAS REBAJAS: 4.5\n",
      "DESPUES DE LAS REBAJAS: 4.05\n"
     ]
    }
   ],
   "source": [
    "def rebajar_producto(p, rebaja):\n",
    "    \"\"\"Rebaja un producto en porcentaje de su precio\"\"\"\n",
    "    p.pvp = p.pvp - (p.pvp/100 * rebaja)\n",
    "\n",
    "print(\"ANTES DE LAS REBAJAS: \", end=\"\")\n",
    "print(al.pvp)\n",
    "rebajar_producto(al, 10)\n",
    "print(\"DESPUES DE LAS REBAJAS: \", end=\"\")\n",
    "print(al.pvp)"
   ]
  },
  {
   "cell_type": "markdown",
   "metadata": {},
   "source": [
    "### Una copia de un objeto también hace referencia al objeto copiado (como un acceso directo)"
   ]
  },
  {
   "cell_type": "code",
   "execution_count": 11,
   "metadata": {},
   "outputs": [],
   "source": [
    "copia_al = al"
   ]
  },
  {
   "cell_type": "code",
   "execution_count": 12,
   "metadata": {},
   "outputs": [],
   "source": [
    "copia_al.referencia = 2038"
   ]
  },
  {
   "cell_type": "code",
   "execution_count": 13,
   "metadata": {},
   "outputs": [
    {
     "name": "stdout",
     "output_type": "stream",
     "text": [
      "REFERENCIA\t2038\n",
      "NOMBRE\t\tBotella de Aceite de Oliva Extra\n",
      "PVP\t\t3.6449999999999996\n",
      "DESCRIPCIÓN\t250 ML\n",
      "PRODUCTOR\tLa Aceitera\n",
      "DISTRIBUIDOR\tDistribuciones SA\n"
     ]
    }
   ],
   "source": [
    "print(copia_al)"
   ]
  },
  {
   "cell_type": "code",
   "execution_count": 14,
   "metadata": {},
   "outputs": [
    {
     "name": "stdout",
     "output_type": "stream",
     "text": [
      "REFERENCIA\t2038\n",
      "NOMBRE\t\tBotella de Aceite de Oliva Extra\n",
      "PVP\t\t3.6449999999999996\n",
      "DESCRIPCIÓN\t250 ML\n",
      "PRODUCTOR\tLa Aceitera\n",
      "DISTRIBUIDOR\tDistribuciones SA\n"
     ]
    }
   ],
   "source": [
    "print(al)"
   ]
  },
  {
   "cell_type": "markdown",
   "metadata": {},
   "source": [
    "### Para crear una copia 100% nueva debemos utilizar el módulo copy:"
   ]
  },
  {
   "cell_type": "code",
   "execution_count": 19,
   "metadata": {},
   "outputs": [],
   "source": [
    "import copy\n",
    "\n",
    "copia_ad = copy.copy(ad)"
   ]
  },
  {
   "cell_type": "code",
   "execution_count": 20,
   "metadata": {},
   "outputs": [
    {
     "name": "stdout",
     "output_type": "stream",
     "text": [
      "REFERENCIA\t2034\n",
      "NOMBRE\t\tVaso adornado\n",
      "PVP\t\t15\n",
      "DESCRIPCIÓN\tVaso de porcelana adornado con árboles\n"
     ]
    }
   ],
   "source": [
    "print(copia_ad)"
   ]
  },
  {
   "cell_type": "code",
   "execution_count": 21,
   "metadata": {},
   "outputs": [],
   "source": [
    "copia_ad.pvp = 25"
   ]
  },
  {
   "cell_type": "code",
   "execution_count": 22,
   "metadata": {},
   "outputs": [
    {
     "name": "stdout",
     "output_type": "stream",
     "text": [
      "REFERENCIA\t2034\n",
      "NOMBRE\t\tVaso adornado\n",
      "PVP\t\t25\n",
      "DESCRIPCIÓN\tVaso de porcelana adornado con árboles\n"
     ]
    }
   ],
   "source": [
    "print(copia_ad)"
   ]
  },
  {
   "cell_type": "code",
   "execution_count": 23,
   "metadata": {},
   "outputs": [
    {
     "name": "stdout",
     "output_type": "stream",
     "text": [
      "REFERENCIA\t2034\n",
      "NOMBRE\t\tVaso adornado\n",
      "PVP\t\t15\n",
      "DESCRIPCIÓN\tVaso de porcelana adornado con árboles\n"
     ]
    }
   ],
   "source": [
    "print(ad)"
   ]
  },
  {
   "cell_type": "markdown",
   "metadata": {
    "collapsed": true
   },
   "source": [
    "## Polimorfismo. Ejemplo de vehiculos"
   ]
  },
  {
   "cell_type": "code",
   "execution_count": 6,
   "metadata": {},
   "outputs": [
    {
     "name": "stdout",
     "output_type": "stream",
     "text": [
      "USO NORMAL (SIN POLIMORFISMO)\n",
      "Me desplazo utilizando dos ruedas\n",
      "Me desplazo utilizando cuatro ruedas\n",
      "Me desplazo utilizando seis ruedas\n",
      "\n",
      "USO DE POLIMORFISMO\n",
      "Me desplazo utilizando seis ruedas\n",
      "Me desplazo utilizando dos ruedas\n"
     ]
    }
   ],
   "source": [
    "class Coche():\n",
    "    \n",
    "    def desplazamiento(self):\n",
    "        print(\"Me desplazo utilizando cuatro ruedas\")\n",
    "        \n",
    "class Moto():\n",
    "    \n",
    "    def desplazamiento(self):\n",
    "        print(\"Me desplazo utilizando dos ruedas\")\n",
    "        \n",
    "class Camion():\n",
    "    \n",
    "    def desplazamiento(self):\n",
    "        print(\"Me desplazo utilizando seis ruedas\")\n",
    "        \n",
    "# Programa principal, fuera de las clases\n",
    "\n",
    "print(\"USO NORMAL (SIN POLIMORFISMO)\")\n",
    "# Cada objeto instanciado de cada una de las 3 clases accede a su metodo desplazamiento\n",
    "miVehiculo = Moto()\n",
    "miVehiculo.desplazamiento()\n",
    "\n",
    "miVehiculo2 = Coche()\n",
    "miVehiculo2.desplazamiento()\n",
    "\n",
    "miVehiculo3 = Camion()\n",
    "miVehiculo3.desplazamiento()\n",
    "\n",
    "# Ahora usemos el polimorfismo. Vamos a crear un metodo que recibira por parametro un objeto del tipo vehiculo\n",
    "def desplazamientoVehiculo(vehiculo):\n",
    "    vehiculo.desplazamiento()\n",
    "   \n",
    "print(\"\\nUSO DE POLIMORFISMO\")\n",
    "miVehiculo4 = Camion()\n",
    "desplazamientoVehiculo(miVehiculo4)\n",
    "miVehiculo5 = Moto()\n",
    "desplazamientoVehiculo(miVehiculo5)"
   ]
  }
 ],
 "metadata": {
  "kernelspec": {
   "display_name": "Python 3",
   "language": "python",
   "name": "python3"
  },
  "language_info": {
   "codemirror_mode": {
    "name": "ipython",
    "version": 3
   },
   "file_extension": ".py",
   "mimetype": "text/x-python",
   "name": "python",
   "nbconvert_exporter": "python",
   "pygments_lexer": "ipython3",
   "version": "3.8.3"
  }
 },
 "nbformat": 4,
 "nbformat_minor": 1
}
