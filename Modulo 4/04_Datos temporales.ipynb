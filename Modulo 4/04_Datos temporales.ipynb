{
 "cells": [
  {
   "cell_type": "markdown",
   "metadata": {},
   "source": [
    "# El módulo datetime"
   ]
  },
  {
   "cell_type": "code",
   "execution_count": 2,
   "metadata": {},
   "outputs": [],
   "source": [
    "from datetime import datetime, date, time, timedelta"
   ]
  },
  {
   "cell_type": "markdown",
   "metadata": {},
   "source": [
    "## El objeto datetime"
   ]
  },
  {
   "cell_type": "code",
   "execution_count": 3,
   "metadata": {},
   "outputs": [],
   "source": [
    "dt = datetime.now() # Ahora"
   ]
  },
  {
   "cell_type": "code",
   "execution_count": 4,
   "metadata": {},
   "outputs": [
    {
     "name": "stdout",
     "output_type": "stream",
     "text": [
      "2022-06-06 12:55:32.499106\n",
      "2022\n",
      "6\n",
      "6\n",
      "12\n",
      "55\n",
      "32\n",
      "499106\n",
      "None\n"
     ]
    }
   ],
   "source": [
    "print(dt)\n",
    "print(dt.year) # año\n",
    "print(dt.month) # mes\n",
    "print(dt.day) # día\n",
    "print(dt.hour) # hora\n",
    "print(dt.minute) # minutos\n",
    "print(dt.second) # segundos\n",
    "print(dt.microsecond) # microsegundos\n",
    "print(dt.tzinfo) # zona horaria, nula por defecto"
   ]
  },
  {
   "cell_type": "code",
   "execution_count": 5,
   "metadata": {},
   "outputs": [
    {
     "name": "stdout",
     "output_type": "stream",
     "text": [
      "12:55:32\n",
      "6/6/2022\n"
     ]
    }
   ],
   "source": [
    "print(\"{}:{}:{}\".format(dt.hour, dt.minute, dt.second))\n",
    "print(\"{}/{}/{}\".format(dt.day, dt.month, dt.year))"
   ]
  },
  {
   "cell_type": "markdown",
   "metadata": {},
   "source": [
    "#### Crear un datetime manualmente (year, month, day, hour=0, minute=0, second=0, microsecond=0, tzinfo=None)\n",
    "*Notad que sólo son obligatorios el año, el mes y el día*"
   ]
  },
  {
   "cell_type": "code",
   "execution_count": 6,
   "metadata": {},
   "outputs": [
    {
     "name": "stdout",
     "output_type": "stream",
     "text": [
      "2019-02-28 10:15:00\n"
     ]
    }
   ],
   "source": [
    "dt = datetime(2019, 2, 28, 10, 15, 00, 00000)\n",
    "print(dt)"
   ]
  },
  {
   "cell_type": "code",
   "execution_count": 7,
   "metadata": {},
   "outputs": [
    {
     "ename": "AttributeError",
     "evalue": "attribute 'year' of 'datetime.date' objects is not writable",
     "output_type": "error",
     "traceback": [
      "\u001b[1;31m---------------------------------------------------------------------------\u001b[0m",
      "\u001b[1;31mAttributeError\u001b[0m                            Traceback (most recent call last)",
      "\u001b[1;32m~\\AppData\\Local\\Temp/ipykernel_16372/2186377556.py\u001b[0m in \u001b[0;36m<module>\u001b[1;34m\u001b[0m\n\u001b[1;32m----> 1\u001b[1;33m \u001b[0mdt\u001b[0m\u001b[1;33m.\u001b[0m\u001b[0myear\u001b[0m \u001b[1;33m=\u001b[0m \u001b[1;36m3000\u001b[0m \u001b[1;31m# Error en asignación\u001b[0m\u001b[1;33m\u001b[0m\u001b[1;33m\u001b[0m\u001b[0m\n\u001b[0m",
      "\u001b[1;31mAttributeError\u001b[0m: attribute 'year' of 'datetime.date' objects is not writable"
     ]
    }
   ],
   "source": [
    "dt.year = 3000 # Error en asignación"
   ]
  },
  {
   "cell_type": "code",
   "execution_count": 8,
   "metadata": {},
   "outputs": [
    {
     "name": "stdout",
     "output_type": "stream",
     "text": [
      "3000-02-28 10:15:00\n"
     ]
    }
   ],
   "source": [
    "dt = dt.replace(year=3000) # Asignación correcta con .replace()\n",
    "print(dt)"
   ]
  },
  {
   "cell_type": "markdown",
   "metadata": {},
   "source": [
    "#### Comparando fechas y horas: datetime.time() y date.today()"
   ]
  },
  {
   "cell_type": "code",
   "execution_count": 9,
   "metadata": {},
   "outputs": [
    {
     "name": "stdout",
     "output_type": "stream",
     "text": [
      "Horas:\n",
      "\tHora1: 10:05:00\n",
      "\tHora2: 23:15:00\n",
      "\tHora1 < Hora2: True\n",
      "Fechas:\n",
      "\tFecha1: 2022-06-06\n",
      "\tFecha2: 2022-06-08\n",
      "\tFecha1 > Fecha2: False\n"
     ]
    }
   ],
   "source": [
    "print(\"Horas:\")\n",
    "hora1 = time(10, 5, 0)  # Asigna 10h 5m 0s\n",
    "print(\"\\tHora1:\", hora1)\n",
    "hora2 = time(23, 15, 0)  # Asigna 23h 15m 0s\n",
    "print(\"\\tHora2:\", hora2)\n",
    "\n",
    "# Compara horas\n",
    "print(\"\\tHora1 < Hora2:\", hora1 < hora2)  # True\n",
    "\n",
    "print(\"Fechas:\")\n",
    "fecha1 = date.today()  # Asigna fecha actual\n",
    "print(\"\\tFecha1:\", fecha1)\n",
    "\n",
    "# Suma a la fecha actual 2 días\n",
    "fecha2 = date.today() + timedelta(days=2)\n",
    "print(\"\\tFecha2:\", fecha2)\n",
    "\n",
    "# Compara fechas\n",
    "print(\"\\tFecha1 > Fecha2:\", fecha1 > fecha2)  # False"
   ]
  },
  {
   "cell_type": "markdown",
   "metadata": {},
   "source": [
    "## Formateos\n",
    "### Formato automático ISO (Organización Internacional de Normalización) "
   ]
  },
  {
   "cell_type": "code",
   "execution_count": 10,
   "metadata": {},
   "outputs": [
    {
     "name": "stdout",
     "output_type": "stream",
     "text": [
      "2022-06-06 12:56:02.759196\n"
     ]
    }
   ],
   "source": [
    "dt = datetime.now()\n",
    "print(dt)"
   ]
  },
  {
   "cell_type": "code",
   "execution_count": 11,
   "metadata": {},
   "outputs": [
    {
     "name": "stdout",
     "output_type": "stream",
     "text": [
      "2022-06-06T12:56:02.759196\n"
     ]
    }
   ],
   "source": [
    "print(dt.isoformat())"
   ]
  },
  {
   "cell_type": "markdown",
   "metadata": {},
   "source": [
    "### Formateo munual (inglés por defecto)\n",
    "https://docs.python.org/3/library/datetime.html#strftime-and-strptime-behavior"
   ]
  },
  {
   "cell_type": "code",
   "execution_count": 12,
   "metadata": {},
   "outputs": [
    {
     "name": "stdout",
     "output_type": "stream",
     "text": [
      "Monday 06 June 2022 12:56\n"
     ]
    }
   ],
   "source": [
    "print(dt.strftime(\"%A %d %B %Y %I:%M\"))"
   ]
  },
  {
   "cell_type": "markdown",
   "metadata": {},
   "source": [
    "### Códigos de idiomas\n",
    "https://msdn.microsoft.com/es-es/es/library/cdax410z.aspx"
   ]
  },
  {
   "cell_type": "code",
   "execution_count": 13,
   "metadata": {},
   "outputs": [],
   "source": [
    "import locale"
   ]
  },
  {
   "cell_type": "code",
   "execution_count": 14,
   "metadata": {},
   "outputs": [
    {
     "data": {
      "text/plain": [
       "'en-US'"
      ]
     },
     "execution_count": 14,
     "metadata": {},
     "output_type": "execute_result"
    }
   ],
   "source": [
    "locale.setlocale(locale.LC_ALL, 'en-US') # Por defecto"
   ]
  },
  {
   "cell_type": "code",
   "execution_count": 15,
   "metadata": {},
   "outputs": [
    {
     "data": {
      "text/plain": [
       "'es-ES'"
      ]
     },
     "execution_count": 15,
     "metadata": {},
     "output_type": "execute_result"
    }
   ],
   "source": [
    "locale.setlocale(locale.LC_ALL, 'es-ES') # Establece idioma en \"es-ES\" (español de España)"
   ]
  },
  {
   "cell_type": "code",
   "execution_count": 16,
   "metadata": {},
   "outputs": [
    {
     "name": "stdout",
     "output_type": "stream",
     "text": [
      "lunes 06 junio 2022 12:56\n"
     ]
    }
   ],
   "source": [
    "print(dt.strftime(\"%A %d %B %Y %I:%M\"))"
   ]
  },
  {
   "cell_type": "code",
   "execution_count": 17,
   "metadata": {},
   "outputs": [
    {
     "name": "stdout",
     "output_type": "stream",
     "text": [
      "lunes 06 de junio del 2022 - 12:56\n"
     ]
    }
   ],
   "source": [
    "print(dt.strftime(\"%A %d de %B del %Y - %H:%M\")) # %I 12h - %H 24h"
   ]
  },
  {
   "cell_type": "markdown",
   "metadata": {},
   "source": [
    "## Sumando y restando tiempo con timedelta"
   ]
  },
  {
   "cell_type": "code",
   "execution_count": 7,
   "metadata": {},
   "outputs": [
    {
     "name": "stdout",
     "output_type": "stream",
     "text": [
      "2020-10-10 19:56:08.172138\n"
     ]
    }
   ],
   "source": [
    "dt = datetime.now()\n",
    "print(dt)"
   ]
  },
  {
   "cell_type": "code",
   "execution_count": 8,
   "metadata": {},
   "outputs": [
    {
     "name": "stdout",
     "output_type": "stream",
     "text": [
      "14 days, 4:16:40\n"
     ]
    }
   ],
   "source": [
    "t = timedelta(days=14, hours=4, seconds=1000)\n",
    "print(t)"
   ]
  },
  {
   "cell_type": "code",
   "execution_count": 9,
   "metadata": {},
   "outputs": [
    {
     "name": "stdout",
     "output_type": "stream",
     "text": [
      "2020-10-25 00:12:48.172138\n",
      "Sunday 25 de October del 2020 - 00:12\n"
     ]
    }
   ],
   "source": [
    "dentro_de_dos_semanas = dt + t\n",
    "print(dentro_de_dos_semanas)\n",
    "print(dentro_de_dos_semanas.strftime(\"%A %d de %B del %Y - %H:%M\"))"
   ]
  },
  {
   "cell_type": "code",
   "execution_count": 10,
   "metadata": {},
   "outputs": [
    {
     "name": "stdout",
     "output_type": "stream",
     "text": [
      "2020-09-26 15:39:28.172138\n",
      "Saturday 26 de September del 2020 - 15:39\n"
     ]
    }
   ],
   "source": [
    "hace_dos_semanas = dt - t\n",
    "print(hace_dos_semanas)\n",
    "print(hace_dos_semanas.strftime(\"%A %d de %B del %Y - %H:%M\"))"
   ]
  },
  {
   "cell_type": "markdown",
   "metadata": {},
   "source": [
    "## Calendar"
   ]
  },
  {
   "cell_type": "code",
   "execution_count": null,
   "metadata": {},
   "outputs": [],
   "source": [
    "import calendar"
   ]
  },
  {
   "cell_type": "code",
   "execution_count": null,
   "metadata": {},
   "outputs": [],
   "source": [
    "año = 2000\n",
    "mes = 11\n",
    "calendario = calendar.TextCalendar(calendar.MONDAY) # Se establece el lunes como primer día de la semana\n",
    "calendario.prmonth(año, mes) "
   ]
  },
  {
   "cell_type": "markdown",
   "metadata": {},
   "source": [
    "## Extra: Zonas horarias con pytz\n",
    "*pip3 install pytz*"
   ]
  },
  {
   "cell_type": "code",
   "execution_count": null,
   "metadata": {},
   "outputs": [],
   "source": [
    "import pytz"
   ]
  },
  {
   "cell_type": "code",
   "execution_count": null,
   "metadata": {
    "scrolled": true
   },
   "outputs": [],
   "source": [
    "pytz.all_timezones"
   ]
  },
  {
   "cell_type": "code",
   "execution_count": null,
   "metadata": {},
   "outputs": [],
   "source": [
    "print('\\n'.join(map(str, pytz.all_timezones))) "
   ]
  },
  {
   "cell_type": "code",
   "execution_count": null,
   "metadata": {},
   "outputs": [],
   "source": [
    "print(\"Codigo y nombre de los paises\")\n",
    "for key, val in pytz.country_names.items():\n",
    "    print(key, '=', val, end='\\n')"
   ]
  },
  {
   "cell_type": "code",
   "execution_count": null,
   "metadata": {},
   "outputs": [],
   "source": [
    "print(\"Timezones de los paises\")\n",
    "for key, val in pytz.country_timezones.items():\n",
    "    print(key, '=', val, end='\\n')"
   ]
  },
  {
   "cell_type": "code",
   "execution_count": null,
   "metadata": {},
   "outputs": [],
   "source": [
    "dt = datetime.now(pytz.timezone('Asia/Tokyo'))\n",
    "print(dt.strftime(\"%A %d de %B del %Y - %H:%M\")) # %I 12h - %H 24h"
   ]
  },
  {
   "cell_type": "markdown",
   "metadata": {},
   "source": [
    "## Practicando con varias zonas"
   ]
  },
  {
   "cell_type": "code",
   "execution_count": null,
   "metadata": {},
   "outputs": [],
   "source": [
    "import pytz\n",
    "import datetime\n",
    "\n",
    "# Momento actual en formato UTC (en el que se suele trabajar)\n",
    "now_utc = datetime.datetime.utcnow().replace(tzinfo = pytz.utc)\n",
    "# now_utc = datetime.datetime.now(pytz.utc) # Otra forma\n",
    "print(\"Fecha UTC:      \", now_utc)\n",
    "\n",
    "# Definir una zona\n",
    "kiev_tz = pytz.timezone('Europe/Kiev')\n",
    "print(kiev_tz.zone, end=\":     \")\n",
    "\n",
    "# Convertir el momento actual a la zona horaria indicada\n",
    "kiev_now = now_utc.astimezone(kiev_tz)\n",
    "print(kiev_now)\n",
    "\n",
    "# Definir otra zona\n",
    "madrid_tz = pytz.timezone('Europe/Madrid')\n",
    "print(madrid_tz.zone, end=\": \")\n",
    "\n",
    "# Convertir el momento actual a la zona horaria indicada\n",
    "madrid_now = now_utc.astimezone(madrid_tz)\n",
    "print(madrid_now)\n"
   ]
  },
  {
   "cell_type": "code",
   "execution_count": null,
   "metadata": {},
   "outputs": [],
   "source": []
  }
 ],
 "metadata": {
  "kernelspec": {
   "display_name": "Python 3 (ipykernel)",
   "language": "python",
   "name": "python3"
  },
  "language_info": {
   "codemirror_mode": {
    "name": "ipython",
    "version": 3
   },
   "file_extension": ".py",
   "mimetype": "text/x-python",
   "name": "python",
   "nbconvert_exporter": "python",
   "pygments_lexer": "ipython3",
   "version": "3.8.8"
  }
 },
 "nbformat": 4,
 "nbformat_minor": 1
}
