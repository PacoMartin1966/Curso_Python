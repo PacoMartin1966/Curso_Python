{
 "cells": [
  {
   "cell_type": "markdown",
   "metadata": {},
   "source": [
    "# Ejercicios Modulo 4. POO y algoritmos aplicados (Soluciones)\n",
    "\n",
    "Consideraciones a tener en cuenta: \n",
    "\n",
    "* Guardar este documento con el siguiente formato para su entrega: __M4_03_nombre_apellido1_apellido2__\n",
    "* Realizar los ejercicios con las herramientas vistas en las sesiones. \n",
    "* Comentar el código\n",
    "* Utilizar nombres de variables apropiados, si vais a guardar una nota, llamar a esa variable nota, no n o x"
   ]
  },
  {
   "cell_type": "markdown",
   "metadata": {},
   "source": [
    "# DATOS TEMPORALES"
   ]
  },
  {
   "cell_type": "markdown",
   "metadata": {},
   "source": [
    "**1) Dadas las dos siguientes fechas, que corresponden a las fechas de nacimiento de dos hermanos (en la zona horaria de Europe/Madrid), indica cual es la diferencia entre ellos en días, horas, minutos y segundos**"
   ]
  },
  {
   "cell_type": "code",
   "execution_count": null,
   "metadata": {},
   "outputs": [],
   "source": [
    "# Completa el ejercicio aquí\n",
    "from datetime import datetime\n",
    "import pytz\n",
    "\n",
    "hijo1 = datetime(1985, 10, 20, 17, 55)\n",
    "hijo2 = datetime(1992, 6, 25, 18, 30)\n",
    "\n",
    "# Completa el ejercicio aquí\n",
    "res = hijo2 - hijo1\n",
    "print(res.days , \"Días\")\n",
    "print(round(res.seconds/3600, 2) , \"Horas\") # El resultado de las horas son decimales\n",
    "print(res.seconds/60 , \"Minutos\")\n",
    "print(res.seconds % 60 , \"Segundos\")\n",
    "\n",
    "\n",
    "    "
   ]
  },
  {
   "cell_type": "markdown",
   "metadata": {},
   "source": [
    "**2) Crea una función que se llame formato_fecha() que reciba por parámetro una fecha del tipo datetime y nos devuelva el siguiente formato: \"20 de Abril del 2020\". Crea una tupla para almacenar el listado de meses. Prueba la función enviándole una fecha predefinida por ti y la fecha actual (now)**"
   ]
  },
  {
   "cell_type": "code",
   "execution_count": null,
   "metadata": {},
   "outputs": [],
   "source": [
    "# Completa el ejercicio aquí\n",
    "from datetime import datetime\n",
    "import pytz\n",
    "import locale\n",
    "\n",
    "locale.setlocale(locale.LC_ALL, 'es-ES') # Establece idioma en \"es-ES\" (español de España)\n",
    "\n",
    "def formato_fecha(fecha):\n",
    "    \n",
    "    print(fecha.strftime(\"%d de %B de %Y\"))\n",
    "\n",
    "meses = (\"Enero\", \"Febrero\", \"Marzo\", \"Abril\", \"Mayo\", \"Junio\", \"Julio\", \"Agosto\", \"Septiembre\", \"Octubre\", \"Noviembre\", \"Diciembre\")\n",
    "    \n",
    "fechadat = datetime(2020, 4, 20, 18, 30, 00, 00000) \n",
    "formato_fecha(fechadat)\n",
    "\n",
    "actual = datetime.now()\n",
    "formato_fecha(actual)"
   ]
  },
  {
   "cell_type": "markdown",
   "metadata": {},
   "source": [
    "**3) Utilizando strftime y formatea la fecha actual para que salga con el siguiente formato (sin los puntos):**\n",
    "* Día: 20\n",
    "* Mes: 04\n",
    "* Año: 2020\n",
    "* Hora: 16\n",
    "* Minutos: 19\n",
    "* Segundos (y milisegundos): 08.879057"
   ]
  },
  {
   "cell_type": "code",
   "execution_count": null,
   "metadata": {
    "scrolled": true
   },
   "outputs": [],
   "source": [
    "# Completa el ejercicio aquí\n",
    "from datetime import datetime\n",
    "import pytz\n",
    "import locale\n",
    "locale.setlocale(locale.LC_ALL, 'es-ES')\n",
    "\n",
    "fecha_actual = datetime.now()\n",
    "print(fecha_actual.strftime(\"%A %d %B %Y %I:%M %S %f\"))\n",
    "print(\"Día:\", fecha_actual.strftime(\"%d\"))\n",
    "print(\"Mes:\", fecha_actual.strftime(\"%m\"))\n",
    "print(\"Año:\", fecha_actual.strftime(\"%Y\"))\n",
    "print(\"Hora:\", fecha_actual.strftime(\"%H\"))\n",
    "print(\"Minutos:\", fecha_actual.strftime(\"%M\"))\n",
    "print(\"Segundos (y milisegundos):\", fecha_actual.strftime(\"%S.%f\"))"
   ]
  },
  {
   "cell_type": "code",
   "execution_count": null,
   "metadata": {},
   "outputs": [],
   "source": []
  }
 ],
 "metadata": {
  "anaconda-cloud": {},
  "kernelspec": {
   "display_name": "Python 3",
   "language": "python",
   "name": "python3"
  },
  "language_info": {
   "codemirror_mode": {
    "name": "ipython",
    "version": 3
   },
   "file_extension": ".py",
   "mimetype": "text/x-python",
   "name": "python",
   "nbconvert_exporter": "python",
   "pygments_lexer": "ipython3",
   "version": "3.8.3"
  }
 },
 "nbformat": 4,
 "nbformat_minor": 1
}
