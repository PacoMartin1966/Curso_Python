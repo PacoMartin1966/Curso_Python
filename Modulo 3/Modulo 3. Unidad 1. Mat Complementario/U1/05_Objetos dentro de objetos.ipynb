{
 "cells": [
  {
   "cell_type": "code",
   "execution_count": 1,
   "metadata": {},
   "outputs": [],
   "source": [
    "class Pelicula:\n",
    "    \n",
    "    # Constructor de clase\n",
    "    def __init__(self, titulo, duracion, lanzamiento):\n",
    "        self.titulo = titulo\n",
    "        self.duracion = duracion\n",
    "        self.lanzamiento = lanzamiento\n",
    "        print('Se ha creado la película:',self.titulo)\n",
    "        \n",
    "    def __str__(self):\n",
    "        return \"{} ({})\".format(self.titulo,self.lanzamiento)"
   ]
  },
  {
   "cell_type": "markdown",
   "metadata": {},
   "source": [
    "## Creando un catálogo de películas"
   ]
  },
  {
   "cell_type": "code",
   "execution_count": 2,
   "metadata": {},
   "outputs": [],
   "source": [
    "class Catalogo:\n",
    "    \n",
    "    peliculas = []  # Esta lista contendrá objetos de la clase Pelicula\n",
    "    \n",
    "    def __init__(self,peliculas=[]):\n",
    "        self.peliculas = peliculas\n",
    "        print('Se ha creado el catalogo')\n",
    "        \n",
    "    def agregar(self,p):  # p será un objeto Pelicula\n",
    "        self.peliculas.append(p)\n",
    "        print('Se ha agregado al catalogo la película: {}'.format(p.titulo))\n",
    "        \n",
    "    def mostrar(self):\n",
    "        for p in self.peliculas:\n",
    "            print(p)  # Print toma por defecto str(p)"
   ]
  },
  {
   "cell_type": "code",
   "execution_count": 3,
   "metadata": {},
   "outputs": [
    {
     "name": "stdout",
     "output_type": "stream",
     "text": [
      "Se ha creado la película: El Padrino\n",
      "Se ha creado el catalogo\n"
     ]
    }
   ],
   "source": [
    "p = Pelicula(\"El Padrino\",175,1972)\n",
    "c = Catalogo([p]) # Creamos el catalogo con una pelicula"
   ]
  },
  {
   "cell_type": "code",
   "execution_count": 4,
   "metadata": {},
   "outputs": [
    {
     "name": "stdout",
     "output_type": "stream",
     "text": [
      "El Padrino (1972)\n"
     ]
    }
   ],
   "source": [
    "c.mostrar()"
   ]
  },
  {
   "cell_type": "code",
   "execution_count": 24,
   "metadata": {},
   "outputs": [
    {
     "name": "stdout",
     "output_type": "stream",
     "text": [
      "Se ha creado la película: El Padrino: Parte 2\n",
      "Se ha agregado al catalogo la película: El Padrino: Parte 2\n"
     ]
    }
   ],
   "source": [
    "c.agregar(Pelicula(\"El Padrino: Parte 2\",202,1974))  # Añadimos una película directamente"
   ]
  },
  {
   "cell_type": "code",
   "execution_count": 25,
   "metadata": {},
   "outputs": [
    {
     "name": "stdout",
     "output_type": "stream",
     "text": [
      "El Padrino (1972)\n",
      "El Padrino: Parte 2 (1974)\n"
     ]
    }
   ],
   "source": [
    "c.mostrar()"
   ]
  },
  {
   "cell_type": "code",
   "execution_count": 29,
   "metadata": {},
   "outputs": [
    {
     "name": "stdout",
     "output_type": "stream",
     "text": [
      "Se ha creado el catalogo\n"
     ]
    }
   ],
   "source": [
    "# Tambien podemos crear un catalogo vacio\n",
    "c2 = Catalogo()\n",
    "c2.mostrar()"
   ]
  },
  {
   "cell_type": "code",
   "execution_count": 30,
   "metadata": {},
   "outputs": [
    {
     "name": "stdout",
     "output_type": "stream",
     "text": [
      "Se ha creado la película: Matrix\n",
      "Se ha creado la película: Matrix Reloaded\n",
      "Se ha creado la película: Matrix Revolutions\n",
      "Se ha creado el catalogo\n",
      "Matrix (1999)\n",
      "Matrix Reloaded (2003)\n",
      "Matrix Revolutions (2003)\n"
     ]
    }
   ],
   "source": [
    "# Y tambien podemos crear un catalogo con más peliculas\n",
    "pM1 = Pelicula(\"Matrix\",175,1999)\n",
    "pM2 = Pelicula(\"Matrix Reloaded\",175,2003)\n",
    "pM3 = Pelicula(\"Matrix Revolutions\",175,2003)\n",
    "c3 = Catalogo([pM1, pM2, pM3])\n",
    "c3.mostrar()"
   ]
  }
 ],
 "metadata": {
  "kernelspec": {
   "display_name": "Python 3",
   "language": "python",
   "name": "python3"
  },
  "language_info": {
   "codemirror_mode": {
    "name": "ipython",
    "version": 3
   },
   "file_extension": ".py",
   "mimetype": "text/x-python",
   "name": "python",
   "nbconvert_exporter": "python",
   "pygments_lexer": "ipython3",
   "version": "3.8.3"
  }
 },
 "nbformat": 4,
 "nbformat_minor": 1
}
