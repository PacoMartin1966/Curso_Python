{
 "cells": [
  {
   "cell_type": "markdown",
   "metadata": {},
   "source": [
    "# Ejercicios Modulo 2. Entrada y salida de datos (Soluciones)\n",
    "\n",
    "Consideraciones a tener en cuenta: \n",
    "\n",
    "* Guardar este documento con el siguiente formato para su entrega: __M2_04_nombre_apellido1_apellido2__\n",
    "* Realizar los ejercicios con las herramientas vistas en las sesiones. Aún no hemos llegado a condicionales ni bucles\n",
    "* Comentar el código\n",
    "* Utilizar nombres de variables apropiados, si vais a guardar una nota, llamar a esa variable nota, no n o x"
   ]
  },
  {
   "cell_type": "markdown",
   "metadata": {},
   "source": [
    "**1) Utiliza el método input() para realizar las siguientes tareas:**\n",
    "\n",
    "* Pide un número por teclado, muestra el resultado y su tipo (para conocer en que tipo de dato captura la información input())\n",
    "* Pide un número por teclado y asegúrate de que capturemos la información en formato int\n",
    "* Pide un número por teclado y asegúrate de que capturemos la información en formato float"
   ]
  },
  {
   "cell_type": "code",
   "execution_count": 2,
   "metadata": {},
   "outputs": [
    {
     "name": "stdout",
     "output_type": "stream",
     "text": [
      "Introduce un número: 6\n",
      "El valor introducido es 6 que es de tipo <class 'str'>\n"
     ]
    }
   ],
   "source": [
    "# Pide un número por teclado, muestra el resultado y su tipo (para conocer en que tipo de dato captura la información input())\n",
    "numero = input(\"Introduce un número: \")\n",
    "print(\"El valor introducido es\", numero, \"que es de tipo\", type(numero))"
   ]
  },
  {
   "cell_type": "code",
   "execution_count": 3,
   "metadata": {},
   "outputs": [
    {
     "name": "stdout",
     "output_type": "stream",
     "text": [
      "Introduce un número: 7\n",
      "El valor introducido es 7 que es de tipo <class 'int'>\n"
     ]
    }
   ],
   "source": [
    "# Pide un número por teclado y asegúrate de que capturemos la información en formato int\n",
    "numero = int(input(\"Introduce un número: \"))\n",
    "print(\"El valor introducido es\", numero, \"que es de tipo\", type(numero))"
   ]
  },
  {
   "cell_type": "code",
   "execution_count": 5,
   "metadata": {},
   "outputs": [
    {
     "name": "stdout",
     "output_type": "stream",
     "text": [
      "Introduce un número: 7.9\n",
      "El valor introducido es 7.9 que es de tipo <class 'float'>\n"
     ]
    }
   ],
   "source": [
    "# Pide un número por teclado y asegúrate de que capturemos la información en formato float\n",
    "numero = float(input(\"Introduce un número: \"))\n",
    "print(\"El valor introducido es\", numero, \"que es de tipo\", type(numero))\n",
    "    "
   ]
  },
  {
   "cell_type": "markdown",
   "metadata": {},
   "source": [
    "**2) Formatea los siguientes valores para mostrar el resultado indicado:**\n",
    "\n",
    "* \"Hola Mundo\" → Alineado a la derecha en 20 caracteres\n",
    "* \"Hola Mundo\" → Truncamiento en el cuarto carácter (índice 3)\n",
    "* \"Hola Mundo\" → Alineamiento al centro en 20 caracteres con truncamiento en el segundo carácter (índice 1)\n",
    "* 150 → Formateo a 5 números enteros rellenados con ceros\n",
    "* 7887 → Formateo a 7 números enteros rellenados con espacios\n",
    "* 20.02 → Formateo a 3 números enteros y 3 números decimales"
   ]
  },
  {
   "cell_type": "code",
   "execution_count": 8,
   "metadata": {},
   "outputs": [
    {
     "name": "stdout",
     "output_type": "stream",
     "text": [
      "          Hola Mundo\n"
     ]
    }
   ],
   "source": [
    "# \"Hola Mundo\" → Alineado a la derecha en 20 caracteres\n",
    "print( \"{:>20}\".format(\"Hola Mundo\")) "
   ]
  },
  {
   "cell_type": "code",
   "execution_count": 10,
   "metadata": {},
   "outputs": [
    {
     "name": "stdout",
     "output_type": "stream",
     "text": [
      "Hola\n"
     ]
    }
   ],
   "source": [
    "# \"Hola Mundo\" → Truncamiento en el cuarto carácter (índice 3)\n",
    "print( \"{:.4}\".format(\"Hola Mundo\"))"
   ]
  },
  {
   "cell_type": "code",
   "execution_count": 12,
   "metadata": {},
   "outputs": [
    {
     "name": "stdout",
     "output_type": "stream",
     "text": [
      "         Ho         \n"
     ]
    }
   ],
   "source": [
    "# \"Hola Mundo\" → Alineamiento al centro en 20 caracteres con truncamiento en el segundo carácter (índice 1)\n",
    "print( \"{:^20.2}\".format(\"Hola Mundo\"))"
   ]
  },
  {
   "cell_type": "code",
   "execution_count": 13,
   "metadata": {},
   "outputs": [
    {
     "name": "stdout",
     "output_type": "stream",
     "text": [
      "00150\n"
     ]
    }
   ],
   "source": [
    "# 150 → Formateo a 5 números enteros rellenados con ceros\n",
    "print(\"{:05d}\".format(150))"
   ]
  },
  {
   "cell_type": "code",
   "execution_count": 18,
   "metadata": {},
   "outputs": [
    {
     "name": "stdout",
     "output_type": "stream",
     "text": [
      "   7887\n"
     ]
    }
   ],
   "source": [
    "# 7887 → Formateo a 7 números enteros rellenados con espacios\n",
    "print(\"{:\" \"7d}\".format(7887))"
   ]
  },
  {
   "cell_type": "code",
   "execution_count": 20,
   "metadata": {},
   "outputs": [
    {
     "name": "stdout",
     "output_type": "stream",
     "text": [
      "020.020\n"
     ]
    }
   ],
   "source": [
    "# 20.02 → Formateo a 3 números enteros y 3 números decimales\n",
    "print(\"{:07.3f}\".format(20.02))"
   ]
  }
 ],
 "metadata": {
  "anaconda-cloud": {},
  "kernelspec": {
   "display_name": "Python 3",
   "language": "python",
   "name": "python3"
  },
  "language_info": {
   "codemirror_mode": {
    "name": "ipython",
    "version": 3
   },
   "file_extension": ".py",
   "mimetype": "text/x-python",
   "name": "python",
   "nbconvert_exporter": "python",
   "pygments_lexer": "ipython3",
   "version": "3.8.3"
  }
 },
 "nbformat": 4,
 "nbformat_minor": 1
}
