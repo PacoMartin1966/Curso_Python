{
 "cells": [
  {
   "cell_type": "markdown",
   "metadata": {},
   "source": [
    "# Trabajando con tipos de datos básicos\n",
    "# Tipo Lógico (boolean)\n",
    "Representa la mínima expresión racional:\n",
    "- Verdadero (True) # Equivalente a TRUE o 1 en otros lenguajes\n",
    "- Falso (False) # Equivalente a FALSE o 0 en otros lenguajes"
   ]
  },
  {
   "cell_type": "markdown",
   "metadata": {},
   "source": [
    "Los booleanos podremos unirlos a los operadores lógicos AND y OR (sí y no lógicos) para obtener combinaciones lógicas (tablas de verdad)\n",
    " * 0 y 0 = 0\n",
    " * 0 y 1 = 0\n",
    " * 1 y 0 = 0\n",
    " * 1 y 1 = 1\n",
    "<div><br></div>\n",
    " * 0 o 0 = 0\n",
    " * 0 o 1 = 1\n",
    " * 1 o 0 = 1\n",
    " * 1 o 1 = 1"
   ]
  },
  {
   "cell_type": "code",
   "execution_count": 3,
   "metadata": {},
   "outputs": [
    {
     "data": {
      "text/plain": [
       "True"
      ]
     },
     "execution_count": 3,
     "metadata": {},
     "output_type": "execute_result"
    }
   ],
   "source": [
    "True or False"
   ]
  },
  {
   "cell_type": "code",
   "execution_count": 2,
   "metadata": {},
   "outputs": [
    {
     "data": {
      "text/plain": [
       "False"
      ]
     },
     "execution_count": 2,
     "metadata": {},
     "output_type": "execute_result"
    }
   ],
   "source": [
    "True and False"
   ]
  },
  {
   "cell_type": "code",
   "execution_count": 1,
   "metadata": {},
   "outputs": [
    {
     "data": {
      "text/plain": [
       "False"
      ]
     },
     "execution_count": 1,
     "metadata": {},
     "output_type": "execute_result"
    }
   ],
   "source": [
    "not True"
   ]
  },
  {
   "cell_type": "markdown",
   "metadata": {},
   "source": [
    "Los booleanos se utilizan habitualmente para guardar en todo momento el estado de una propiedad o caracteristica. A continuación unos ejemplos:"
   ]
  },
  {
   "cell_type": "code",
   "execution_count": 5,
   "metadata": {},
   "outputs": [
    {
     "name": "stdout",
     "output_type": "stream",
     "text": [
      "False\n",
      "True\n"
     ]
    }
   ],
   "source": [
    "estaLloviendo = True\n",
    "estaHaciendoSol = True\n",
    "print(estaLloviendo)\n",
    "print(estaHaciendoSol)"
   ]
  }
 ],
 "metadata": {
  "kernelspec": {
   "display_name": "Python 3",
   "language": "python",
   "name": "python3"
  },
  "language_info": {
   "codemirror_mode": {
    "name": "ipython",
    "version": 3
   },
   "file_extension": ".py",
   "mimetype": "text/x-python",
   "name": "python",
   "nbconvert_exporter": "python",
   "pygments_lexer": "ipython3",
   "version": "3.8.3"
  }
 },
 "nbformat": 4,
 "nbformat_minor": 1
}
