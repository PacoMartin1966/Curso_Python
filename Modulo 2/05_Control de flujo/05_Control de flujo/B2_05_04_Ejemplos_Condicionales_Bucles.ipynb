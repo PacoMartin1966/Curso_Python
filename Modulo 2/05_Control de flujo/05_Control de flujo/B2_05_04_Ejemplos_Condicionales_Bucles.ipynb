{
 "cells": [
  {
   "cell_type": "markdown",
   "metadata": {},
   "source": [
    "# Ejemplos que combinan condicionales y bucles"
   ]
  },
  {
   "cell_type": "code",
   "execution_count": 1,
   "metadata": {},
   "outputs": [
    {
     "name": "stdout",
     "output_type": "stream",
     "text": [
      "0 es un número par\n",
      "1 es un número impar\n",
      "2 es un número par\n",
      "3 es un número impar\n",
      "4 es un número par\n",
      "5 es un número impar\n",
      "6 es un número par\n",
      "7 es un número impar\n",
      "8 es un número par\n",
      "9 es un número impar\n"
     ]
    }
   ],
   "source": [
    "n = 0\n",
    "while n < 10:\n",
    "    if (n % 2) == 0:\n",
    "        print(n,'es un número par')\n",
    "    else:\n",
    "        print(n,'es un número impar') \n",
    "    n = n + 1"
   ]
  },
  {
   "cell_type": "code",
   "execution_count": 9,
   "metadata": {},
   "outputs": [
    {
     "name": "stdout",
     "output_type": "stream",
     "text": [
      "Pais de habla española:  ES_España\n",
      "Pais de habla no registrado:  IT_Italia\n",
      "Pais de habla inglesa:  EN_Reino Unido\n",
      "Pais de habla inglesa:  EN_USA\n",
      "Pais de habla española:  ES_Argentina\n"
     ]
    }
   ],
   "source": [
    "idiomas=[\"ES_España\", \"IT_Italia\", \"EN_Reino Unido\", \"EN_USA\", \"ES_Argentina\"]\n",
    "for pais in idiomas:\n",
    "    #print(pais[:2]) # Para debug\n",
    "    if(pais[:2] == \"ES\"):\n",
    "        print(\"Pais de habla española: \", end=\" \")\n",
    "        print(pais)\n",
    "    elif(pais[:2] == \"EN\"):\n",
    "        print(\"Pais de habla inglesa: \", end=\" \")\n",
    "        print(pais)\n",
    "    else: \n",
    "        print(\"Pais de habla no registrado: \", end=\" \")\n",
    "        print(pais)"
   ]
  }
 ],
 "metadata": {
  "kernelspec": {
   "display_name": "Python 3",
   "language": "python",
   "name": "python3"
  },
  "language_info": {
   "codemirror_mode": {
    "name": "ipython",
    "version": 3
   },
   "file_extension": ".py",
   "mimetype": "text/x-python",
   "name": "python",
   "nbconvert_exporter": "python",
   "pygments_lexer": "ipython3",
   "version": "3.8.3"
  }
 },
 "nbformat": 4,
 "nbformat_minor": 1
}
