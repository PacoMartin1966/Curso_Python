{
 "cells": [
  {
   "cell_type": "markdown",
   "metadata": {},
   "source": [
    "# Condiciones y bucles\n",
    "\n",
    "* Condicionales: `if`, `elif`, `else`\n",
    "* Bucles `for`\n",
    "* Bucles `while`\n",
    "\n",
    "\n",
    "## Sentencia If (Si)\n",
    "Permite dividir el flujo de un programa en diferentes caminos. El if se ejecuta siempre que la expresión que comprueba devuelva True"
   ]
  },
  {
   "cell_type": "code",
   "execution_count": 1,
   "metadata": {},
   "outputs": [
    {
     "name": "stdout",
     "output_type": "stream",
     "text": [
      "Se cumple la condición\n",
      "También se muestre este print\n"
     ]
    }
   ],
   "source": [
    "if True:  # equivale a if not False\n",
    "    print(\"Se cumple la condición\")\n",
    "    print(\"También se muestre este print\")"
   ]
  },
  {
   "cell_type": "code",
   "execution_count": 11,
   "metadata": {},
   "outputs": [
    {
     "name": "stdout",
     "output_type": "stream",
     "text": [
      "Se cumple la condición\n",
      "También se muestre este print\n",
      "Este print no pertenece al IF\n"
     ]
    }
   ],
   "source": [
    "if True:  # equivale a if not False\n",
    "    print(\"Se cumple la condición\")\n",
    "    print(\"También se muestre este print\")\n",
    "print(\"Este print no pertenece al IF\")"
   ]
  },
  {
   "cell_type": "markdown",
   "metadata": {},
   "source": [
    "#### Podemos encadenas diferentes If"
   ]
  },
  {
   "cell_type": "code",
   "execution_count": 2,
   "metadata": {},
   "outputs": [
    {
     "name": "stdout",
     "output_type": "stream",
     "text": [
      "a vale 5\n"
     ]
    }
   ],
   "source": [
    "a = 5\n",
    "if a == 2:\n",
    "    print(\"a vale 2\")\n",
    "if a == 5:\n",
    "    print(\"a vale 5\")"
   ]
  },
  {
   "cell_type": "markdown",
   "metadata": {},
   "source": [
    "#### O también anidar If dentro de If"
   ]
  },
  {
   "cell_type": "code",
   "execution_count": 3,
   "metadata": {},
   "outputs": [
    {
     "name": "stdout",
     "output_type": "stream",
     "text": [
      "a vale 5\n",
      "y b vale 10\n"
     ]
    }
   ],
   "source": [
    "a = 5\n",
    "b = 10\n",
    "if a == 5:\n",
    "    print(\"a vale\",a)\n",
    "    if b == 10:\n",
    "        print(\"y b vale\",b)"
   ]
  },
  {
   "cell_type": "markdown",
   "metadata": {},
   "source": [
    "#### Como condición podemos evaluar múltiples expresiones, siempre que éstas devuelvan True o False"
   ]
  },
  {
   "cell_type": "code",
   "execution_count": 4,
   "metadata": {},
   "outputs": [
    {
     "name": "stdout",
     "output_type": "stream",
     "text": [
      "a vale 5 y b vale 10\n"
     ]
    }
   ],
   "source": [
    "if a==5 and b == 10:\n",
    "    print(\"a vale 5 y b vale 10\")"
   ]
  },
  {
   "cell_type": "markdown",
   "metadata": {},
   "source": [
    "# Sentencia Else (Sino)\n",
    "Se encadena a un If para comprobar el caso contrario (en el que no se cumple la condición)."
   ]
  },
  {
   "cell_type": "code",
   "execution_count": 1,
   "metadata": {},
   "outputs": [
    {
     "name": "stdout",
     "output_type": "stream",
     "text": [
      "6 es un número mayor o igual que 0\n"
     ]
    }
   ],
   "source": [
    "n = 6\n",
    "if n >= 0:\n",
    "    print(n,\"es un número mayor o igual que 0\")\n",
    "else:\n",
    "    print(n,\"es un número menor que 0\")"
   ]
  },
  {
   "cell_type": "code",
   "execution_count": 5,
   "metadata": {},
   "outputs": [
    {
     "name": "stdout",
     "output_type": "stream",
     "text": [
      "11 es un número impar\n"
     ]
    }
   ],
   "source": [
    "n = 11\n",
    "if n % 2 == 0:\n",
    "    print(n,\"es un número par\")\n",
    "else:\n",
    "    print(n,\"es un número impar\")"
   ]
  },
  {
   "cell_type": "markdown",
   "metadata": {},
   "source": [
    "# Sentencia Elif (Sino Si)\n",
    "Se encadena a un if u otro elif para comprobar múltiples condiciones, siempre que las anteriores no se ejecuten."
   ]
  },
  {
   "cell_type": "code",
   "execution_count": 2,
   "metadata": {},
   "outputs": [
    {
     "name": "stdout",
     "output_type": "stream",
     "text": [
      "Este comando no se reconoce\n"
     ]
    }
   ],
   "source": [
    "comando = \"OTRA COSA\"\n",
    "if comando == \"ENTRAR\":\n",
    "    print(\"Bienvenido al sistema\")\n",
    "elif comando == \"SALUDAR\":\n",
    "    print(\"Hola, espero que te lo estés pasando bien aprendiendo Python\")\n",
    "elif comando == \"SALIR\":\n",
    "    print(\"Saliendo del sistema...\")\n",
    "else:\n",
    "    print(\"Este comando no se reconoce\")"
   ]
  },
  {
   "cell_type": "code",
   "execution_count": 8,
   "metadata": {},
   "outputs": [
    {
     "name": "stdout",
     "output_type": "stream",
     "text": [
      "Introduce una nota: 10\n",
      "Sobresaliente\n"
     ]
    }
   ],
   "source": [
    "nota = float(input(\"Introduce una nota: \"))\n",
    "if nota >= 9:\n",
    "    print(\"Sobresaliente\")\n",
    "elif nota >= 7:\n",
    "    print(\"Notable\")\n",
    "elif nota >= 6:\n",
    "    print(\"Bien\")\n",
    "elif nota >= 5:\n",
    "    print(\"Suficiente\")\n",
    "else:\n",
    "    print(\"Insuficiente\")"
   ]
  },
  {
   "cell_type": "markdown",
   "metadata": {},
   "source": [
    "#### Es posible simular el funcionamiento de elif con if utilizando expresiones condicionales _(pero esto hace que se ejecuten todas las instrucciones aunque no haga falta)_"
   ]
  },
  {
   "cell_type": "code",
   "execution_count": 9,
   "metadata": {},
   "outputs": [
    {
     "name": "stdout",
     "output_type": "stream",
     "text": [
      "Introduce una nota: 8\n",
      "Notable\n"
     ]
    }
   ],
   "source": [
    "nota = float(input(\"Introduce una nota: \"))\n",
    "if nota >= 9:\n",
    "    print(\"Sobresaliente\")\n",
    "if nota >= 7 and nota < 9:\n",
    "    print(\"Notable\")\n",
    "if nota >= 6 and nota < 7:\n",
    "    print(\"Bien\")\n",
    "if nota >= 5 and nota < 6:\n",
    "    print(\"Suficiente\")\n",
    "if nota < 5:\n",
    "    print(\"Insuficiente\")"
   ]
  },
  {
   "cell_type": "markdown",
   "metadata": {},
   "source": [
    "## Alternativa al Switch\n",
    "El switch es una estructura condicional multiple, permite evaluar de manera rápida si un valor coincide con una gran lista de posibilidades. Ejemplo (si la variable dia vale 0, se escogerá Lunes, si la variable dia vale 1, se escogerá Martes, etc.): \n",
    "    <pre>switch(dia): \n",
    "        case 0: \"Lunes\",\n",
    "        case 1: \"Martes\",\n",
    "        case 2: \"Miercoles\",\n",
    "        case 3: \"Jueves\",\n",
    "        case 4: \"Viernes\",\n",
    "        case 5: \"Sabado\",\n",
    "        case 6: \"Domingo\",\n",
    "        default: \"Desconocido\"</pre>\n",
    "        \n",
    "Debido a que en Python han eliminado la estructura Switch, vamos a ver cual sería la alternativa para el siguiente ejemplo:"
   ]
  },
  {
   "cell_type": "code",
   "execution_count": 3,
   "metadata": {},
   "outputs": [
    {
     "name": "stdout",
     "output_type": "stream",
     "text": [
      "Dia de la semana que quiere mostrar (del 0 al 6): 2\n",
      "El dia 2 corresponde con: Miercoles\n"
     ]
    }
   ],
   "source": [
    "# Creamos un diccionario con las diferentes opciones:\n",
    "dias = {\n",
    "    0: \"Lunes\",\n",
    "    1: \"Martes\",\n",
    "    2: \"Miercoles\",\n",
    "    3: \"Jueves\",\n",
    "    4: \"Viernes\",\n",
    "    5: \"Sabado\",\n",
    "    6: \"Domingo\"\n",
    "}\n",
    "\n",
    "# Solicitamos al usuario que introduzca un numero del 0 al 6 para conocer el nombre del día de la semana\n",
    "opcionUsuario = int(input(\"Dia de la semana que quiere mostrar (del 0 al 6): \"))\n",
    "\n",
    "# Con el número introducido por el usuario, accedemos al diccionario y accedemos a ese clave-valor concreto\n",
    "nombreDia = dias.get(opcionUsuario, \"Desconocido\")\n",
    "\n",
    "# Mostramos el resultado\n",
    "print(\"El dia\", opcionUsuario, \"corresponde con:\", nombreDia)\n"
   ]
  },
  {
   "cell_type": "code",
   "execution_count": null,
   "metadata": {},
   "outputs": [],
   "source": []
  }
 ],
 "metadata": {
  "kernelspec": {
   "display_name": "Python 3",
   "language": "python",
   "name": "python3"
  },
  "language_info": {
   "codemirror_mode": {
    "name": "ipython",
    "version": 3
   },
   "file_extension": ".py",
   "mimetype": "text/x-python",
   "name": "python",
   "nbconvert_exporter": "python",
   "pygments_lexer": "ipython3",
   "version": "3.8.3"
  }
 },
 "nbformat": 4,
 "nbformat_minor": 1
}
