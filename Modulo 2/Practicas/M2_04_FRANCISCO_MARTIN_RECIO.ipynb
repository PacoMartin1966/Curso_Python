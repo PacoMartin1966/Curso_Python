{
 "cells": [
  {
   "cell_type": "markdown",
   "metadata": {},
   "source": [
    "# Ejercicios Modulo 2. Control de flujo (Soluciones)\n",
    "\n",
    "Consideraciones a tener en cuenta: \n",
    "\n",
    "* Guardar este documento con el siguiente formato para su entrega: __M2_05_nombre_apellido1_apellido2__\n",
    "* Realizar los ejercicios con las herramientas vistas en las sesiones. \n",
    "* Comentar el código\n",
    "* Utilizar nombres de variables apropiados, si vais a guardar una nota, llamar a esa variable nota, no n o x"
   ]
  },
  {
   "cell_type": "markdown",
   "metadata": {},
   "source": [
    "## Ejercicios de control de flujo"
   ]
  },
  {
   "cell_type": "markdown",
   "metadata": {},
   "source": [
    "**1) Realiza un programa que lea tres números por teclado y permita evaluar lo siguiente:** \n",
    "* Si los números están en orden ascendente\n",
    "* Si los números no están en orden ascendente\n",
    "* Si hay un error debido a que el primer número introducido es 0"
   ]
  },
  {
   "cell_type": "code",
   "execution_count": null,
   "metadata": {},
   "outputs": [],
   "source": [
    "# Completa el ejercicio aquí\n",
    "\n",
    "# Inicio de variables\n",
    "numeros = []\n",
    "error = False\n",
    "ascendente = 0\n",
    "\n",
    "# Pedimos al usuario que introduzca los números\n",
    "for i in range(3):\n",
    "    numero = float(input(\"Introduce el número: \"))\n",
    "    \n",
    "    # Verificamos si el número es un 0              \n",
    "    if numero == 0:\n",
    "        error = True \n",
    "        break        # Si es 0 ponemos la variable error a True\n",
    "        \n",
    "    numeros.append(numero) # Añadimos el número a la lista\n",
    "\n",
    "if not error:           # Si no tenemos ningún error evaluamos el orden ascendente\n",
    "    for i in numeros:\n",
    "        num = i\n",
    "        if num > ascendente:\n",
    "            ascendente = num\n",
    "            resultado = True\n",
    "        else:\n",
    "            resultado = False\n",
    "    if resultado:\n",
    "        print(\"La lista es ascendente\")\n",
    "    else:\n",
    "        print(\"La lista no está en orden ascendente\")\n",
    "else:\n",
    "    print(\"Error, el numero introducido es un 0, vuelva a intentarlo\")"
   ]
  },
  {
   "cell_type": "markdown",
   "metadata": {},
   "source": [
    "**2) Realiza un programa que realice el sumatorio de los primeros N números, empezando en 0, y siendo N el número límite que el usuario proporciona por teclado:** \n",
    "* Ejemplo de número límite introducido por el usuario: 5\n",
    "* sumatorio = 0 + 1 + 2 + 3 + 4 (sumamos los 5 primeros números)"
   ]
  },
  {
   "cell_type": "code",
   "execution_count": null,
   "metadata": {},
   "outputs": [],
   "source": [
    "# Completa el ejercicio aquí\n",
    "limite = int(input(\"Introduzca el número límite: \"))\n",
    "suma = 0\n",
    "for i in range(limite):\n",
    "    suma += i\n",
    "print(suma)"
   ]
  },
  {
   "cell_type": "markdown",
   "metadata": {},
   "source": [
    "**3) Realiza un programa que lea dos números por teclado y muestre el siguiente menú:** \n",
    "* Mostrar una suma de los dos números\n",
    "* Mostrar una resta de los dos números (el primero menos el segundo)\n",
    "* Mostrar una multiplicación de los dos números\n",
    "* En caso de no introducir una opción válida, el programa informará de que no es correcta."
   ]
  },
  {
   "cell_type": "code",
   "execution_count": null,
   "metadata": {},
   "outputs": [],
   "source": [
    "# Completa el ejercicio aquí\n",
    "\n",
    "# Pedimos al usuario que introduzca los números\n",
    "num1 = float(input(\"Introduzca el primer número: \"))\n",
    "num2 = float(input(\"Introduzca el segundo número: \"))\n",
    "\n",
    "# Mostramos por consola el menú de opciones para que el usuario elija\n",
    "print(\"\"\"1 - Mostrar una suma de los dos números\n",
    "2 - Mostrar una resta de los dos números (el primero menos el segundo)\n",
    "3 - Mostrar una multiplicación de los dos números\"\"\")\n",
    "opcion = int(input(\"Elige una opción (del 1 al 3)\"))\n",
    "\n",
    "# Evaluamos las opciones\n",
    "\n",
    "if opcion == 1:\n",
    "    suma = num1 + num2\n",
    "    print(\"El resultado de la suma de\", num1, \"+\", num2,\"es igual a:\", suma)\n",
    "elif opcion == 2:\n",
    "    resta = num1 - num2\n",
    "    print(\"El resultado de la resta de\", num1, \"-\", num2,\"es igual a:\", resta)\n",
    "elif opcion == 3:\n",
    "    multiplicacion = num1 * num2\n",
    "    print(\"El resultado de la multiplicacion de\", num1, \"-\", num2,\"es igual a:\", multiplicacion)\n",
    "else:\n",
    "    print(\"Opción no válida\")\n"
   ]
  },
  {
   "cell_type": "markdown",
   "metadata": {},
   "source": [
    "**4) Realiza un programa que lea letras y cuente con una variable contador las letras \"a\" que se introducen. Para salir del programa, introducir el carácter \".\". Al finalizar mostrar el número de veces que se ha pulsado la letra \"a\".**"
   ]
  },
  {
   "cell_type": "code",
   "execution_count": null,
   "metadata": {},
   "outputs": [],
   "source": [
    "# Completa el ejercicio aquí\n",
    "stop = True\n",
    "letra = 0\n",
    "# Iniciamos bucle\n",
    "while stop:\n",
    "    palabra = input(\"Introduzca una palabra: \")\n",
    "    for i in palabra:\n",
    "        if i == \"a\": # Comprobamos si contiene la letra a\n",
    "            letra +=1\n",
    "        if i == \".\":# Comprobamos si queremos salir\n",
    "            stop = False\n",
    "            break\n",
    "print(\"Se ha introducido la letra a\", letra, \"veces\") # Vemos por consola la cantidad de \"a\" que hemos introducido\n"
   ]
  },
  {
   "cell_type": "markdown",
   "metadata": {},
   "source": [
    "**5) Realiza un programa que lea por teclado un número impar. Debe repetirse el proceso mientras el usuario siga introduciendo números impares. Cuando introduzca un número par, el programa se detendrá.**"
   ]
  },
  {
   "cell_type": "code",
   "execution_count": null,
   "metadata": {},
   "outputs": [],
   "source": [
    "# Completa el ejercicio aquí\n",
    "\n",
    "resultado = True\n",
    "\n",
    "while resultado:\n",
    "    num = int(input(\"Intruduzca un número impar\"))\n",
    "    if num % 2 == 0:\n",
    "        resultado = False\n",
    "print(\"Ha introducido un número par, se ha detenido el programa.\")"
   ]
  },
  {
   "cell_type": "markdown",
   "metadata": {},
   "source": [
    "**6) Realiza un programa que sume todos los números pares desde el 0 hasta el 100:**\n",
    "\n",
    "*Sugerencia: Puedes utilizar la funciones sum() y range() para hacerlo más fácil. El tercer parámetro en la función range(inicio, fin, salto) indica un salto de números, pruébalo.*"
   ]
  },
  {
   "cell_type": "code",
   "execution_count": null,
   "metadata": {},
   "outputs": [],
   "source": [
    "# Completa el ejercicio aquí\n",
    "resultado = (sum(range(0, 101,2))) # Se introduce el valor 101 para poder incluir el número 100, sino quedaría excluido.\n",
    "print(\"El resultado de la suma es:\", resultado)\n",
    "\n"
   ]
  },
  {
   "cell_type": "markdown",
   "metadata": {},
   "source": [
    "**7) Realiza un programa que solicite al usuario un número que representa el total de números que se van a introducir. Posteriormente leer todos esos números y realizar la media aritmética de todos ellos:**"
   ]
  },
  {
   "cell_type": "code",
   "execution_count": null,
   "metadata": {},
   "outputs": [],
   "source": [
    "# Completa el ejercicio aquí\n",
    "cantidad = int(input(\"Introduzca la cantidad de números a introducir: \")) # Se introduce la cantidad de números\n",
    "\n",
    "suma = 0 # Iniciamos la variable a 0\n",
    "# realizamos la suma a la vez que se introducen los números\n",
    "for i in range(cantidad):\n",
    "    num = float(input(\"Introduzca un número: \"))\n",
    "    suma += num\n",
    "# Realizamos la media y la visualizamos por consola\n",
    "media = suma / cantidad\n",
    "print(\"La media aritmética es igual a :\", media)\n",
    "    "
   ]
  },
  {
   "cell_type": "markdown",
   "metadata": {},
   "source": [
    "**8) Realiza un programa que solicite al usuario un número entero del 0 al 9, y que mientras el número no sea correcto se repita el proceso. Luego debe comprobar si el número se encuentra en la lista de números y notificarlo:**\n",
    "\n",
    "*Consejo: La sintaxis \"valor in lista\" permite comprobar fácilmente si un valor se encuentra en una lista (devuelve True o False)*"
   ]
  },
  {
   "cell_type": "code",
   "execution_count": null,
   "metadata": {},
   "outputs": [],
   "source": [
    "# Completa el ejercicio aquí\n",
    "numeros = [1, 3, 6, 9]\n",
    "while True:\n",
    "    num = int(input(\"Introduce un número del 0 al 9: \"))\n",
    "    if num >= 0 and num <=9:\n",
    "        break\n",
    "if num in numeros:\n",
    "    print(\"El número\", num, \"se encuentra en la lista\")\n",
    "else:\n",
    "    print(\"El número\", num, \"no se encuentra en la lista\")\n"
   ]
  },
  {
   "cell_type": "markdown",
   "metadata": {},
   "source": [
    "**9) Realiza un programa que utilice la función range() y la conversión a listas genera las siguientes listas dinámicamente (y muéstralas con print):**\n",
    "\n",
    "* Todos los números del 0 al 10 [0, 1, 2, ..., 10]\n",
    "* Todos los números del -10 al 0 [-10, -9, -8, ..., 0]\n",
    "* Todos los números pares del 0 al 20 [0, 2, 4, ..., 20]\n",
    "* Todos los números impares entre -20 y 0 [-19, -17, -15, ..., -1]\n",
    "* Todos los números múltiples de 5 del 0 al 50 [0, 5, 10, ..., 50]\n",
    "\n",
    "*Pista: Utiliza el tercer parámetro de la función range(inicio, fin, salto).*"
   ]
  },
  {
   "cell_type": "code",
   "execution_count": null,
   "metadata": {},
   "outputs": [],
   "source": [
    "# Completa el ejercicio aquí\n",
    "lista1 = []\n",
    "lista2 = []\n",
    "lista3 = []\n",
    "lista4 = []\n",
    "lista5 = []\n",
    "for i in range(11):\n",
    "    lista1.append(i)\n",
    "print(\"Todos los números del 0 al 10\",lista1)\n",
    "\n",
    "for i in range(-10, 1):\n",
    "    lista2.append(i)\n",
    "print(\"Todos los números del -10 al 0\",lista2)\n",
    "\n",
    "for i in range(0, 21, 2):\n",
    "    lista3.append(i)\n",
    "print(\"Todos los números pares del 0 al 20\",lista3)\n",
    "\n",
    "for i in range(-19, 0, 2):\n",
    "    lista4.append(i)\n",
    "print(\"Todos los números impares entre -20 y 0\",lista4)\n",
    "\n",
    "for i in range(5, 51, 5):\n",
    "    lista5.append(i)\n",
    "print(\"Todos los números múltiples de 5 del 0 al 50\",lista5)"
   ]
  },
  {
   "cell_type": "markdown",
   "metadata": {},
   "source": [
    "**10) Realiza un programa que dadas dos listas, genere una tercera lista con todos los elementos que se repitan en ellas, pero no debe repetirse ningún elemento en la nueva lista:**"
   ]
  },
  {
   "cell_type": "code",
   "execution_count": null,
   "metadata": {},
   "outputs": [],
   "source": [
    "# Completa el ejercicio aquí\n",
    "lista_1 = [\"h\",'o','l','a',' ', 'm','u','n','d','o']\n",
    "lista_2 = [\"h\",'o','l','a',' ', 'l','u','n','a']\n",
    "lista_3 = []\n",
    "\n",
    "for i in lista_1:\n",
    "    for j in lista_2:\n",
    "        if i == j and i not in lista_3:\n",
    "            lista_3.append(i)\n",
    "        \n",
    "print(\"El resultado de la nueva lista es\\n\", lista_3)"
   ]
  },
  {
   "cell_type": "code",
   "execution_count": null,
   "metadata": {},
   "outputs": [],
   "source": []
  }
 ],
 "metadata": {
  "anaconda-cloud": {},
  "kernelspec": {
   "display_name": "Python 3",
   "language": "python",
   "name": "python3"
  },
  "language_info": {
   "codemirror_mode": {
    "name": "ipython",
    "version": 3
   },
   "file_extension": ".py",
   "mimetype": "text/x-python",
   "name": "python",
   "nbconvert_exporter": "python",
   "pygments_lexer": "ipython3",
   "version": "3.8.3"
  }
 },
 "nbformat": 4,
 "nbformat_minor": 1
}
