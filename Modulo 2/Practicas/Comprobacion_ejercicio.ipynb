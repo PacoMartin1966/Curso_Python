{
 "cells": [
  {
   "cell_type": "code",
   "execution_count": 1,
   "metadata": {
    "scrolled": true
   },
   "outputs": [
    {
     "name": "stdout",
     "output_type": "stream",
     "text": [
      "50\n",
      "15\n",
      "Hola Mundo\n",
      "Hola Hola \n",
      " \n",
      "ola \n"
     ]
    }
   ],
   "source": [
    "\n",
    "a = 10\n",
    "b = -5\n",
    "c = \"Hola \"\n",
    "\n",
    "\n",
    "\n",
    "print(a * 5)         # 50\n",
    "print(a - b)         # 5\n",
    "print(c + \"Mundo\")   # Hola Mundo\n",
    "print(c * 2)         # Hola Hola\n",
    "print(c[-1])         # espacio en blanco\n",
    "print(c[1:])         # Hola\n"
   ]
  },
  {
   "cell_type": "code",
   "execution_count": null,
   "metadata": {},
   "outputs": [],
   "source": []
  }
 ],
 "metadata": {
  "kernelspec": {
   "display_name": "Python 3",
   "language": "python",
   "name": "python3"
  },
  "language_info": {
   "codemirror_mode": {
    "name": "ipython",
    "version": 3
   },
   "file_extension": ".py",
   "mimetype": "text/x-python",
   "name": "python",
   "nbconvert_exporter": "python",
   "pygments_lexer": "ipython3",
   "version": "3.8.3"
  }
 },
 "nbformat": 4,
 "nbformat_minor": 4
}
