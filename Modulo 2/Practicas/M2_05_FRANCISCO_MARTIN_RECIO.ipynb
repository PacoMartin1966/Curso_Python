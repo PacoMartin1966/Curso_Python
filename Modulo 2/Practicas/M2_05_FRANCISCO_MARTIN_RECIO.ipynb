{
 "cells": [
  {
   "cell_type": "markdown",
   "metadata": {},
   "source": [
    "# Ejercicios Modulo 2. Funciones (Soluciones)\n",
    "\n",
    "Consideraciones a tener en cuenta: \n",
    "\n",
    "* Guardar este documento con el siguiente formato para su entrega: __M2_06_nombre_apellido1_apellido2__\n",
    "* Realizar los ejercicios con las herramientas vistas en las sesiones. \n",
    "* Comentar el código\n",
    "* Utilizar nombres de variables apropiados, si vais a guardar una nota, llamar a esa variable nota, no n o x"
   ]
  },
  {
   "cell_type": "markdown",
   "metadata": {},
   "source": [
    "**1) Realiza una función que devuelva el área de un rectángulo a partir de su base y su altura. La función se llamará area_rectangulo(). La base y la altura se pedirán al usuario por teclado.**\n",
    "\n",
    "*Nota: El área de un rectángulo se obtiene al multiplicar la base por la altura.*"
   ]
  },
  {
   "cell_type": "code",
   "execution_count": null,
   "metadata": {},
   "outputs": [],
   "source": [
    "# Completa el ejercicio aquí\n",
    "def area_rectangulo(b, a):\n",
    "    seccion = b * a\n",
    "    return seccion\n",
    "\n",
    "base = float(input(\"Introduzca el valor de la base del rectángulo :\"))\n",
    "altura = float(input(\"Introduzca el valor de la altura del rectángulo :\"))\n",
    "\n",
    "print(\"El resultado del cálculo del área del rectangulo es:\", area_rectangulo(base,altura))\n"
   ]
  },
  {
   "cell_type": "markdown",
   "metadata": {},
   "source": [
    "**2) Realiza una función que devuelva el área de un círculo a partir de un radio. La función se llamará area_circulo(). El radio se pedirá al usuario por teclado:**\n",
    "\n",
    "Nota: El área de un círculo se obtiene al elevar el radio a dos y multiplicando el resultado por el número pi. Puedes utilizar el valor 3.14159 como pi o importarlo del módulo math:\n",
    "```python\n",
    "import math\n",
    "print(math.pi)\n",
    "> 3.1415...\n",
    "```"
   ]
  },
  {
   "cell_type": "code",
   "execution_count": null,
   "metadata": {},
   "outputs": [],
   "source": [
    "# Completa el ejercicio aquí\n",
    "import math # Importamos la librería math\n",
    "\n",
    "# Función\n",
    "def area_circulo(r):\n",
    "    seccion = r**2 * math.pi\n",
    "    return seccion\n",
    "\n",
    "radio = float(input(\"Introduzca el valor del radio del círculo :\")) # Pedimos al usuario el valor del radio\n",
    "print(\"El área real del circulo es:\", area_circulo(radio)) # Imprimimos el resultado\n",
    "print(\"El área redondeado del circulo es:\", round(area_circulo(radio))) # Imprimimos el resultado redondeandolo\n"
   ]
  },
  {
   "cell_type": "markdown",
   "metadata": {},
   "source": [
    "**3) Realiza una función que a partir de dos números que se solicitan por teclado al usuario y que se llamará relacion(), cumpla lo siguiente:**\n",
    "\n",
    "* Si el primer número es mayor que el segundo, debe devolver 1.\n",
    "* Si el primer número es menor que el segundo, debe devolver -1.\n",
    "* Si ambos números son iguales, debe devolver un 0.\n",
    "\n",
    "**Comprueba la relación entre los números: '5 y 10', '10 y 5' y '5 y 5'**"
   ]
  },
  {
   "cell_type": "code",
   "execution_count": null,
   "metadata": {},
   "outputs": [],
   "source": [
    "# Completa el ejercicio aquí\n",
    "\n",
    "def relacion(num1, num2):\n",
    "    if num1 > num2:\n",
    "        return 1\n",
    "    elif num1 < num2:\n",
    "        return -1\n",
    "    else:\n",
    "        return 0\n",
    "    \n",
    "numero1 = int(input(\"Introduzca el primer número: \"))\n",
    "numero2 = int(input(\"Introduzca el segundo número: \"))\n",
    "\n",
    "print(relacion(numero1, numero2))\n",
    "    \n"
   ]
  },
  {
   "cell_type": "markdown",
   "metadata": {},
   "source": [
    "**4) Realiza una función llamada lee_numero() que solicite y lea por teclado un numero. Utilizar esta función para pedirle al usuario 3 números. Luego pasarle estos 3 números a una función que se llame mayor() que tenga 3 parámetros y que devuelva el número mayor de los 3:**"
   ]
  },
  {
   "cell_type": "code",
   "execution_count": null,
   "metadata": {},
   "outputs": [],
   "source": [
    "# Completa el ejercicio aquí\n",
    "\n",
    "def lee_numero():\n",
    "    numeros = []\n",
    "    for num in range(3):\n",
    "        numeros.append(int(input(\"Introduzca un número: \")))\n",
    "    return numeros\n",
    "\n",
    "def mayor(*numeros):\n",
    "    num = 0\n",
    "    for i in numeros:\n",
    "        if i > num:\n",
    "            num = i\n",
    "            \n",
    "    return num\n",
    "    \n",
    "    \n",
    "lista = lee_numero()\n",
    "numero1 = lista[0]\n",
    "numero2 = lista[1]\n",
    "numero2 = lista[2]\n",
    "print(\"El número mayor es:\", mayor(numero1, numero2, numero2 ))\n",
    "\n",
    "\n"
   ]
  },
  {
   "cell_type": "markdown",
   "metadata": {},
   "source": [
    "**5) Realizar una función llamada imc(). Esta función nos proporcionará el estado nutricional de una persona. Esto es; la clasificación de su índice de masa corporal (IMC), según la tabla proporcionada. La función recibirá el peso (en kilos) y la talla de una persona (en metros con dos decimales), datos a partir de los cuales se puede calcular el IMC cómo:**\n",
    "\n",
    "IMC = peso / (altura * altura)\n",
    "\n",
    "Clasificación: IMC (Kg/m^2)\n",
    "* Bajo peso:  < 18.50\n",
    "* Normal:      [18.50, 25.00)\n",
    "* Sobrepeso: >= 25.00\n",
    "* Obesidad: >= 30.00"
   ]
  },
  {
   "cell_type": "code",
   "execution_count": null,
   "metadata": {},
   "outputs": [],
   "source": [
    "# Completa el ejercicio aquí\n",
    "\n",
    "def imc(peso, talla):\n",
    "    imc = peso / (talla**2)\n",
    "    print(\"Su índice de masa corporal es de:\", round(imc))\n",
    "    if imc < 18.50:\n",
    "        print(\"Está usted bajo de peso\")\n",
    "    elif imc >= 18.50 and imc < 25.00:\n",
    "        print(\"Está usted perfecto\")\n",
    "    elif imc >= 25.00 and imc < 30.00:\n",
    "        print(\"Está usted con sobrepeso\")\n",
    "    elif imc >= 30.00:\n",
    "        print(\"Está usted obeso\")\n",
    "    else:\n",
    "        print(\"Cualquier otra situación\")\n",
    "    \n",
    "kilos = int(input(\"Introduzca su peso en Kg: \"))\n",
    "metros = float(input(\"Introduzca su altura en metros :\"))\n",
    "\n",
    "imc(kilos, metros)\n"
   ]
  },
  {
   "cell_type": "code",
   "execution_count": null,
   "metadata": {},
   "outputs": [],
   "source": []
  },
  {
   "cell_type": "code",
   "execution_count": null,
   "metadata": {},
   "outputs": [],
   "source": []
  }
 ],
 "metadata": {
  "anaconda-cloud": {},
  "kernelspec": {
   "display_name": "Python 3",
   "language": "python",
   "name": "python3"
  },
  "language_info": {
   "codemirror_mode": {
    "name": "ipython",
    "version": 3
   },
   "file_extension": ".py",
   "mimetype": "text/x-python",
   "name": "python",
   "nbconvert_exporter": "python",
   "pygments_lexer": "ipython3",
   "version": "3.8.3"
  }
 },
 "nbformat": 4,
 "nbformat_minor": 1
}
