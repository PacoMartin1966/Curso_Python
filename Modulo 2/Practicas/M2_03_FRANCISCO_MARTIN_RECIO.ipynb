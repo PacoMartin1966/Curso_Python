{
 "cells": [
  {
   "cell_type": "markdown",
   "metadata": {},
   "source": [
    "# Ejercicios Modulo 2. Tipos avanzados\n",
    "\n",
    "Consideraciones a tener en cuenta: \n",
    "\n",
    "* Guardar este documento con el siguiente formato para su entrega: __M2_03_nombre_apellido1_apellido2__\n",
    "* Realizar los ejercicios con las herramientas vistas en las sesiones. Aún no hemos llegado a condicionales ni bucles\n",
    "* Comentar el código\n",
    "* Utilizar nombres de variables apropiados, si vais a guardar una nota, llamar a esa variable nota, no n o x"
   ]
  },
  {
   "cell_type": "markdown",
   "metadata": {},
   "source": [
    "## Ejercicios de tipos avanzados"
   ]
  },
  {
   "cell_type": "markdown",
   "metadata": {},
   "source": [
    "**1) Trabajemos con listas y tuplas**\n",
    "* Crea una lista y una tupla que contenga strings (al menos 3 elementos). Temática libre, sobre lo que quieras, vehículos, comida, música, etc.\n",
    "* Muestra la lista y la tupla\n",
    "* Muestra el 2º elemento de la lista y el penúltimo de la tupla\n",
    "* Modifica (si se puede) algún elemento de la lista y de la tupla. Y mostrar el resultado\n",
    "* Muestra el tamaño de la lista y de la tupla\n",
    "* Realiza una búsqueda de un elemento dentro de la lista y de la tupla. Mostrar si devuelve True o False\n",
    "* Añade (si se puede) algún elemento a la lista y a la tupla. Mostrar de nuevo la lista y la tupla para verificar si se ha realizado correctamente la acción.\n",
    "* Borra o elimina (si se puede) el contenido de la lista y de la tupla. Mostrar de nuevo la lista y la tupla para verificar si se ha realizado correctamente la acción\n",
    "\n"
   ]
  },
  {
   "cell_type": "code",
   "execution_count": null,
   "metadata": {},
   "outputs": [],
   "source": [
    "# Completa el ejercicio aquí\n",
    "# Creacion\n",
    "lista = ['Tubo', 'Grapa', 'Abrazadera', 'Codo 90º', 'Codo 45º', 'Reducción']\n",
    "tupla = ('Electricidad', 'Agua', 'Gas', 'Telefonía', 'Alarma')\n",
    "\n",
    "# Mostrar\n",
    "print(lista)\n",
    "print(tupla)\n",
    "\n",
    "# Mostrar elementos especificos\n",
    "print(lista[1])\n",
    "print(tupla[-2])\n",
    "\n",
    "# Modificar\n",
    "lista[-1] = 'Ampliación'\n",
    "print(lista)\n",
    "# Las tuplas no se pueden modificar.\n",
    "\n",
    "# Tamaño\n",
    "print(len(lista))\n",
    "print(len(tupla))\n",
    "\n",
    "# Busqueda de elementos\n",
    "print('Ampliación' in lista)\n",
    "print('Reducción' in lista)\n",
    "print('Telefonía' in tupla)\n",
    "print('Obra' in tupla)\n",
    "\n",
    "# Añadir elementos\n",
    "lista.append('Cable')\n",
    "print(lista)\n",
    "# En las tuplas no se pueden añadir elementos a no ser que modifiquemos toda la tupla\n",
    "tupla = tupla + ('Obra nueva', 'Reformas')\n",
    "print(tupla)\n",
    "\n",
    "# Borrado\n",
    "lista = []\n",
    "tupla = ()\n",
    "print('El contenido de la lista es:', lista)\n",
    "print('El contenido de la tupla es:', tupla)"
   ]
  },
  {
   "cell_type": "markdown",
   "metadata": {},
   "source": [
    "**2) Trabajemos con sets y diccionarios**\n",
    "* Crea una set y un diccionario que contengan strings (al menos 3 elementos en el caso del set y 3 conjuntos de clave:valor en el caso del diccionario). Temática libre, sobre lo que quieras, vehículos, comida, música, etc.\n",
    "* Muestra el set y el diccionario\n",
    "* Muestra (si se puede) el 2º elemento del set y el valor del primer clave-valor del diccionario\n",
    "* Modifica (si se puede) algún elemento del set o del diccionario. Y mostrar el resultado\n",
    "* Muestra el tamaño del set y del diccionario\n",
    "* Realiza una búsqueda de un elemento dentro del set y dentro del diccionario. Mostrar si devuelve True o False\n",
    "* Añade (si se puede) algún elemento al set y algun clave-valor al diccionario. Mostrar de nuevo el set y el diccionario para verificar si se ha realizado correctamente la acción.\n",
    "* Borra o elimina (si se puede) el contenido del set y del diccionario. Mostrar de nuevo el set y el diccionario para verificar si se ha realizado correctamente la acción\n",
    "\n"
   ]
  },
  {
   "cell_type": "code",
   "execution_count": null,
   "metadata": {},
   "outputs": [],
   "source": [
    "# Completa el ejercicio aquí\n",
    "# Creacion\n",
    "conjunto = {'Seat', 'Renault', 'Peugeot', 'Citroën', 'Toyota', 'Suzuki'}\n",
    "diccionario = {'modeloUno' : 'Tarraco', 'modeloDos' : '405', 'modeloTres' : 'C3', 'modeloCuatro' : 'Megane'}\n",
    "\n",
    "# Mostrar\n",
    "print(conjunto)\n",
    "print(diccionario)\n",
    "\n",
    "\n",
    "# Mostrar elementos especificos\n",
    "'''\n",
    "No se puede acceder a los elementos de un conjunto set haciendo referencia a un índice, \n",
    "ya que los conjuntos no están ordenados, los elementos no tienen índice\n",
    "'''\n",
    "print(diccionario['modeloUno'])\n",
    "# Modificar\n",
    "#No se puede acceder a los elementos de un conjunto set haciendo referencia a un índice.\n",
    "diccionario['modeloUno'] = 'Ibiza'\n",
    "print(diccionario)\n",
    "\n",
    "# Tamaño\n",
    "print('El tamaño del conjunto es de', len(conjunto), 'elementos')\n",
    "print('El tamaño del diccionario es de', len(diccionario), 'elementos')\n",
    "\n",
    "# Busqueda de elementos\n",
    "#Set\n",
    "print('Suzuki' in conjunto)\n",
    "print('Hyundai' in conjunto)\n",
    "\n",
    "#Dicionario, solo realiza la busqueda en las claves\n",
    "print('modeloDos' in diccionario)\n",
    "print('modeloCinco' in diccionario)\n",
    "\n",
    "# Añadir elementos\n",
    "conjunto.add('Hyundai')\n",
    "print(conjunto)\n",
    "diccionario['modeloCinco'] = 'Altea'\n",
    "print(diccionario)\n",
    "\n",
    "# Borrado\n",
    "conjunto.remove('Suzuki')\n",
    "print(conjunto)\n",
    "diccionario.pop('modeloTres')\n",
    "print(diccionario)"
   ]
  },
  {
   "cell_type": "markdown",
   "metadata": {},
   "source": [
    "**3) Realizar un programa que pida al usuario 3 números que pueden ser flotantes (no es necesario realizar bucles aún, podemos repetir el código), estos números se deberán introducir en una lista. Cuando se haya finalizado la introducción de los datos, se mostrará el sumatorio de toda la lista. Guardar el sumatorio en una variable que se llame \"sumatorio\"**\n",
    "\n",
    "*Ayuda: Existe una función llamada sum(lista) ¡Pruébalo!*"
   ]
  },
  {
   "cell_type": "code",
   "execution_count": null,
   "metadata": {},
   "outputs": [],
   "source": [
    "# Completa el ejercicio aquí\n",
    "#lista = []\n",
    "numero = float(input('Introduce un número para añadir a la lista: '))\n",
    "lista.append(numero)\n",
    "print(lista)"
   ]
  },
  {
   "cell_type": "code",
   "execution_count": null,
   "metadata": {},
   "outputs": [],
   "source": [
    "sumatorio = sum(lista)\n",
    "print(sumatorio)"
   ]
  },
  {
   "cell_type": "markdown",
   "metadata": {},
   "source": [
    "**4) Sobre el ejercicio anterior, queremos mostrar la media aritmética de los elementos de esa lista. Indicar la instrucción necesaria para obtenerla.**\n",
    "\n",
    "*En este caso sabemos que el número de elementos que ha introducido el usuario es 3, pero en otra ocasión podría ser diferente, por lo tanto, no hagáis referencia al número 3 en ningún sitio*"
   ]
  },
  {
   "cell_type": "code",
   "execution_count": null,
   "metadata": {},
   "outputs": [],
   "source": [
    "# Completa el ejercicio aquí\n",
    "cantidad = (len(lista))\n",
    "media = sumatorio/cantidad\n",
    "print('El resultado de la media aritmética de', lista, 'es:', media)\n"
   ]
  },
  {
   "cell_type": "markdown",
   "metadata": {},
   "source": [
    "**5) Dada la siguiente matriz (lista con cuatro listas anidadas) se observa que en cada fila, el cuarto elemento siempre debe ser el resultado de sumar los tres primeros. \n",
    "Pista: Modifica las sumas erróneas utilizando slicing**"
   ]
  },
  {
   "cell_type": "code",
   "execution_count": 2,
   "metadata": {},
   "outputs": [
    {
     "name": "stdout",
     "output_type": "stream",
     "text": [
      "6\n",
      "[[1, 1, 1, 3], [2, 2, 2, 6], [3, 3, 3, 9], [4, 4, 4, 13]]\n",
      "12\n",
      "[[1, 1, 1, 3], [2, 2, 2, 6], [3, 3, 3, 9], [4, 4, 4, 12]]\n"
     ]
    }
   ],
   "source": [
    "matriz = [ \n",
    "    [1, 1, 1, 3],\n",
    "    [2, 2, 2, 7],\n",
    "    [3, 3, 3, 9],\n",
    "    [4, 4, 4, 13]\n",
    "]\n",
    "\n",
    "# Completa el ejercicio aquí\n",
    "# Sumamos los tres valores y se lo asignamos a una variable\n",
    "matriz1 = matriz[1][0] + matriz[1][1] +matriz[1][2]\n",
    "# Verificamos el resultado\n",
    "print(matriz1)\n",
    "# Asignamos en el cuarto puesto el resultado\n",
    "matriz[1][-1] = matriz1\n",
    "# Verificamos el resultado\n",
    "print(matriz)\n",
    "\n",
    "\n",
    "# Sumamos los tres valores y se lo asignamos a una variable\n",
    "matriz2 = matriz[3][0] + matriz[3][1] +matriz[3][2]\n",
    "# Verificamos el resultado\n",
    "print(matriz2)\n",
    "# Asignamos en el cuarto puesto el resultado\n",
    "matriz[3][3] = matriz2\n",
    "# Verificamos el resultado\n",
    "print(matriz)\n"
   ]
  },
  {
   "cell_type": "markdown",
   "metadata": {},
   "source": [
    "**6) Supongamos que obtenemos una cadena de texto corrupta, esta al revés. Esta cadena contiene el nombre y la nota de un alumno. Formatear dicha cadena para obtener el siguiente formato:**\n",
    "\n",
    "* ***Nombre*** ***Apellido*** ha sacado un ***Nota*** de nota.\n",
    "\n",
    "*Pista: Para voltear una cadena usando técnicas de slicing se puede utilizar un tercer índice -1: cadena[::-1]*"
   ]
  },
  {
   "cell_type": "code",
   "execution_count": null,
   "metadata": {},
   "outputs": [],
   "source": [
    "cadena = \"zereP solraC,01\"\n",
    "\n",
    "# Completa el ejercicio aquí\n",
    "nombreApellido = cadena[11::-1]\n",
    "#print(nombreApellido)\n",
    "nota = cadena[-1:-3:-1]\n",
    "#print(nota)\n",
    "print(nombreApellido, 'ha sacado un', nota, 'de nota.')\n"
   ]
  },
  {
   "cell_type": "markdown",
   "metadata": {},
   "source": [
    "**7) Realizar un programa que cumpla las siguientes instrucciones:**\n",
    "* Crear un conjunto llamado usuarios con los usuarios Marta, David, Elvira, Juan y Marcos\n",
    "* Crear un conjunto llamado administradores con los administradores Juan y Marta.\n",
    "* Borra al administrador Juan del conjunto de administradores.\n",
    "* Añade a Marcos como un nuevo administrador, pero no lo borres del conjunto de usuarios.\n",
    "* Muestra todos los usuarios por pantalla de forma dinámica, además debes indicar cada usuario es administrador o no.\n",
    "\n",
    "*Notas: Los conjuntos se pueden recorrer dinámicamente utilizando el bucle for de forma similar a una lista. También cuentan con un método llamado **.discard(elemento)** que sirve para borrar un elemento.* "
   ]
  },
  {
   "cell_type": "code",
   "execution_count": null,
   "metadata": {},
   "outputs": [],
   "source": [
    "# Completa el ejercicio aquí\n",
    "usuarios = { 'Marta', 'David', 'Elvira', 'Juan', 'Marcos'}\n",
    "administradores = {'Juan', 'Marta'}\n",
    "administradores.discard('Juan')\n",
    "administradores.add('Juan')\n",
    "for x in usuarios:\n",
    "    print(x, 'Administrador: ', x in administradores)\n"
   ]
  },
  {
   "cell_type": "markdown",
   "metadata": {},
   "source": [
    "**8) Realizar un programa basado en un videojuego que tiene determinados jugadores con características a nivel 2 de forma predeterminada. Se deben cumplir las siguientes condiciones:**\n",
    "* El caballero tiene el doble de vida y defensa que un guerrero.\n",
    "* El guerrero tiene el doble de ataque y alcance que un caballero.\n",
    "* El arquero tiene la misma vida y ataque que un guerrero, pero la mitad de su defensa y el doble de su alcance.\n",
    "* Muestra como quedan las propiedades de los tres personajes."
   ]
  },
  {
   "cell_type": "code",
   "execution_count": null,
   "metadata": {},
   "outputs": [],
   "source": [
    "caballero = { 'vida':2, 'ataque':2, 'defensa': 2, 'alcance':2 }\n",
    "guerrero  = { 'vida':2, 'ataque':2, 'defensa': 2, 'alcance':2 }\n",
    "arquero   = { 'vida':2, 'ataque':2, 'defensa': 2, 'alcance':2 }\n",
    "\n",
    "# Completa el ejercicio aquí\n",
    "# Imprimimos por consola los valores iniciales\n",
    "print('Valores iniciales')\n",
    "print('Caballero', caballero)\n",
    "print('Guerrero', guerrero)\n",
    "print('Arquero', arquero)\n",
    "print('.'*52)\n",
    "\n",
    "# Calculamos los valors del caballero\n",
    "\n",
    "vidaCaballero = (guerrero['vida'])*2\n",
    "defensaCaballero = (guerrero['defensa'])*2\n",
    "caballero['vida'] = vidaCaballero\n",
    "caballero['defensa'] = defensaCaballero\n",
    "\n",
    "#Calculamos los valores del guerrero mediante una variable intermedia\n",
    "\n",
    "ataqueGuerrero = (caballero['ataque'])*2\n",
    "alcanceGuerrero = (caballero['alcance'])*2\n",
    "guerrero['ataque'] = ataqueGuerrero\n",
    "guerrero['alcance'] = alcanceGuerrero\n",
    "\n",
    "#Calculamos los valores del arquero directamente\n",
    "\n",
    "arquero['vida'] = guerrero['vida']\n",
    "arquero['ataque'] = guerrero['ataque']\n",
    "arquero['defensa'] = guerrero['defensa']//2\n",
    "arquero['alcance'] = guerrero['alcance']*2\n",
    "\n",
    "# Imprimimos por consola los valores finales\n",
    "\n",
    "print('Valores finales')\n",
    "print('Caballero', caballero)\n",
    "print('Guerrero', guerrero)\n",
    "print('Arquero', arquero)\n",
    "\n",
    "# Lo visualizamos de diferente lectura\n",
    "print('.'*52)\n",
    "print('CABALLERO')\n",
    "for x, y in caballero.items():\n",
    "    print(x, \":\", y)\n",
    "\n",
    "\n",
    "print('.'*52)\n",
    "print('GUERRERO')\n",
    "for x, y in guerrero.items():\n",
    "    print(x, \":\", y)\n",
    "\n",
    "\n",
    "print('.'*52)\n",
    "print('ARQUERO')\n",
    "for x, y in arquero.items():\n",
    "    print(x, \":\", y)"
   ]
  },
  {
   "cell_type": "code",
   "execution_count": null,
   "metadata": {},
   "outputs": [],
   "source": []
  }
 ],
 "metadata": {
  "anaconda-cloud": {},
  "kernelspec": {
   "display_name": "Python 3",
   "language": "python",
   "name": "python3"
  },
  "language_info": {
   "codemirror_mode": {
    "name": "ipython",
    "version": 3
   },
   "file_extension": ".py",
   "mimetype": "text/x-python",
   "name": "python",
   "nbconvert_exporter": "python",
   "pygments_lexer": "ipython3",
   "version": "3.8.3"
  }
 },
 "nbformat": 4,
 "nbformat_minor": 1
}
