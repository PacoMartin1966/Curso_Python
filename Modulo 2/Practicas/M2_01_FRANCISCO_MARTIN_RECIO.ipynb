{
 "cells": [
  {
   "cell_type": "markdown",
   "metadata": {},
   "source": [
    "# Ejercicios Modulo 2. Tipos básicos\n",
    "\n",
    "Consideraciones a tener en cuenta: \n",
    "\n",
    "* Guardar este documento con el siguiente formato para su entrega: __M2_01_nombre_apellido1_apellido2__\n",
    "* Realizar los ejercicios con las herramientas vistas en las sesiones. Aún no hemos llegado a condicionales ni bucles\n",
    "* Comentar el código\n",
    "* Utilizar nombres de variables apropiados, si vais a guardar una nota, llamar a esa variable nota, no n o x"
   ]
  },
  {
   "cell_type": "markdown",
   "metadata": {},
   "source": [
    "## Ejercicios de tipos de variables básicos"
   ]
  },
  {
   "cell_type": "markdown",
   "metadata": {},
   "source": [
    "**1) Identifica los tipos de dato (entero, real, booleano o texto) de los siguientes valores:**\n",
    "```python\n",
    "\"Hola Mundo\"        # String\n",
    "True                # Boolean\n",
    "-25                 # interger\n",
    "1.167               # float\n",
    "' '                 # String\n",
    "```"
   ]
  },
  {
   "cell_type": "markdown",
   "metadata": {},
   "source": [
    "**2) Indica el resultado que mostrarán los print en base a estas variables (sin necesidad de programar, mentalmente):**\n",
    "```python\n",
    "a = 10\n",
    "b = -5\n",
    "c = \"Hola \"\n",
    "```\n",
    "\n",
    "```python\n",
    "print(a * 5)         # 50\n",
    "print(a - b)         # 15\n",
    "print(c + \"Mundo\")   # Hola Mundo\n",
    "print(c * 2)         # Hola Hola\n",
    "print(c[-1])         #    espacio en blanco\n",
    "print(c[1:])         # ola\n",
    "```"
   ]
  },
  {
   "cell_type": "markdown",
   "metadata": {},
   "source": [
    "**3) Almacenar 3 variables con 3 strings diferentes, uno de ellos tienen que ser 50 puntos (.) generados de una forma automática. Crear una cuarta variable que sea la concatenación de los 3 strings, unidos con un guion \"-\". Finalmente mostrar esta cuarta variable de forma completa y mostrando únicamente los 5 primeros caracteres y los 5 últimos.**"
   ]
  },
  {
   "cell_type": "code",
   "execution_count": 7,
   "metadata": {},
   "outputs": [
    {
     "name": "stdout",
     "output_type": "stream",
     "text": [
      "..................................................-Juan-Gutierrez\n",
      ".....\n",
      "errez\n"
     ]
    }
   ],
   "source": [
    "# Completa el ejercicio aquí\n",
    "separador = (50 * \".\")\n",
    "nombre = \"Juan\"\n",
    "primerApellido = \"Gutierrez\"\n",
    "cliente = (separador + \"-\" + nombre + \"-\" + primerApellido)\n",
    "print(cliente)\n",
    "print(cliente[:5])\n",
    "print(cliente[-5:])\n",
    "\n",
    "\n"
   ]
  },
  {
   "cell_type": "code",
   "execution_count": null,
   "metadata": {},
   "outputs": [],
   "source": []
  }
 ],
 "metadata": {
  "anaconda-cloud": {},
  "kernelspec": {
   "display_name": "Python 3",
   "language": "python",
   "name": "python3"
  },
  "language_info": {
   "codemirror_mode": {
    "name": "ipython",
    "version": 3
   },
   "file_extension": ".py",
   "mimetype": "text/x-python",
   "name": "python",
   "nbconvert_exporter": "python",
   "pygments_lexer": "ipython3",
   "version": "3.8.3"
  }
 },
 "nbformat": 4,
 "nbformat_minor": 1
}
