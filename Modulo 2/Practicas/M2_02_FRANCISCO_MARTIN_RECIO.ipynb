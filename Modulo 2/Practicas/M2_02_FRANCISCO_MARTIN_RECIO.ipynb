{
 "cells": [
  {
   "cell_type": "markdown",
   "metadata": {},
   "source": [
    "# Ejercicios Modulo 2. Operadores\n",
    "\n",
    "Consideraciones a tener en cuenta: \n",
    "\n",
    "* Guardar este documento con el siguiente formato para su entrega: __M2_02_nombre_apellido1_apellido2__\n",
    "* Realizar los ejercicios con las herramientas vistas en las sesiones. Aún no hemos llegado a condicionales ni bucles\n",
    "* Comentar el código\n",
    "* Utilizar nombres de variables apropiados, si vais a guardar una nota, llamar a esa variable nota, no n o x"
   ]
  },
  {
   "cell_type": "markdown",
   "metadata": {},
   "source": [
    "## Ejercicios de operadores y expresiones"
   ]
  },
  {
   "cell_type": "markdown",
   "metadata": {},
   "source": [
    "**1) Almacenar 3 variables con 3 notas numéricas y realizar la media aritmética. Mostrar el resultado final con un mensaje como este: \"La nota media es 6.0\"**"
   ]
  },
  {
   "cell_type": "code",
   "execution_count": 5,
   "metadata": {},
   "outputs": [
    {
     "name": "stdout",
     "output_type": "stream",
     "text": [
      "La nota media es 6.0\n"
     ]
    }
   ],
   "source": [
    "# Completa el ejercicio aquí\n",
    "notaUno = 4\n",
    "notaDos = 8\n",
    "notaTres = 6\n",
    "\n",
    "# Calculamos la media aritmética\n",
    "notaMedia = (notaUno + notaDos + notaTres)/3\n",
    "\n",
    "# Imprimimos por consola el resultado\n",
    "print(\"La nota media es\" , notaMedia)\n"
   ]
  },
  {
   "cell_type": "markdown",
   "metadata": {},
   "source": [
    "**2) Continuemos el ejercicio anterior. Cada nota tiene el siguiente valor porcentual:**\n",
    "\n",
    "* 1ª nota: vale un 15% del total\n",
    "* 2ª nota: vale un 35% del total\n",
    "* 3ª nota: vale un 50% del total\n",
    "\n",
    "**Calcular la nota media final.**"
   ]
  },
  {
   "cell_type": "code",
   "execution_count": 29,
   "metadata": {},
   "outputs": [
    {
     "name": "stdout",
     "output_type": "stream",
     "text": [
      "El valor porcentual de la nota media es 59.5 %\n"
     ]
    }
   ],
   "source": [
    "nota_1 = 10\n",
    "nota_2 = 7\n",
    "nota_3 = 4\n",
    "\n",
    "# Completa el ejercicio aquí\n",
    "\n",
    "# Realizamos los cálculos\n",
    "\n",
    "valorPorcentual = nota_1*15/10 + nota_2*35/10 +nota_3*50/10\n",
    "\n",
    "# Imprimimos el resultado por consola\n",
    "print(\"El valor porcentual de la nota media es\" , valorPorcentual , \"%\")\n"
   ]
  },
  {
   "cell_type": "markdown",
   "metadata": {},
   "source": [
    "**3) Leer 2 números por teclado y evaluar de forma booleana (True o False) los siguientes aspectos:**\n",
    "* Si los dos números son iguales\n",
    "* Si los dos números son diferentes\n",
    "* Si el primero es mayor que el segundo\n",
    "* Si el segundo es mayor o igual que el primero"
   ]
  },
  {
   "cell_type": "code",
   "execution_count": 54,
   "metadata": {},
   "outputs": [
    {
     "name": "stdout",
     "output_type": "stream",
     "text": [
      "Introduce el primer número: 10\n",
      "Introduce el segundo número: 20\n",
      "¿Son iguales los números? False\n",
      "¿Los números son diferentes? True\n",
      "¿El primer número es mayor que el segundo? False\n",
      "¿Es el segundo número mayor o igual que el primero? True\n"
     ]
    }
   ],
   "source": [
    "# Completa el ejercicio aquí\n",
    "\n",
    "# Pedimos al usuario que introduzca los dos números\n",
    "primerNumero = int(input(\"Introduce el primer número: \"))\n",
    "segundoNumero = int(input(\"Introduce el segundo número: \"))\n",
    "\n",
    "# Comparamos y visualizamos por consola si los números son iguales\n",
    "resultadoIgual = (primerNumero == segundoNumero)\n",
    "print(\"¿Son iguales los números?\" , resultadoIgual)\n",
    "\n",
    "# Comparamos y visualizamos por consola si los números son diferentes\n",
    "resultadoDesigual = (primerNumero != segundoNumero)\n",
    "print(\"¿Los números son diferentes?\" , resultadoDesigual)\n",
    "\n",
    "# Comparamos y visualizamos por consola si el primero es mayor que el segundo\n",
    "resultadoMayor = (primerNumero > segundoNumero)\n",
    "print(\"¿El primer número es mayor que el segundo?\" , resultadoMayor)\n",
    "\n",
    "# Comparamos y visualizamos por consola si el primero es mayor que el segundo\n",
    "resultadoMayorIgual = (segundoNumero  >= primerNumero)\n",
    "print(\"¿Es el segundo número mayor o igual que el primero?\" , resultadoMayorIgual)\n"
   ]
  },
  {
   "cell_type": "markdown",
   "metadata": {},
   "source": [
    "**4) Leer una cadena de texto introducida por teclado y evaluar si tiene una longitud mayor o igual que tres y menor que diez (mostrar únicamente True o False)\n",
    "Pista: Utiliza operadores lógicos**"
   ]
  },
  {
   "cell_type": "code",
   "execution_count": 63,
   "metadata": {},
   "outputs": [
    {
     "name": "stdout",
     "output_type": "stream",
     "text": [
      "Introduzca un texto:12345678\n",
      "8\n",
      "True\n"
     ]
    }
   ],
   "source": [
    "# Completa el ejercicio aquí\n",
    "\n",
    "# Pedimos al usuario que introduzca una cadena de texto\n",
    "\n",
    "texto = input(\"Introduzca un texto:\")\n",
    "\n",
    "# Evaluamos e imprimimos el resultado\n",
    "print(len(texto) >= 3 and len(texto) < 10)\n"
   ]
  },
  {
   "cell_type": "markdown",
   "metadata": {},
   "source": [
    "**5) Transcribe el siguiente algoritmo (utiliza operadores de asignación siempre que puedas):**\n",
    "\n",
    "* Guarda en una variable numero_magico el valor 12345679 (sin el 8)\n",
    "* Lee por pantalla otro numero_usuario, especifica que sea entre 1 y 9 (asegúrate que sea un número entero)\n",
    "* Multiplica el numero_usuario por 9 en sí mismo\n",
    "* Multiplica el numero_magico por el numero_usuario en sí mismo\n",
    "* Finalmente muestra el valor final del numero_magico por pantalla\n"
   ]
  },
  {
   "cell_type": "code",
   "execution_count": 76,
   "metadata": {},
   "outputs": [
    {
     "name": "stdout",
     "output_type": "stream",
     "text": [
      "Introduce un número entre el 1 y el 9: 8\n",
      "El valor final del número magico es: 888888888\n"
     ]
    }
   ],
   "source": [
    "# Completa el ejercicio aquí\n",
    "numero_magico = 12345679 #Asignamos el valor del número mágico\n",
    "numero_usuario = int(input(\"Introduce un número entre el 1 y el 9: \")) # Pedimos al usuario un numero del 1 al 9\n",
    "\n",
    "# Realizamos los cálculos\n",
    "numero_usuario *= 9\n",
    "numero_magico *= numero_usuario\n",
    "\n",
    "# Imprimimos el resultado\n",
    "print(\"El valor final del número magico es:\" , numero_magico)"
   ]
  },
  {
   "cell_type": "code",
   "execution_count": null,
   "metadata": {},
   "outputs": [],
   "source": []
  }
 ],
 "metadata": {
  "anaconda-cloud": {},
  "kernelspec": {
   "display_name": "Python 3",
   "language": "python",
   "name": "python3"
  },
  "language_info": {
   "codemirror_mode": {
    "name": "ipython",
    "version": 3
   },
   "file_extension": ".py",
   "mimetype": "text/x-python",
   "name": "python",
   "nbconvert_exporter": "python",
   "pygments_lexer": "ipython3",
   "version": "3.8.3"
  }
 },
 "nbformat": 4,
 "nbformat_minor": 1
}
