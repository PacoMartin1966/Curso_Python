{
 "cells": [
  {
   "cell_type": "markdown",
   "metadata": {},
   "source": [
    "# Las funciones\n",
    "Son fragmentos de código que se pueden ejecutar múltiples veces. Pueden recibir y devolver información para comunicarse con el proceso principal (con la función principal, llamada __main__).\n",
    "\n",
    "### Definición y llamada"
   ]
  },
  {
   "cell_type": "code",
   "execution_count": 1,
   "metadata": {},
   "outputs": [
    {
     "name": "stdout",
     "output_type": "stream",
     "text": [
      "Hola! Este print se llama desde la función saludar()\n"
     ]
    }
   ],
   "source": [
    "def saludar():\n",
    "    print(\"Hola! Este print se llama desde la función saludar()\")\n",
    "\n",
    "saludar()"
   ]
  },
  {
   "cell_type": "markdown",
   "metadata": {},
   "source": [
    "### Programación secuencial\n",
    "Sabemos que Python es un lenguaje de __programación secuencial__, lo que significa que ejecuta las líneas de código desde la primera hasta N de una en una. __Pero__ las funciones tienen un comportamiento diferente, sus líneas de código sólamente se ejecutan cuando la función es llamada. \n",
    "Para verlo, vamos a realizar __la trazabilidad__ del programa,  es decir, la secuencia de ejecuciones de nuestro programa:"
   ]
  },
  {
   "cell_type": "code",
   "execution_count": 1,
   "metadata": {},
   "outputs": [
    {
     "name": "stdout",
     "output_type": "stream",
     "text": [
      "Hola que tal\n",
      "Esto es una prueba\n",
      "Hola! Este print se llama desde la función saludar()\n",
      "Hola de nuevo\n",
      "Hola! Este print se llama desde la función saludar()\n",
      "Adios\n"
     ]
    }
   ],
   "source": [
    "def saludar():\n",
    "    print(\"Hola! Este print se llama desde la función saludar()\") # LINEA EN EJECUCION NUMERO 4 y 7\n",
    "\n",
    "print(\"Hola que tal\")             # LINEA EN EJECUCION NUMERO 1\n",
    "print(\"Esto es una prueba\")  # LINEA EN EJECUCION NUMERO 2\n",
    "saludar()                               # LINEA EN EJECUCION NUMERO 3\n",
    "print(\"Hola de nuevo\")        # LINEA EN EJECUCION NUMERO 5\n",
    "saludar()                              # LINEA EN EJECUCION NUMERO 6\n",
    "print(\"Adios\")                     # LINEA EN EJECUCION NUMERO 8"
   ]
  },
  {
   "cell_type": "markdown",
   "metadata": {},
   "source": [
    "#### Dentro de una función podemos utilizar variables y sentencias de control:"
   ]
  },
  {
   "cell_type": "code",
   "execution_count": 2,
   "metadata": {},
   "outputs": [
    {
     "name": "stdout",
     "output_type": "stream",
     "text": [
      "5 * 0 = 0\n",
      "5 * 1 = 5\n",
      "5 * 2 = 10\n",
      "5 * 3 = 15\n",
      "5 * 4 = 20\n",
      "5 * 5 = 25\n",
      "5 * 6 = 30\n",
      "5 * 7 = 35\n",
      "5 * 8 = 40\n",
      "5 * 9 = 45\n"
     ]
    }
   ],
   "source": [
    "def dibujar_tabla_del_5():\n",
    "    for i in range(10):\n",
    "        print(\"5 * {} = {}\".format(i,i*5))\n",
    "dibujar_tabla_del_5()"
   ]
  },
  {
   "cell_type": "markdown",
   "metadata": {},
   "source": [
    "### Ámbito de las variables\n",
    "Una variable declarada en una función no existe en la función principal:"
   ]
  },
  {
   "cell_type": "code",
   "execution_count": 2,
   "metadata": {},
   "outputs": [
    {
     "name": "stdout",
     "output_type": "stream",
     "text": [
      "Mostrando el valor de n dentro de la funcion test:  10\n"
     ]
    }
   ],
   "source": [
    "def test():\n",
    "    n = 10\n",
    "    print(\"Mostrando el valor de n dentro de la funcion test: \", n)\n",
    "\n",
    "test()"
   ]
  },
  {
   "cell_type": "code",
   "execution_count": 3,
   "metadata": {},
   "outputs": [
    {
     "ename": "NameError",
     "evalue": "name 'n' is not defined",
     "output_type": "error",
     "traceback": [
      "\u001b[1;31m---------------------------------------------------------------------------\u001b[0m",
      "\u001b[1;31mNameError\u001b[0m                                 Traceback (most recent call last)",
      "\u001b[1;32m<ipython-input-3-349653be3a92>\u001b[0m in \u001b[0;36m<module>\u001b[1;34m\u001b[0m\n\u001b[1;32m----> 1\u001b[1;33m \u001b[0mprint\u001b[0m\u001b[1;33m(\u001b[0m\u001b[0mn\u001b[0m\u001b[1;33m)\u001b[0m\u001b[1;33m\u001b[0m\u001b[1;33m\u001b[0m\u001b[0m\n\u001b[0m",
      "\u001b[1;31mNameError\u001b[0m: name 'n' is not defined"
     ]
    }
   ],
   "source": [
    "print(n)"
   ]
  },
  {
   "cell_type": "markdown",
   "metadata": {},
   "source": [
    "#### Sin embargo, una variable declarada fuera de la función (al mismo nivel), sí que es accesible desde la función (estas variables se conocen como globales):"
   ]
  },
  {
   "cell_type": "code",
   "execution_count": 4,
   "metadata": {},
   "outputs": [
    {
     "name": "stdout",
     "output_type": "stream",
     "text": [
      "Mostrando el valor de m DENTRO de la funcion test:  10\n",
      "Mostrando el valor de m FUERA de la funcion test:  10\n"
     ]
    }
   ],
   "source": [
    "m = 10\n",
    "def test():\n",
    "    print(\"Mostrando el valor de m DENTRO de la funcion test: \", m)\n",
    "\n",
    "test()\n",
    "print(\"Mostrando el valor de m FUERA de la funcion test: \", m)"
   ]
  },
  {
   "cell_type": "markdown",
   "metadata": {},
   "source": [
    "#### Siempre que declaremos la variable antes de la ejecución, podemos acceder a ella desde dentro:"
   ]
  },
  {
   "cell_type": "code",
   "execution_count": 1,
   "metadata": {},
   "outputs": [
    {
     "name": "stdout",
     "output_type": "stream",
     "text": [
      "10\n"
     ]
    }
   ],
   "source": [
    "def test():\n",
    "    print(l)\n",
    "# test() # En este punto, la variable l aún no existe -> Error\n",
    "l = 10\n",
    "test()"
   ]
  },
  {
   "cell_type": "markdown",
   "metadata": {},
   "source": [
    "#### En el caso que declaremos de nuevo una variable en la función, se creará un copia de la misma que sólo funcionará dentro de la función. \n",
    "### Por tanto *no podemos modificar una variable externa dentro de una función*:"
   ]
  },
  {
   "cell_type": "code",
   "execution_count": 8,
   "metadata": {},
   "outputs": [
    {
     "name": "stdout",
     "output_type": "stream",
     "text": [
      "Variable o DENTRO de la funcion 5\n",
      "Variable o DENTRO de la funcion 5\n",
      "Variable o FUERA de la funcion 10\n"
     ]
    }
   ],
   "source": [
    "def test():\n",
    "    o = 5 # variable que sólo existe dentro de la función\n",
    "    print(\"Variable o DENTRO de la funcion\", o)\n",
    "\n",
    "test()\n",
    "o=10 # variable externa, no modificable\n",
    "test()\n",
    "print(\"Variable o FUERA de la funcion\", o)"
   ]
  },
  {
   "cell_type": "markdown",
   "metadata": {},
   "source": [
    "## La instrucción global\n",
    "Para poder modificar una variable externa en la función, debemos indicar que es global de la siguiente forma:"
   ]
  },
  {
   "cell_type": "code",
   "execution_count": 13,
   "metadata": {},
   "outputs": [
    {
     "name": "stdout",
     "output_type": "stream",
     "text": [
      "Variable o DENTRO de la funcion 5\n",
      "Variable o DENTRO de la funcion 5\n",
      "Variable o FUERA de la funcion 5\n"
     ]
    }
   ],
   "source": [
    "def test():\n",
    "    global o # Esta variable o, aunque sea local porque se ha creado dentro de la funcion, la palabra global, la convierte en global\n",
    "    o = 5\n",
    "    print(\"Variable o DENTRO de la funcion\", o)\n",
    "\n",
    "test()\n",
    "o=10\n",
    "test()\n",
    "print(\"Variable o FUERA de la funcion\", o)"
   ]
  },
  {
   "cell_type": "markdown",
   "metadata": {},
   "source": [
    "El ejemplo anterior sería igual a:"
   ]
  },
  {
   "cell_type": "code",
   "execution_count": 17,
   "metadata": {},
   "outputs": [
    {
     "name": "stdout",
     "output_type": "stream",
     "text": [
      "Variable o DENTRO de la funcion 5\n",
      "Variable o DENTRO de la funcion 5\n",
      "Variable o FUERA de la funcion 10\n"
     ]
    }
   ],
   "source": [
    "o # Declaramos la o en este punto, fuera de la funcion, es decir, declaramos una funcion global\n",
    "def test():\n",
    "    o = 5\n",
    "    print(\"Variable o DENTRO de la funcion\", o)\n",
    "\n",
    "test()\n",
    "o = 10\n",
    "test()\n",
    "print(\"Variable o FUERA de la funcion\", o)"
   ]
  }
 ],
 "metadata": {
  "kernelspec": {
   "display_name": "Python 3",
   "language": "python",
   "name": "python3"
  },
  "language_info": {
   "codemirror_mode": {
    "name": "ipython",
    "version": 3
   },
   "file_extension": ".py",
   "mimetype": "text/x-python",
   "name": "python",
   "nbconvert_exporter": "python",
   "pygments_lexer": "ipython3",
   "version": "3.8.3"
  }
 },
 "nbformat": 4,
 "nbformat_minor": 1
}
