{
 "cells": [
  {
   "cell_type": "markdown",
   "metadata": {},
   "source": [
    "# Trabajando con tipos de datos avanzados\n",
    "\n",
    "* `Lista []`  Colección ordenada y modificable. Permite miembros duplicados.\n",
    "* `Tupla ()` Colección ordenada e inmutable. Permite miembros duplicados.\n",
    "* `Set {}` Colección desordenada y no indexada. No hay miembros duplicados.\n",
    "* `Diccionario {}`  Colección desordenada, modificable e indexada. No hay miembros duplicados.\n"
   ]
  },
  {
   "cell_type": "markdown",
   "metadata": {},
   "source": [
    "# Diccionarios\n",
    "Tipo compuesto de dato que puede almacenar distintos valores (pares de clave:valor) NO ordenados entre __{}__ y separados con comas.\n",
    "La estructura principal es __clave: valor__"
   ]
  },
  {
   "cell_type": "code",
   "execution_count": 42,
   "metadata": {},
   "outputs": [
    {
     "name": "stdout",
     "output_type": "stream",
     "text": [
      "{'brand': 'Ford', 'model': 'Mustang', 'year': 1964}\n"
     ]
    }
   ],
   "source": [
    "vehiculos = {\n",
    "    \"brand\": \"Ford\",\n",
    "    \"model\": \"Mustang\",\n",
    "    \"year\": 1964\n",
    "}\n",
    "print(vehiculos)"
   ]
  },
  {
   "cell_type": "code",
   "execution_count": 43,
   "metadata": {},
   "outputs": [
    {
     "name": "stdout",
     "output_type": "stream",
     "text": [
      "<class 'dict'>\n"
     ]
    }
   ],
   "source": [
    "print(type(vehiculos))"
   ]
  },
  {
   "cell_type": "markdown",
   "metadata": {},
   "source": [
    "## Índices y slicing\n",
    "Accederemos a los elementos de un diccionario haciendo referencia a su __clave__, y esto nos sevolverá su __valor__ correspondiente."
   ]
  },
  {
   "cell_type": "code",
   "execution_count": 48,
   "metadata": {},
   "outputs": [
    {
     "name": "stdout",
     "output_type": "stream",
     "text": [
      "Mustang\n"
     ]
    }
   ],
   "source": [
    "valorQueMeInteresa = vehiculos[\"model\"]\n",
    "print(valorQueMeInteresa)"
   ]
  },
  {
   "cell_type": "code",
   "execution_count": 49,
   "metadata": {},
   "outputs": [
    {
     "name": "stdout",
     "output_type": "stream",
     "text": [
      "Mustang\n"
     ]
    }
   ],
   "source": [
    "valorQueMeInteresa = vehiculos.get(\"model\")\n",
    "print(valorQueMeInteresa)"
   ]
  },
  {
   "cell_type": "markdown",
   "metadata": {},
   "source": [
    "## Buscar en el diccionario con el operador in (solo sirve para buscar claves):"
   ]
  },
  {
   "cell_type": "code",
   "execution_count": 51,
   "metadata": {},
   "outputs": [
    {
     "name": "stdout",
     "output_type": "stream",
     "text": [
      "False\n"
     ]
    }
   ],
   "source": [
    "print(\"model\" in vehiculos)"
   ]
  },
  {
   "cell_type": "markdown",
   "metadata": {},
   "source": [
    "## Podemos modificar un valor haciendo referencia a su clave"
   ]
  },
  {
   "cell_type": "code",
   "execution_count": 1,
   "metadata": {},
   "outputs": [
    {
     "name": "stdout",
     "output_type": "stream",
     "text": [
      "{'brand': 'Ford', 'model': 'Mustang', 'year': 1964}\n"
     ]
    }
   ],
   "source": [
    "vehiculos = {\n",
    "    \"brand\": \"Ford\",\n",
    "    \"model\": \"Mustang\",\n",
    "    \"year\": 1964\n",
    "}\n",
    "print(vehiculos)"
   ]
  },
  {
   "cell_type": "code",
   "execution_count": 3,
   "metadata": {},
   "outputs": [
    {
     "name": "stdout",
     "output_type": "stream",
     "text": [
      "{'brand': 'Ford', 'model': 'Mustang', 'year': 2020}\n"
     ]
    }
   ],
   "source": [
    "vehiculos[\"year\"] = 2020\n",
    "print(vehiculos)"
   ]
  },
  {
   "cell_type": "markdown",
   "metadata": {},
   "source": [
    "## La función len() también funciona con los diccionarios:"
   ]
  },
  {
   "cell_type": "code",
   "execution_count": 4,
   "metadata": {},
   "outputs": [
    {
     "name": "stdout",
     "output_type": "stream",
     "text": [
      "3\n"
     ]
    }
   ],
   "source": [
    "print(len(vehiculos))"
   ]
  },
  {
   "cell_type": "markdown",
   "metadata": {},
   "source": [
    "## Recorrer un diccionario:"
   ]
  },
  {
   "cell_type": "code",
   "execution_count": 5,
   "metadata": {},
   "outputs": [
    {
     "name": "stdout",
     "output_type": "stream",
     "text": [
      "brand\n",
      "model\n",
      "year\n"
     ]
    }
   ],
   "source": [
    "for x in vehiculos:\n",
    "    print(x)"
   ]
  },
  {
   "cell_type": "code",
   "execution_count": 6,
   "metadata": {},
   "outputs": [
    {
     "name": "stdout",
     "output_type": "stream",
     "text": [
      "Ford\n",
      "Mustang\n",
      "2020\n"
     ]
    }
   ],
   "source": [
    "for x in vehiculos:\n",
    "    print(vehiculos[x])"
   ]
  },
  {
   "cell_type": "code",
   "execution_count": 7,
   "metadata": {},
   "outputs": [
    {
     "name": "stdout",
     "output_type": "stream",
     "text": [
      "brand :  Ford\n",
      "model :  Mustang\n",
      "year :  2020\n"
     ]
    }
   ],
   "source": [
    "for x in vehiculos:\n",
    "    print(x, \": \", vehiculos[x])"
   ]
  },
  {
   "cell_type": "code",
   "execution_count": 8,
   "metadata": {},
   "outputs": [
    {
     "name": "stdout",
     "output_type": "stream",
     "text": [
      "Ford\n",
      "Mustang\n",
      "2020\n"
     ]
    }
   ],
   "source": [
    "for x in vehiculos.values():\n",
    "    print(x)"
   ]
  },
  {
   "cell_type": "markdown",
   "metadata": {},
   "source": [
    "### El método .items()\n",
    "Nos facilita la lectura en clave y valor de los elementos porque devuelve ambos valores en cada iteración automáticamente:"
   ]
  },
  {
   "cell_type": "code",
   "execution_count": 10,
   "metadata": {},
   "outputs": [
    {
     "name": "stdout",
     "output_type": "stream",
     "text": [
      "brand : Ford\n",
      "model : Mustang\n",
      "year : 2020\n"
     ]
    }
   ],
   "source": [
    "for x, y in vehiculos.items():\n",
    "    print(x, \":\", y)"
   ]
  },
  {
   "cell_type": "markdown",
   "metadata": {},
   "source": [
    "## Agregar elementos al diccionario:\n",
    "La adición de un elemento al diccionario se realiza utilizando una nueva clave de índice y asignándole un valor:"
   ]
  },
  {
   "cell_type": "code",
   "execution_count": 11,
   "metadata": {},
   "outputs": [
    {
     "name": "stdout",
     "output_type": "stream",
     "text": [
      "{'brand': 'Ford', 'model': 'Mustang', 'year': 1964}\n"
     ]
    }
   ],
   "source": [
    "vehiculos = {\n",
    "  \"brand\": \"Ford\",\n",
    "  \"model\": \"Mustang\",\n",
    "  \"year\": 1964\n",
    "}\n",
    "print(vehiculos)"
   ]
  },
  {
   "cell_type": "code",
   "execution_count": 12,
   "metadata": {},
   "outputs": [
    {
     "name": "stdout",
     "output_type": "stream",
     "text": [
      "{'brand': 'Ford', 'model': 'Mustang', 'year': 1964, 'color': 'red'}\n"
     ]
    }
   ],
   "source": [
    "vehiculos[\"color\"] = \"red\"\n",
    "print(vehiculos)"
   ]
  },
  {
   "cell_type": "markdown",
   "metadata": {},
   "source": [
    "## Eliminar elementos del diccionario"
   ]
  },
  {
   "cell_type": "code",
   "execution_count": 15,
   "metadata": {},
   "outputs": [
    {
     "name": "stdout",
     "output_type": "stream",
     "text": [
      "{'brand': 'Ford', 'model': 'Mustang', 'year': 1964}\n",
      "{'brand': 'Ford', 'model': 'Mustang'}\n"
     ]
    }
   ],
   "source": [
    "vehiculos = {\n",
    "  \"brand\": \"Ford\",\n",
    "  \"model\": \"Mustang\",\n",
    "  \"year\": 1964\n",
    "}\n",
    "print(vehiculos)\n",
    "\n",
    "vehiculos.popitem() # Elimina el último elemento insertado (en versiones anteriores a 3.7, en su lugar, se elimina un elemento aleatorio):\n",
    "print(vehiculos)"
   ]
  },
  {
   "cell_type": "code",
   "execution_count": 16,
   "metadata": {},
   "outputs": [
    {
     "name": "stdout",
     "output_type": "stream",
     "text": [
      "{'brand': 'Ford', 'model': 'Mustang', 'year': 1964}\n",
      "{'brand': 'Ford', 'year': 1964}\n"
     ]
    }
   ],
   "source": [
    "vehiculos = {\n",
    "  \"brand\": \"Ford\",\n",
    "  \"model\": \"Mustang\",\n",
    "  \"year\": 1964\n",
    "}\n",
    "print(vehiculos)\n",
    "\n",
    "vehiculos.pop(\"model\") # Elimina el elemento con el nombre de clave especificado\n",
    "print(vehiculos)"
   ]
  },
  {
   "cell_type": "code",
   "execution_count": 17,
   "metadata": {},
   "outputs": [
    {
     "name": "stdout",
     "output_type": "stream",
     "text": [
      "{'brand': 'Ford', 'model': 'Mustang', 'year': 1964}\n",
      "{}\n"
     ]
    }
   ],
   "source": [
    "vehiculos = {\n",
    "  \"brand\": \"Ford\",\n",
    "  \"model\": \"Mustang\",\n",
    "  \"year\": 1964\n",
    "}\n",
    "print(vehiculos)\n",
    "\n",
    "vehiculos.clear() # Vacia el diccionario\n",
    "print(vehiculos)"
   ]
  },
  {
   "cell_type": "markdown",
   "metadata": {},
   "source": [
    "## Copiar un diccionario\n",
    "\n",
    "No puede copiar un diccionario simplemente escribiendo dict2 = dict1 , porque: dict2 solo será una referencia a dict1 , y los cambios realizados en dict1 también se realizarán automáticamente en dict2 .\n",
    "\n",
    "Hay formas de hacer una copia, una es usar el método incorporado copy() ."
   ]
  },
  {
   "cell_type": "code",
   "execution_count": 18,
   "metadata": {},
   "outputs": [
    {
     "name": "stdout",
     "output_type": "stream",
     "text": [
      "{'brand': 'Ford', 'model': 'Mustang', 'year': 1964}\n",
      "{'brand': 'Ford', 'model': 'Mustang', 'year': 1964}\n"
     ]
    }
   ],
   "source": [
    "vehiculos = {\n",
    "  \"brand\": \"Ford\",\n",
    "  \"model\": \"Mustang\",\n",
    "  \"year\": 1964\n",
    "}\n",
    "print(vehiculos)\n",
    "\n",
    "vehiculos_copia = vehiculos.copy()\n",
    "print(vehiculos_copia)"
   ]
  },
  {
   "cell_type": "code",
   "execution_count": 19,
   "metadata": {},
   "outputs": [
    {
     "name": "stdout",
     "output_type": "stream",
     "text": [
      "{'brand': 'Ford', 'year': 1964}\n",
      "{'brand': 'Ford', 'model': 'Mustang', 'year': 1964}\n"
     ]
    }
   ],
   "source": [
    "vehiculos.pop(\"model\") # Elimina el elemento con el nombre de clave especificado\n",
    "print(vehiculos)\n",
    "print(vehiculos_copia) # Comprobamos que la copia sigue intacta y no se ha modificado con el original"
   ]
  },
  {
   "cell_type": "markdown",
   "metadata": {},
   "source": [
    "## SI puede haber diccionarios dentro de otros diccionarios (anidados)\n",
    "El siguiente diccionario (familia) contiene otros 3 diccionarios"
   ]
  },
  {
   "cell_type": "code",
   "execution_count": 2,
   "metadata": {},
   "outputs": [
    {
     "name": "stdout",
     "output_type": "stream",
     "text": [
      "{'child1': {'name': 'Emil', 'year': 2004}, 'child2': {'name': 'Tobias', 'year': 2007}, 'child3': {'name': 'Linus', 'year': 2011}}\n"
     ]
    }
   ],
   "source": [
    "familia = {\n",
    "  \"child1\" : {\n",
    "    \"name\" : \"Emil\",\n",
    "    \"year\" : 2004\n",
    "  },\n",
    "  \"child2\" : {\n",
    "    \"name\" : \"Tobias\",\n",
    "    \"year\" : 2007\n",
    "  },\n",
    "  \"child3\" : {\n",
    "    \"name\" : \"Linus\",\n",
    "    \"year\" : 2011\n",
    "  }\n",
    "}\n",
    "\n",
    "print(familia)"
   ]
  },
  {
   "cell_type": "markdown",
   "metadata": {},
   "source": [
    "Y ahora veremos como accedemos a los diccionarios \"internos\""
   ]
  },
  {
   "cell_type": "code",
   "execution_count": 3,
   "metadata": {},
   "outputs": [
    {
     "name": "stdout",
     "output_type": "stream",
     "text": [
      "{'name': 'Emil', 'year': 2004}\n"
     ]
    }
   ],
   "source": [
    "valorQueMeInteresa = familia[\"child1\"]\n",
    "print(valorQueMeInteresa)"
   ]
  },
  {
   "cell_type": "code",
   "execution_count": 4,
   "metadata": {},
   "outputs": [
    {
     "name": "stdout",
     "output_type": "stream",
     "text": [
      "Linus\n"
     ]
    }
   ],
   "source": [
    "valorQueMeInteresa = familia[\"child3\"][\"name\"]\n",
    "print(valorQueMeInteresa)"
   ]
  },
  {
   "cell_type": "markdown",
   "metadata": {},
   "source": [
    "## BONUS. Incluir listas en nuestros diccionarios"
   ]
  },
  {
   "cell_type": "code",
   "execution_count": 13,
   "metadata": {},
   "outputs": [
    {
     "name": "stdout",
     "output_type": "stream",
     "text": [
      "Diccionario completo: \n",
      "{'nombre': 'Carlos', 'edad': 22, 'cursos': ['Python', 'Django', 'JavaScript']}\n",
      "\n",
      "Elementos del diccionario\n",
      "Carlos\n",
      "22\n",
      "['Python', 'Django', 'JavaScript']\n",
      "\n",
      "Items de la lista cursos: \n",
      "Python\n",
      "Django\n",
      "JavaScript\n",
      "\n",
      "Recorriendo el diccionario con un bucle for\n",
      "nombre : Carlos\n",
      "edad : 22\n",
      "cursos : ['Python', 'Django', 'JavaScript']\n"
     ]
    }
   ],
   "source": [
    "diccionario = {\n",
    "    'nombre' : 'Carlos', \n",
    "    'edad' : 22, \n",
    "    'cursos': ['Python','Django','JavaScript'] \n",
    "}\n",
    "\n",
    "print(\"Diccionario completo: \")\n",
    "print(diccionario)\n",
    "\n",
    "print(\"\\nElementos del diccionario\")\n",
    "print(diccionario['nombre']) # Carlos\n",
    "print(diccionario['edad']) # 22\n",
    "print(diccionario['cursos']) #['Python','Django','JavaScript']\n",
    "\n",
    "print(\"\\nItems de la lista cursos: \")\n",
    "print(diccionario['cursos'][0]) #Python\n",
    "print(diccionario['cursos'][1]) #Django\n",
    "print(diccionario['cursos'][2]) #JavaScript\n",
    "\n",
    "print(\"\\nRecorriendo el diccionario con un bucle for\")\n",
    "for key in diccionario:\n",
    "    print(key, \":\", diccionario[key])"
   ]
  },
  {
   "cell_type": "code",
   "execution_count": 18,
   "metadata": {},
   "outputs": [
    {
     "name": "stdout",
     "output_type": "stream",
     "text": [
      "Diccionario completo: \n",
      "{'nombre': 'Carlos', 'edad': 22, 'cursos': ['Python', 'Django', 'JavaScript']}\n",
      "\n",
      "Mostrar todos los datos del primer cliente\n",
      "Carlos\n",
      "22\n",
      "Python\n",
      "\n",
      "Mostrar todos los datos del segundo cliente\n",
      "Cristian\n",
      "30\n",
      "Django\n",
      "\n",
      "Mostrar todos los datos del tercer cliente\n",
      "David, 32, JavaScript\n"
     ]
    }
   ],
   "source": [
    "clientes = {\n",
    "    'nombre' : ['Carlos','Cristian','David'] ,\n",
    "    'edad' : [22,30,32] ,\n",
    "    'lenguaje_favorito': ['Python','Django','JavaScript'] \n",
    "}\n",
    "\n",
    "print(\"Diccionario completo: \")\n",
    "print(diccionario)\n",
    "\n",
    "print(\"\\nMostrar todos los datos del primer cliente\")\n",
    "print(clientes['nombre'][0]) \n",
    "print(clientes['edad'][0]) \n",
    "print(clientes['lenguaje_favorito'][0]) \n",
    "\n",
    "print(\"\\nMostrar todos los datos del segundo cliente\")\n",
    "print(clientes['nombre'][1]) \n",
    "print(clientes['edad'][1]) \n",
    "print(clientes['lenguaje_favorito'][1]) \n",
    "\n",
    "print(\"\\nMostrar todos los datos del tercer cliente\")\n",
    "print(clientes['nombre'][2], end=\", \") \n",
    "print(clientes['edad'][2], end=\", \") \n",
    "print(clientes['lenguaje_favorito'][2]) \n",
    "\n"
   ]
  }
 ],
 "metadata": {
  "kernelspec": {
   "display_name": "Python 3 (ipykernel)",
   "language": "python",
   "name": "python3"
  },
  "language_info": {
   "codemirror_mode": {
    "name": "ipython",
    "version": 3
   },
   "file_extension": ".py",
   "mimetype": "text/x-python",
   "name": "python",
   "nbconvert_exporter": "python",
   "pygments_lexer": "ipython3",
   "version": "3.9.7"
  }
 },
 "nbformat": 4,
 "nbformat_minor": 4
}
