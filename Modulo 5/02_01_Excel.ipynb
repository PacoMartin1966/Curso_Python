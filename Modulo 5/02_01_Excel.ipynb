{
 "cells": [
  {
   "cell_type": "markdown",
   "metadata": {},
   "source": [
    "# Excel"
   ]
  },
  {
   "cell_type": "markdown",
   "metadata": {},
   "source": [
    "## Uso del módulo openpyxl\n",
    "Librería que nos permite acceder y modificar ficheros Excel. Documentación: https://openpyxl.readthedocs.io/en/stable/"
   ]
  },
  {
   "cell_type": "code",
   "execution_count": 1,
   "metadata": {},
   "outputs": [],
   "source": [
    "import openpyxl"
   ]
  },
  {
   "cell_type": "markdown",
   "metadata": {},
   "source": [
    "## Apertura y lectura de hojas de un fichero Excel\n",
    "02_Excel_data.xlsx adjunto a esta práctica"
   ]
  },
  {
   "cell_type": "code",
   "execution_count": 2,
   "metadata": {},
   "outputs": [
    {
     "name": "stdout",
     "output_type": "stream",
     "text": [
      "Nombres de hojas: \n",
      "['address', 'ventas', 'otros']\n",
      "\n",
      "Nombres de hojas (otra forma): \n",
      "address\n",
      "ventas\n",
      "otros\n",
      "\n",
      "Primera hoja: \n",
      "address\n"
     ]
    }
   ],
   "source": [
    "# Abrir un archivo Excel (workbook)\n",
    "wb = openpyxl.load_workbook(\"02_Excel_data.xlsx\")\n",
    "\n",
    "# Imprimir los nombres de las hojas\n",
    "print(\"Nombres de hojas: \")\n",
    "print(wb.sheetnames)\n",
    "\n",
    "print(\"\\nNombres de hojas (otra forma): \")\n",
    "for sheet in wb:\n",
    "    print(sheet.title)\n",
    "\n",
    "# HOJA 1\n",
    "# Crear una variable que haga referencia a la primera hoja del excel\n",
    "hoja_uno = wb.sheetnames[0]\n",
    "print(\"\\nPrimera hoja: \")\n",
    "print(hoja_uno)"
   ]
  },
  {
   "cell_type": "markdown",
   "metadata": {},
   "source": [
    "## HOJA 1. LECTURA\n",
    "## Acceso a una celda de una hoja concreta"
   ]
  },
  {
   "cell_type": "code",
   "execution_count": 3,
   "metadata": {},
   "outputs": [
    {
     "name": "stdout",
     "output_type": "stream",
     "text": [
      "Last\n",
      "<Cell 'address'.B1>\n",
      "Davey\n"
     ]
    }
   ],
   "source": [
    "# Crear una variable que haga referencia a la primera hoja del excel\n",
    "hoja_uno = wb[\"address\"]\n",
    "\n",
    "# Acceder a una celda directamente\n",
    "print(hoja_uno[\"A1\"].value) # Contenido\n",
    "print(hoja_uno[\"B1\"]) # Referencia\n",
    "\n",
    "# Acceder a una celda a través de una nomenclatura fila-columna\n",
    "print(hoja_uno.cell(row=5,column=2).value)"
   ]
  },
  {
   "cell_type": "markdown",
   "metadata": {},
   "source": [
    "## Acceso a múltiples celdas de una hoja concreta"
   ]
  },
  {
   "cell_type": "code",
   "execution_count": 4,
   "metadata": {},
   "outputs": [
    {
     "name": "stdout",
     "output_type": "stream",
     "text": [
      "Last\n",
      "First\n",
      "Buffet\n",
      "Jimmy\n",
      "Bush\n",
      "George\n"
     ]
    }
   ],
   "source": [
    "multiple_cells = hoja_uno[\"A1\":\"B3\"]\n",
    "for row in multiple_cells:\n",
    "    for cell in row:\n",
    "        print(cell.value)"
   ]
  },
  {
   "cell_type": "markdown",
   "metadata": {},
   "source": [
    "## Acceso a todas las filas de una hoja concreta"
   ]
  },
  {
   "cell_type": "code",
   "execution_count": 5,
   "metadata": {
    "scrolled": false
   },
   "outputs": [
    {
     "name": "stdout",
     "output_type": "stream",
     "text": [
      "A1 Last\n",
      "B1 First\n",
      "C1 Address\n",
      "D1 City\n",
      "E1 State\n",
      "F1 ZIP\n",
      "----Final de Fila---\n",
      "A2 Buffet\n",
      "B2 Jimmy\n",
      "C2 Somewhere on the Beach\n",
      "D2 Key West\n",
      "E2 FL\n",
      "F2 33040\n",
      "----Final de Fila---\n",
      "A3 Bush\n",
      "B3 George\n",
      "C3 1600 Pennsylvania Ave\n",
      "D3 Washington\n",
      "E3 DC\n",
      "F3 20500\n",
      "----Final de Fila---\n",
      "A4 Cartman\n",
      "B4 Eric\n",
      "C4 84 Bigboned Way\n",
      "D4 South Park\n",
      "E4 CO\n",
      "F4 84214\n",
      "----Final de Fila---\n",
      "A5 Crockett\n",
      "B5 Davey\n",
      "C5 The Alamo\n",
      "D5 San Antonio\n",
      "E5 TX\n",
      "F5 78210\n",
      "----Final de Fila---\n",
      "A6 Doe\n",
      "B6 Jane\n",
      "C6 821 Zimbabwe Ave\n",
      "D6 Washington\n",
      "E6 DC\n",
      "F6 20021\n",
      "----Final de Fila---\n",
      "A7 Gates\n",
      "B7 Bill\n",
      "C7 1 Microsoft Way\n",
      "D7 Redmond\n",
      "E7 WA\n",
      "F7 98052\n",
      "----Final de Fila---\n",
      "A8 Jefferson\n",
      "B8 George\n",
      "C8 194 Deelux Apartments\n",
      "D8 In the Sky\n",
      "E8 NY\n",
      "F8 10041\n",
      "----Final de Fila---\n",
      "A9 Kong\n",
      "B9 King\n",
      "C9 Empire State Building\n",
      "D9 New York\n",
      "E9 NY\n",
      "F9 10118\n",
      "----Final de Fila---\n",
      "A10 Munster\n",
      "B10 Herman\n",
      "C10 1313 Mockingbird Lane\n",
      "D10 Fargo\n",
      "E10 ND\n",
      "F10 58102\n",
      "----Final de Fila---\n",
      "A11 Rockne\n",
      "B11 Knute\n",
      "C11 146 Keenan Hall\n",
      "D11 Notre Dame\n",
      "E11 IN\n",
      "F11 46556\n",
      "----Final de Fila---\n",
      "A12 Simpson\n",
      "B12 Homer\n",
      "C12 742 Evergreen Terrace\n",
      "D12 Springfield\n",
      "E12 US\n",
      "F12 12345\n",
      "----Final de Fila---\n",
      "A13 Smith\n",
      "B13 Bob\n",
      "C13 12 Main Street\n",
      "D13 Anytown\n",
      "E13 IN\n",
      "F13 46001\n",
      "----Final de Fila---\n"
     ]
    }
   ],
   "source": [
    "for fila in hoja_uno.rows:\n",
    "    for columna in fila:\n",
    "        print(columna.coordinate, columna.value)\n",
    "    print(\"----Final de Fila---\")"
   ]
  },
  {
   "cell_type": "markdown",
   "metadata": {},
   "source": [
    "## Acceso a todas las columnas de una hoja concreta"
   ]
  },
  {
   "cell_type": "code",
   "execution_count": 6,
   "metadata": {},
   "outputs": [
    {
     "name": "stdout",
     "output_type": "stream",
     "text": [
      "A1 Last\n",
      "A2 Buffet\n",
      "A3 Bush\n",
      "A4 Cartman\n",
      "A5 Crockett\n",
      "A6 Doe\n",
      "A7 Gates\n",
      "A8 Jefferson\n",
      "A9 Kong\n",
      "A10 Munster\n",
      "A11 Rockne\n",
      "A12 Simpson\n",
      "A13 Smith\n",
      "----Final de Columna---\n",
      "B1 First\n",
      "B2 Jimmy\n",
      "B3 George\n",
      "B4 Eric\n",
      "B5 Davey\n",
      "B6 Jane\n",
      "B7 Bill\n",
      "B8 George\n",
      "B9 King\n",
      "B10 Herman\n",
      "B11 Knute\n",
      "B12 Homer\n",
      "B13 Bob\n",
      "----Final de Columna---\n",
      "C1 Address\n",
      "C2 Somewhere on the Beach\n",
      "C3 1600 Pennsylvania Ave\n",
      "C4 84 Bigboned Way\n",
      "C5 The Alamo\n",
      "C6 821 Zimbabwe Ave\n",
      "C7 1 Microsoft Way\n",
      "C8 194 Deelux Apartments\n",
      "C9 Empire State Building\n",
      "C10 1313 Mockingbird Lane\n",
      "C11 146 Keenan Hall\n",
      "C12 742 Evergreen Terrace\n",
      "C13 12 Main Street\n",
      "----Final de Columna---\n",
      "D1 City\n",
      "D2 Key West\n",
      "D3 Washington\n",
      "D4 South Park\n",
      "D5 San Antonio\n",
      "D6 Washington\n",
      "D7 Redmond\n",
      "D8 In the Sky\n",
      "D9 New York\n",
      "D10 Fargo\n",
      "D11 Notre Dame\n",
      "D12 Springfield\n",
      "D13 Anytown\n",
      "----Final de Columna---\n",
      "E1 State\n",
      "E2 FL\n",
      "E3 DC\n",
      "E4 CO\n",
      "E5 TX\n",
      "E6 DC\n",
      "E7 WA\n",
      "E8 NY\n",
      "E9 NY\n",
      "E10 ND\n",
      "E11 IN\n",
      "E12 US\n",
      "E13 IN\n",
      "----Final de Columna---\n",
      "F1 ZIP\n",
      "F2 33040\n",
      "F3 20500\n",
      "F4 84214\n",
      "F5 78210\n",
      "F6 20021\n",
      "F7 98052\n",
      "F8 10041\n",
      "F9 10118\n",
      "F10 58102\n",
      "F11 46556\n",
      "F12 12345\n",
      "F13 46001\n",
      "----Final de Columna---\n"
     ]
    }
   ],
   "source": [
    "for columna in hoja_uno.columns:\n",
    "    for fila in columna:\n",
    "        print(fila.coordinate, fila.value)\n",
    "    print(\"----Final de Columna---\")"
   ]
  },
  {
   "cell_type": "markdown",
   "metadata": {},
   "source": [
    "## HOJA 2. ESCRITURA\n",
    "## Modificación de celdas de una hoja concreta"
   ]
  },
  {
   "cell_type": "code",
   "execution_count": 8,
   "metadata": {},
   "outputs": [],
   "source": [
    "import datetime"
   ]
  },
  {
   "cell_type": "code",
   "execution_count": 9,
   "metadata": {},
   "outputs": [],
   "source": [
    "# Crear una variable que haga referencia a la segunda hoja del excel\n",
    "hoja_dos = wb[\"ventas\"]"
   ]
  },
  {
   "cell_type": "code",
   "execution_count": 10,
   "metadata": {},
   "outputs": [
    {
     "data": {
      "text/plain": [
       "<Cell 'ventas'.D6>"
      ]
     },
     "execution_count": 10,
     "metadata": {},
     "output_type": "execute_result"
    }
   ],
   "source": [
    "# Modificar una celda (3 formas diferentes)\n",
    "hoja_dos[\"B6\"] = 5\n",
    "hoja_dos[\"C6\"].value = 5\n",
    "hoja_dos.cell(row=6, column=4, value=5)"
   ]
  },
  {
   "cell_type": "code",
   "execution_count": 11,
   "metadata": {},
   "outputs": [],
   "source": [
    "# Añadir la hora actual en la celda E2\n",
    "hoja_dos[\"E2\"].value = datetime.datetime.now()"
   ]
  },
  {
   "cell_type": "code",
   "execution_count": 12,
   "metadata": {},
   "outputs": [],
   "source": [
    "# Guardar cambios (IMPORTANTE! El excel debe estar cerrado)\n",
    "wb.save(\"02_Excel_data.xlsx\")"
   ]
  },
  {
   "cell_type": "code",
   "execution_count": 13,
   "metadata": {},
   "outputs": [
    {
     "name": "stdout",
     "output_type": "stream",
     "text": [
      "Celda B2 antes de modificarla:  5\n",
      "Celda B2 despues de modificarla:  99\n",
      "Celda C2 antes de modificarla con la formula:  3\n",
      "Celda C2 despues de modificarla con la formula:  =SUM(B2, 3)\n"
     ]
    }
   ],
   "source": [
    "# Modificar la celda B2, que contiene un 40, por un 99\n",
    "print(\"Celda B2 antes de modificarla: \", hoja_dos[\"B2\"].value)\n",
    "hoja_dos[\"B2\"] = 99\n",
    "print(\"Celda B2 despues de modificarla: \", hoja_dos[\"B2\"].value)\n",
    "\n",
    "# Modificar la celda C2, pero esta vez con una formula\n",
    "print(\"Celda C2 antes de modificarla con la formula: \", hoja_dos[\"C2\"].value)\n",
    "hoja_dos[\"C2\"] = \"=SUM(B2, 3)\"\n",
    "print(\"Celda C2 despues de modificarla con la formula: \", hoja_dos[\"C2\"].value)"
   ]
  },
  {
   "cell_type": "code",
   "execution_count": 14,
   "metadata": {},
   "outputs": [],
   "source": [
    "# Guardar cambios\n",
    "wb.save(\"02_Excel_data.xlsx\")"
   ]
  },
  {
   "cell_type": "markdown",
   "metadata": {},
   "source": [
    "## Añadir contenido nuevo a una hoja concreta"
   ]
  },
  {
   "cell_type": "code",
   "execution_count": 15,
   "metadata": {},
   "outputs": [],
   "source": [
    "hoja_dos.append([\"Junio\",99,100])\n",
    "# Guardar cambios\n",
    "wb.save(\"02_Excel_data.xlsx\")"
   ]
  },
  {
   "cell_type": "markdown",
   "metadata": {},
   "source": [
    "## Crear una hoja nueva y darle nombre"
   ]
  },
  {
   "cell_type": "code",
   "execution_count": 16,
   "metadata": {},
   "outputs": [
    {
     "name": "stdout",
     "output_type": "stream",
     "text": [
      "Nombres de hojas: \n",
      "['address', 'ventas', 'otros', 'Otros1']\n"
     ]
    }
   ],
   "source": [
    "# Abrir un archivo Excel (workbook)\n",
    "wb = openpyxl.load_workbook(\"02_Excel_data.xlsx\")\n",
    "\n",
    "# Creamos una nueva hoja (por defecto al final, si no, le podemos pasar como parametro el indice de la posicion que se quiera)\n",
    "hoja_otros = wb.create_sheet(\"Mysheet\")\n",
    "\n",
    "# Nombre de la hoja\n",
    "hoja_otros.title = \"Otros\"\n",
    "\n",
    "# Imprimir los nombres de las hojas\n",
    "print(\"Nombres de hojas: \")\n",
    "print(wb.sheetnames)\n",
    "\n",
    "# Guardar cambios\n",
    "wb.save(\"02_Excel_data.xlsx\")"
   ]
  },
  {
   "cell_type": "markdown",
   "metadata": {},
   "source": [
    "## AVANZADO. Generar gráficas"
   ]
  },
  {
   "cell_type": "code",
   "execution_count": 17,
   "metadata": {},
   "outputs": [
    {
     "name": "stdout",
     "output_type": "stream",
     "text": [
      "GRAFICA GENERADA\n"
     ]
    }
   ],
   "source": [
    "import openpyxl\n",
    "\n",
    "# Abrir un archivo Excel (workbook)\n",
    "wb = openpyxl.load_workbook(\"02_Excel_data.xlsx\")\n",
    "\n",
    "# Definimos la hoja dos (hoja de ventas)\n",
    "hoja_dos = wb[\"ventas\"]\n",
    "\n",
    "# Configuracion y creacion de la gráfica\n",
    "grafica = openpyxl.chart.AreaChart()\n",
    "# Para versiones nuevas de Anaconda: grafica = AreaChart()\n",
    "grafica.title = \"Grafica de Area\"\n",
    "grafica.style = 13\n",
    "grafica.x_axis.title = \"Periodo\"\n",
    "grafica.y_axis.title = \"Utilidades\"\n",
    "periodo = openpyxl.chart.Reference(hoja_dos, min_col=1, min_row=2, max_row=7)\n",
    "# Para versiones nuevas de Anaconda: periodo = Reference(hoja_dos, min_col=1, min_row=2, max_row=7)\n",
    "utilidades = openpyxl.chart.Reference(hoja_dos, min_col=2, min_row=1, max_col=3, max_row=7)\n",
    "# Para versiones nuevas de Anaconda: Reference(hoja_dos, min_col=2, min_row=1, max_col=3, max_row=7)\n",
    "grafica.add_data(utilidades, titles_from_data=True)\n",
    "grafica.set_categories(periodo)\n",
    "hoja_dos.add_chart(grafica, \"A10\")\n",
    "\n",
    "# Guardamos los cambios\n",
    "wb.save(\"02_Excel_data.xlsx\")\n",
    "print(\"GRAFICA GENERADA\")"
   ]
  },
  {
   "cell_type": "code",
   "execution_count": null,
   "metadata": {},
   "outputs": [],
   "source": []
  }
 ],
 "metadata": {
  "kernelspec": {
   "display_name": "Python 3",
   "language": "python",
   "name": "python3"
  },
  "language_info": {
   "codemirror_mode": {
    "name": "ipython",
    "version": 3
   },
   "file_extension": ".py",
   "mimetype": "text/x-python",
   "name": "python",
   "nbconvert_exporter": "python",
   "pygments_lexer": "ipython3",
   "version": "3.8.3"
  }
 },
 "nbformat": 4,
 "nbformat_minor": 1
}
