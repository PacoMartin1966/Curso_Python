{
 "cells": [
  {
   "cell_type": "markdown",
   "metadata": {},
   "source": [
    "# Ejercicios Modulo 5. JSON (Soluciones)\n",
    "\n",
    "Consideraciones a tener en cuenta: \n",
    "\n",
    "* Guardar este documento con el siguiente formato para su entrega: __M5_03_nombre_apellido1_apellido2__\n",
    "* Realizar los ejercicios con las herramientas vistas en las sesiones. \n",
    "* Comentar el código\n",
    "* Utilizar nombres de variables apropiados, si vais a guardar una nota, llamar a esa variable nota, no n o x"
   ]
  },
  {
   "cell_type": "markdown",
   "metadata": {},
   "source": [
    "# JSON (JavaScript Object Notation)"
   ]
  },
  {
   "cell_type": "markdown",
   "metadata": {},
   "source": [
    "1) A continuación se muestra un JSON String\n",
    "\n",
    "{\"jefe_proyecto\": {\"Nombre\": \"Juan\",\"Edad\": 28,\"Experiencia\": [\"Gestion\",\"Finanzas\",\"Bases de datos\"],\"Residencia\": \"Madrid\",\"HorasProyecto\": 3500},\"empleados\": [{\"Nombre\": \"Elena\",\"Edad\": 26,\"Experiencia\": [\"JavaScript\",\"Python\"],\"Residencia\": \"Madrid\",\"HorasProyecto\": 500},{\"Nombre\": \"Luis\",\"Edad\": 31,\"Experiencia\": [\"Django\",\"Flask\",\"Pyramid\"],\"Residencia\": \"Barcelona\",\"HorasProyecto\": 1100}]}\n",
    "\n",
    "* Si es necesario utiliza un visualizador de JSON para entenderlo.\n",
    "* El objetivo es crear un diccionario con todos los datos y estructuras internas necesarias para que sea igual que el JSON String\n",
    "* Vete creando estructuras más pequeñas hasta que llegues a formar el mismo JSON string que ves arriba\n",
    "* Una vez que lo tengas creado, vamos a operar con él\n",
    "* Almacena esta estructura (el diccionario) en una variable\n",
    "* Comprueba su tipo y muéstrala por pantalla\n",
    "* Crea dos variables: horas_empleados y horas_jefe\n",
    "* Extrae las horas del jefe e introducelas en su variable\n",
    "* Crea un bucle que recorra el número de empleados que se tienen en la estructura, y para cada empleado vete sumando sus horas en su correspondiente variable\n",
    "* Suma todas las horas y muéstralas por pantalla"
   ]
  },
  {
   "cell_type": "code",
   "execution_count": 44,
   "metadata": {},
   "outputs": [
    {
     "name": "stdout",
     "output_type": "stream",
     "text": [
      "{'jefe_proyecto': {'Nombre': 'Juan', 'Edad': 28, 'Experiencia': [['Gestion', 'Finanzas', 'Bases de datos']], 'Residencia': 'Madrid', 'HorasProyecto': 3500}, 'empleados': [{'Nombre': 'Elena', 'Edad': 26, 'Experiencia': ['JavaScript', 'Python'], 'Residencia': 'Madrid', 'HorasProyecto': 500}, {'Nombre': 'Luis', 'Edad': 31, 'Experiencia': ['Django', 'Flask', 'Pyramid'], 'Residencia': 'Barcelona', 'HorasProyecto': 1100}]}\n"
     ]
    }
   ],
   "source": [
    "# Completa el ejercicio aquí\n",
    "\n",
    "exp_laboral_jefe_1 = [\"Gestion\", \"Finanzas\", \"Bases de datos\"]\n",
    "exp_laboral_empl_1 = [\"JavaScript\", \"Python\"]\n",
    "exp_laboral_empl_2 = [\"Django\", \"Flask\", \"Pyramid\"]\n",
    "j_proyec_1 = {\"Nombre\" : \"Juan\", \"Edad\" : 28, \"Experiencia\" : [exp_laboral_jefe_1], \"Residencia\" : \"Madrid\", \"HorasProyecto\" : 3500}\n",
    "\n",
    "empleado_1 = {\"Nombre\" : \"Elena\", \"Edad\" : 26, \"Experiencia\" : exp_laboral_empl_1, \"Residencia\" : \"Madrid\", \"HorasProyecto\" : 500}\n",
    "empleado_2 = {\"Nombre\" : \"Luis\", \"Edad\" : 31, \"Experiencia\" : exp_laboral_empl_2, \"Residencia\" : \"Barcelona\", \"HorasProyecto\" : 1100}\n",
    "#emple_empresa = {\"empleados\" : [empleado_1, empleado_2]}\n",
    "\n",
    "nombre_empresa = {\"jefe_proyecto\" : j_proyec_1, \"empleados\" : [empleado_1, empleado_2]}\n",
    "\n",
    "empresa = nombre_empresa\n",
    "print(empresa)\n"
   ]
  },
  {
   "cell_type": "markdown",
   "metadata": {},
   "source": [
    "2) En el ejercicio anterior has trabajado con un diccionario que tu mismo/a creaste, conviértelo a un formato JSON String, muestra su tipo y los datos por pantalla\n",
    "¿Para qué nos sirve este formato?"
   ]
  },
  {
   "cell_type": "code",
   "execution_count": 57,
   "metadata": {},
   "outputs": [
    {
     "name": "stdout",
     "output_type": "stream",
     "text": [
      "El tipo de variable es: <class 'dict'>\n",
      "Horas del jefe: 3500\n",
      "Horas de los empleados: 1600\n"
     ]
    }
   ],
   "source": [
    "print(\"El tipo de variable es:\", type(empresa))\n",
    "\n",
    "horas_empleados = (empresa[\"empleados\"][0][\"HorasProyecto\"]) + (empresa[\"empleados\"][1][\"HorasProyecto\"])\n",
    "horas_jefe = empresa[\"jefe_proyecto\"][\"HorasProyecto\"]\n",
    "print(\"Horas del jefe:\", horas_jefe)\n",
    "print(\"Horas de los empleados:\", horas_empleados)"
   ]
  },
  {
   "cell_type": "code",
   "execution_count": 59,
   "metadata": {},
   "outputs": [
    {
     "name": "stdout",
     "output_type": "stream",
     "text": [
      "El total de horas realizadas por los empleados son: 1600 Horas\n"
     ]
    }
   ],
   "source": [
    "# Completa el ejercicio aquí\n",
    "# Bucle\n",
    "total_horas = 0\n",
    "for empleado in empresa[\"empleados\"]:\n",
    "    total_horas = total_horas + empleado[\"HorasProyecto\"]\n",
    "\n",
    "print(\"El total de horas realizadas por los empleados son:\", total_horas, \"Horas\")"
   ]
  },
  {
   "cell_type": "markdown",
   "metadata": {},
   "source": [
    "3) A veces os encontraréis con JSON que tendréis que modificar. Para ello tenéis que decodificarlos, realizar las modificaciones pertinentes y volver a codificarlo para dejarlo como JSON de nuevo. En el siguiente ejemplo os habéis dado cuenta de que hay algunos errores:\n",
    "* A Superman le falta como poder \"Volar\"\n",
    "* En Batman, la edad es 35, no 350\n",
    "* En Batman, le sobra el poder de \"Rayos en los ojos\"\n",
    "* En Wonder Woman le falta el poder \"Lazo de la verdad\"\n",
    "* Después de corregir todo esto, transforma estos datos en un JSON String"
   ]
  },
  {
   "cell_type": "code",
   "execution_count": 59,
   "metadata": {},
   "outputs": [],
   "source": [
    "# NO TOCAR NADA DE ESTE BLOQUE\n",
    "superheroes = {\n",
    "\t\"nombreEquipo\": \"Super Hero Squad\",\n",
    "\t\"ciudad\": \"Metro City\",\n",
    "\t\"formado\": 2016,\n",
    "\t\"baseSecreta\": \"Super Tower\",\n",
    "\t\"activo\": \"Si\",\n",
    "\t\"miembros\": [\n",
    "\t\t{\n",
    "\t\t\t\"nombre\": \"SuperMan\",\n",
    "\t\t\t\"edad\": 29,\n",
    "\t\t\t\"identidadSecreta\": \"Clart Kent\",\n",
    "\t\t\t\"poderes\": [\n",
    "\t\t\t\t\"Super fuerza\",\n",
    "\t\t\t\t\"Super velocidad\",\n",
    "\t\t\t\t\"Rayos en los ojos\"\n",
    "\t\t\t]\n",
    "\t\t},\n",
    "\t\t{\n",
    "\t\t\t\"nombre\": \"Batman\",\n",
    "\t\t\t\"edad\": 350,\n",
    "\t\t\t\"identidadSecreta\": \"Bruce Wayne\",\n",
    "\t\t\t\"poderes\": [\n",
    "\t\t\t\t\"Detective\",\n",
    "\t\t\t\t\"Dinero\",\n",
    "\t\t\t\t\"Rayos en los ojos\"\n",
    "\t\t\t]\n",
    "\t\t},\n",
    "\t\t{\n",
    "\t\t\t\"nombre\": \"Wonder Woman\",\n",
    "\t\t\t\"edad\": 900,\n",
    "\t\t\t\"identidadSecreta\": \"Diana de Temiscira\",\n",
    "\t\t\t\"poderes\": [\n",
    "\t\t\t\t\"Super fuerza\",\n",
    "\t\t\t\t\"Super velocidad\"\n",
    "\t\t\t]\n",
    "\t\t}\n",
    "\t]\n",
    "}"
   ]
  },
  {
   "cell_type": "code",
   "execution_count": 68,
   "metadata": {
    "scrolled": false
   },
   "outputs": [
    {
     "name": "stdout",
     "output_type": "stream",
     "text": [
      "{'nombreEquipo': 'Super Hero Squad', 'ciudad': 'Metro City', 'formado': 2016, 'baseSecreta': 'Super Tower', 'activo': 'Si', 'miembros': [{'nombre': 'SuperMan', 'edad': 29, 'identidadSecreta': 'Clart Kent', 'poderes': ['Super fuerza', 'Super velocidad', 'Rayos en los ojos', 'Vuela']}, {'nombre': 'Batman', 'edad': 35, 'identidadSecreta': 'Bruce Wayne', 'poderes': ['Detective', 'Dinero']}, {'nombre': 'Wonder Woman', 'edad': 900, 'identidadSecreta': 'Diana de Temiscira', 'poderes': ['Super fuerza', 'Super velocidad', 'Lazo de la verdad']}]}\n",
      "\n",
      "<class 'str'>\n",
      "{\"nombreEquipo\": \"Super Hero Squad\", \"ciudad\": \"Metro City\", \"formado\": 2016, \"baseSecreta\": \"Super Tower\", \"activo\": \"Si\", \"miembros\": [{\"nombre\": \"SuperMan\", \"edad\": 29, \"identidadSecreta\": \"Clart Kent\", \"poderes\": [\"Super fuerza\", \"Super velocidad\", \"Rayos en los ojos\", \"Vuela\"]}, {\"nombre\": \"Batman\", \"edad\": 35, \"identidadSecreta\": \"Bruce Wayne\", \"poderes\": [\"Detective\", \"Dinero\"]}, {\"nombre\": \"Wonder Woman\", \"edad\": 900, \"identidadSecreta\": \"Diana de Temiscira\", \"poderes\": [\"Super fuerza\", \"Super velocidad\", \"Lazo de la verdad\"]}]}\n"
     ]
    }
   ],
   "source": [
    "# Completa el ejercicio aquí\n",
    "\n",
    "import json\n",
    "\n",
    "pod_Kent = [\"Super fuerza\", \"Super velocidad\", \"Rayos en los ojos\", \"Vuela\"]\n",
    "pod_Bruce = [\"Detective\", \"Dinero\"]\n",
    "pod_Diana = [\"Super fuerza\", \"Super velocidad\", \"Lazo de la verdad\"]\n",
    "\n",
    "super_man = {\"nombre\" : \"SuperMan\", \"edad\" : 29, \"identidadSecreta\" : \"Clart Kent\", \"poderes\" : pod_Kent}\n",
    "bat_man = {\"nombre\" : \"Batman\", \"edad\" : 35, \"identidadSecreta\" : \"Bruce Wayne\", \"poderes\" : pod_Bruce}\n",
    "won_woman = {\"nombre\" : \"Wonder Woman\", \"edad\" : 900, \"identidadSecreta\" : \"Diana de Temiscira\", \"poderes\" : pod_Diana}\n",
    "\n",
    "heroes_super = [super_man, bat_man, won_woman]\n",
    "\n",
    "superheroes = {\"nombreEquipo\" : \"Super Hero Squad\", \"ciudad\" : \"Metro City\", \"formado\" : 2016,\n",
    "                \"baseSecreta\" : \"Super Tower\", \"activo\" : \"Si\", \"miembros\" : heroes_super}\n",
    "\n",
    "print(superheroes)\n",
    "print()\n",
    "json_superheroes = json.dumps(superheroes)\n",
    "print(type(json_superheroes))\n",
    "print(json_superheroes)\n"
   ]
  },
  {
   "cell_type": "markdown",
   "metadata": {},
   "source": [
    "4) En base al ejercicio anterior, modifica la estructura de super para lograr que miembros tenga dos ramas: \"miembrosActivos\" y \"miembrosInactivos\", donde cada una de estas ramas, almacenen los héroes que están en activo y los que no. En este caso, introduce a SuperMan y Wonder Woman en la lista de activos y a Batman en la de Inactivos. Esta modificación puedes hacerla como quieras, o bien programando las estructuras de datos e ir componiéndolo o bien cogiendo el JSON y modificándolo sobre él mismo. Al finalizar puedes comprobar tu JSON en un visualizador online (http://jsonviewer.stack.hu/)"
   ]
  },
  {
   "cell_type": "code",
   "execution_count": 10,
   "metadata": {},
   "outputs": [
    {
     "name": "stdout",
     "output_type": "stream",
     "text": [
      "{'nombreEquipo': 'Super Hero Squad', 'ciudad': 'Metro City', 'formado': 2016, 'baseSecreta': 'Super Tower', 'activo': 'Si', 'miembros': [{'miembrosActivos': [{'nombre': 'SuperMan', 'edad': 29, 'identidadSecreta': 'Clart Kent', 'poderes': ['Super fuerza', 'Super velocidad', 'Rayos en los ojos', 'Vuela']}, {'nombre': 'Wonder Woman', 'edad': 900, 'identidadSecreta': 'Diana de Temiscira', 'poderes': ['Super fuerza', 'Super velocidad', 'Lazo de la verdad']}]}, {'miembrosInactivos': [{'nombre': 'Batman', 'edad': 35, 'identidadSecreta': 'Bruce Wayne', 'poderes': ['Detective', 'Dinero']}]}]}\n",
      "\n",
      "<class 'str'>\n",
      "{\"nombreEquipo\": \"Super Hero Squad\", \"ciudad\": \"Metro City\", \"formado\": 2016, \"baseSecreta\": \"Super Tower\", \"activo\": \"Si\", \"miembros\": [{\"miembrosActivos\": [{\"nombre\": \"SuperMan\", \"edad\": 29, \"identidadSecreta\": \"Clart Kent\", \"poderes\": [\"Super fuerza\", \"Super velocidad\", \"Rayos en los ojos\", \"Vuela\"]}, {\"nombre\": \"Wonder Woman\", \"edad\": 900, \"identidadSecreta\": \"Diana de Temiscira\", \"poderes\": [\"Super fuerza\", \"Super velocidad\", \"Lazo de la verdad\"]}]}, {\"miembrosInactivos\": [{\"nombre\": \"Batman\", \"edad\": 35, \"identidadSecreta\": \"Bruce Wayne\", \"poderes\": [\"Detective\", \"Dinero\"]}]}]}\n"
     ]
    }
   ],
   "source": [
    "# Completa el ejercicio aquí\n",
    "import json\n",
    "\n",
    "pod_Kent = [\"Super fuerza\", \"Super velocidad\", \"Rayos en los ojos\", \"Vuela\"]\n",
    "pod_Bruce = [\"Detective\", \"Dinero\"]\n",
    "pod_Diana = [\"Super fuerza\", \"Super velocidad\", \"Lazo de la verdad\"]\n",
    "\n",
    "super_man = {\"nombre\" : \"SuperMan\", \"edad\" : 29, \"identidadSecreta\" : \"Clart Kent\", \"poderes\" : pod_Kent}\n",
    "bat_man = {\"nombre\" : \"Batman\", \"edad\" : 35, \"identidadSecreta\" : \"Bruce Wayne\", \"poderes\" : pod_Bruce}\n",
    "won_woman = {\"nombre\" : \"Wonder Woman\", \"edad\" : 900, \"identidadSecreta\" : \"Diana de Temiscira\", \"poderes\" : pod_Diana}\n",
    "\n",
    "\"\"\"\n",
    "heroes_super = [super_man, bat_man, won_woman]\n",
    "\n",
    "superheroes = {\"nombreEquipo\" : \"Super Hero Squad\", \"ciudad\" : \"Metro City\", \"formado\" : 2016,\n",
    "                \"baseSecreta\" : \"Super Tower\", \"activo\" : \"Si\", \"miembros\" : heroes_super}\n",
    "\"\"\"\n",
    "\n",
    "miembros_Activos = [super_man, won_woman]\n",
    "miembros_Inactivos = [bat_man]\n",
    "\n",
    "Activos = {\"miembrosActivos\" : miembros_Activos}\n",
    "Inactivos = {\"miembrosInactivos\" : miembros_Inactivos}\n",
    "\n",
    "#heroes_miembros = {\"miembros\" : [Activos, Inactivos]}\n",
    "\n",
    "superheroes = {\"nombreEquipo\" : \"Super Hero Squad\", \"ciudad\" : \"Metro City\", \"formado\" : 2016,\n",
    "                \"baseSecreta\" : \"Super Tower\", \"activo\" : \"Si\", \"miembros\" : [{\"miembrosActivos\" : miembros_Activos},\n",
    "                                                                              {\"miembrosInactivos\" : miembros_Inactivos}]}\n",
    "\n",
    "\n",
    "print(superheroes)\n",
    "print()\n",
    "json_superheroes = json.dumps(superheroes)\n",
    "print(type(json_superheroes))\n",
    "print(json_superheroes)"
   ]
  },
  {
   "cell_type": "markdown",
   "metadata": {},
   "source": [
    "5) En el siguiente código, accedemos a un JSON de forma remota, a partir de la respuesta, realizar lo siguiente:\n",
    "* Mostrar el tipo de dato que se ha recibido\n",
    "* Mostrar los datos recibidos\n",
    "* Mostrar el número de personas que se encuentran actualmente en el espacio\n",
    "* Realizar un bucle que recorra a todas esas personas y muestre nombre y nave en la que se encuentra."
   ]
  },
  {
   "cell_type": "code",
   "execution_count": 41,
   "metadata": {},
   "outputs": [
    {
     "name": "stdout",
     "output_type": "stream",
     "text": [
      "Tipo de dato: <class 'dict'>\n",
      "Datos recibidos:\n",
      " {'message': 'success', 'people': [{'name': 'Sergey Ryzhikov', 'craft': 'ISS'}, {'name': 'Kate Rubins', 'craft': 'ISS'}, {'name': 'Sergey Kud-Sverchkov', 'craft': 'ISS'}], 'number': 3}\n",
      "\n",
      "Las personas que se encuentran en el espacio son:\n",
      "\n",
      "\t Sergey Ryzhikov\n",
      "\t Kate Rubins\n",
      "\t Sergey Kud-Sverchkov\n",
      "\n",
      "Sergey Ryzhikov se encuentra en la nave ISS\n",
      "Kate Rubins se encuentra en la nave ISS\n",
      "Sergey Kud-Sverchkov se encuentra en la nave ISS\n"
     ]
    }
   ],
   "source": [
    "from pip._vendor import requests\n",
    "\n",
    "\n",
    "# API que nos comunica cuantas personas se encuentran actualmente en el espacio\n",
    "response = requests.get(\"http://api.open-notify.org/astros.json\")\n",
    "data = response.json()\n",
    "# Completa el ejercicio aquí\n",
    "\n",
    "# Imprimimos tipo de datos y datos\n",
    "print(\"Tipo de dato:\", type(data))\n",
    "print(\"Datos recibidos:\\n\", data)\n",
    "print()\n",
    "\n",
    "# Imprimimos las personas que se encuentran en el espacio\n",
    "print(\"Las personas que se encuentran en el espacio son:\")\n",
    "print()\n",
    "print(\"\\t\", data[\"people\"][0][\"name\"])\n",
    "print(\"\\t\", data[\"people\"][1][\"name\"])\n",
    "print(\"\\t\", data[\"people\"][2][\"name\"])\n",
    "print()\n",
    "#realizamos el bucle\n",
    "\n",
    "for persona in data[\"people\"]:\n",
    "    print(persona[\"name\"],\"se encuentra en la nave\", persona[\"craft\"])"
   ]
  },
  {
   "cell_type": "code",
   "execution_count": null,
   "metadata": {},
   "outputs": [],
   "source": []
  }
 ],
 "metadata": {
  "anaconda-cloud": {},
  "kernelspec": {
   "display_name": "Python 3",
   "language": "python",
   "name": "python3"
  },
  "language_info": {
   "codemirror_mode": {
    "name": "ipython",
    "version": 3
   },
   "file_extension": ".py",
   "mimetype": "text/x-python",
   "name": "python",
   "nbconvert_exporter": "python",
   "pygments_lexer": "ipython3",
   "version": "3.8.3"
  }
 },
 "nbformat": 4,
 "nbformat_minor": 1
}
