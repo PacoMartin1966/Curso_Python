{
 "cells": [
  {
   "cell_type": "markdown",
   "metadata": {},
   "source": [
    "# Ejercicios Modulo 5. Ficheros (Enunciado)\n",
    "\n",
    "Consideraciones a tener en cuenta: \n",
    "\n",
    "* Guardar este documento con el siguiente formato para su entrega: __M5_01_nombre_apellido1_apellido2__\n",
    "* Realizar los ejercicios con las herramientas vistas en las sesiones. \n",
    "* Comentar el código\n",
    "* Utilizar nombres de variables apropiados, si vais a guardar una nota, llamar a esa variable nota, no n o x"
   ]
  },
  {
   "cell_type": "markdown",
   "metadata": {},
   "source": [
    "**1) En este ejercicio deberás crear un programa que abra y lea un fichero de texto, y nos proporcione la siguiente información:**\n",
    "\n",
    "* Nombre del fichero\n",
    "* Si el fichero esta cerrado o no (True o False)\n",
    "* El modo de apertura del fichero\n",
    "\n",
    "El fichero de texto se denominará **pruebas.txt** y tendrá el siguiente contenido en texto plano (créalo previamente):\n",
    "\n",
    "```\n",
    "Hola que tal estas\n",
    "Esto es una prueba\n",
    "Hoy no llueve\n",
    "Se acerca la navidad\n",
    "Hasta luego y muy buenas\n",
    "```\n",
    "\n",
    "Busca en la documentación que métodos nos proporcionan la información requerida. Por último, lista el contenido del fichero.\n",
    "\n",
    "**Aviso importante**: *Si quieres leer un fichero que no se ha escrito directamente con Python, entonces es posible que encuentres errores de codificación al mostrar algunos caracteres. Asegúrate de indicar la codificación del fichero manualmente durante la apertura como argumento en el **open**, por ejemplo con UTF-8:*\n",
    "\n",
    "```python\n",
    "open(..., encoding=\"utf8\")\n",
    "```"
   ]
  },
  {
   "cell_type": "code",
   "execution_count": null,
   "metadata": {},
   "outputs": [],
   "source": [
    "# Completa el ejercicio aquí\n",
    "\n",
    "def estado_fichero(fich):\n",
    "    print(\"El fichero está cerrado:\", fich.closed)\n",
    "\n",
    "abrir_fichero = \"pruebas.txt\"\n",
    "print(\"Nombre del fichero:\", abrir_fichero)\n",
    "modo = \"r\"\n",
    "print(\"Modo apertura:\", modo)\n",
    "fichero = open(abrir_fichero, modo, encoding=\"utf8\")\n",
    "estado_fichero(fichero)\n",
    "texto = fichero.read()\n",
    "print(texto)\n",
    "fichero.close()\n",
    "estado_fichero(fichero)"
   ]
  },
  {
   "cell_type": "markdown",
   "metadata": {},
   "source": [
    "**2) Sobre el fichero anterior, obtén la siguiente información:**\n",
    "\n",
    "* Lectura de una línea del fichero\n",
    "* Lectura del fichero línea a línea"
   ]
  },
  {
   "cell_type": "code",
   "execution_count": null,
   "metadata": {
    "scrolled": true
   },
   "outputs": [],
   "source": [
    "# Completa el ejercicio aquí\n",
    "# Lectura de una línea del fichero\n",
    "fichero = open(\"pruebas.txt\", \"r\", encoding=\"utf8\")\n",
    "fichero.readline()\n"
   ]
  },
  {
   "cell_type": "code",
   "execution_count": null,
   "metadata": {},
   "outputs": [],
   "source": [
    "fichero.readline()"
   ]
  },
  {
   "cell_type": "code",
   "execution_count": null,
   "metadata": {},
   "outputs": [],
   "source": [
    "fichero.readline()"
   ]
  },
  {
   "cell_type": "code",
   "execution_count": null,
   "metadata": {},
   "outputs": [],
   "source": [
    "fichero.readline()"
   ]
  },
  {
   "cell_type": "code",
   "execution_count": null,
   "metadata": {},
   "outputs": [],
   "source": [
    "fichero.readline()"
   ]
  },
  {
   "cell_type": "code",
   "execution_count": null,
   "metadata": {
    "scrolled": false
   },
   "outputs": [],
   "source": [
    "fichero.readline()"
   ]
  },
  {
   "cell_type": "code",
   "execution_count": null,
   "metadata": {},
   "outputs": [],
   "source": [
    "fichero.close()"
   ]
  },
  {
   "cell_type": "code",
   "execution_count": null,
   "metadata": {},
   "outputs": [],
   "source": [
    "# Lectura del fichero línea a línea\n",
    "with open(\"pruebas.txt\",\"r\") as fichero:\n",
    "    for linea in fichero:\n",
    "        print(linea)"
   ]
  },
  {
   "cell_type": "markdown",
   "metadata": {},
   "source": [
    "**3) Sobre el fichero anterior, realiza la siguiente operación:**\n",
    "\n",
    "* Abrir el fichero en modo escritura (concatenando el contenido, sin sobrescribirlo) y escribir una nueva línea de texto\n",
    "\n",
    "Comprueba que este funcionando correctamente comprobando el fichero (tendrás que cerrarlo y abrirlo para poder visualizar los cambios)."
   ]
  },
  {
   "cell_type": "code",
   "execution_count": null,
   "metadata": {},
   "outputs": [],
   "source": [
    "# Completa el ejercicio aquí\n",
    "nueva_linea = \"\\nLínea añadida desde Python\"\n",
    "fichero = open(\"pruebas.txt\", \"a\", encoding=\"utf8\")\n",
    "fichero.write(nueva_linea)\n",
    "fichero.close()"
   ]
  },
  {
   "cell_type": "markdown",
   "metadata": {},
   "source": [
    "**4) Sobre el fichero anterior, realiza la siguiente operación:**\n",
    "\n",
    "* Abrir el fichero en modo escritura (sobrescribiendo el contenido) y escribir una nueva línea de texto\n",
    "\n",
    "Comprueba que este funcionando correctamente comprobando el fichero (tendrás que cerrarlo y abrirlo para poder visualizar los cambios)."
   ]
  },
  {
   "cell_type": "code",
   "execution_count": null,
   "metadata": {},
   "outputs": [],
   "source": [
    "# Completa el ejercicio aquí\n",
    "texto = \"El archivo se ha sobreescrito desde Python\"\n",
    "fichero = open(\"pruebas.txt\", \"w\", encoding=\"utf8\")\n",
    "fichero.write(texto)\n",
    "fichero.close()"
   ]
  },
  {
   "cell_type": "markdown",
   "metadata": {},
   "source": [
    "**5) En este ejercicio deberás crear un programa que lea los datos de un fichero de texto, que transforme cada fila en un diccionario y lo añada a una lista llamada personas. Luego recorre las personas de la lista y para cada una muestra de forma amigable todos sus campos. Por ejemplo así:**\n",
    "\n",
    "```\n",
    "(id=1) Carlos Pérez => 05/01/1989 \n",
    "```\n",
    "\n",
    "El fichero de texto se denominará **personas.txt** y tendrá el siguiente contenido en texto plano (créalo previamente):\n",
    "\n",
    "```\n",
    "1;Carlos;Pérez;05/01/1989\n",
    "2;Manuel;Heredia;26/12/1973\n",
    "3;Rosa;Campos;12/06/1961\n",
    "4;David;García;25/07/2006\n",
    "```\n",
    "\n",
    "Los campos del diccionario serán por orden: **id**, **nombre**, **apellido** y **nacimiento**.\n",
    "\n",
    "**Aviso importante**: *Si quieres leer un fichero que no se ha escrito directamente con Python, entonces es posible que encuentres errores de codificación al mostrar algunos caracteres. Asegúrate de indicar la codificación del fichero manualmente durante la apertura como argumento en el **open**, por ejemplo con UTF-8:*\n",
    "\n",
    "```python\n",
    "open(..., encoding=\"utf8\")\n",
    "```\n",
    "\n",
    "Pista: Es posible que tengas que recurrir a funciones como replace o split para poder modificar el texto de una línea de texto. Busca documentación sobre ello."
   ]
  },
  {
   "cell_type": "code",
   "execution_count": null,
   "metadata": {},
   "outputs": [],
   "source": [
    "# Completa el ejercicio aquí\n",
    "\n",
    "dicc = {}\n",
    "with open(\"personas.txt\", \"r\", encoding=\"utf8\") as fichero:\n",
    "    for linea in fichero:\n",
    "        lista = linea.split(\";\")\n",
    "        dicc[lista[0]] = lista[1] + \" \" +lista[2] +\" => \"+lista[3]\n",
    "\n",
    "for clave, valor in dicc.items():\n",
    "    print(\"(ide=\" + clave + \")\", valor)"
   ]
  },
  {
   "cell_type": "code",
   "execution_count": null,
   "metadata": {},
   "outputs": [],
   "source": []
  }
 ],
 "metadata": {
  "anaconda-cloud": {},
  "kernelspec": {
   "display_name": "Python 3",
   "language": "python",
   "name": "python3"
  },
  "language_info": {
   "codemirror_mode": {
    "name": "ipython",
    "version": 3
   },
   "file_extension": ".py",
   "mimetype": "text/x-python",
   "name": "python",
   "nbconvert_exporter": "python",
   "pygments_lexer": "ipython3",
   "version": "3.8.3"
  }
 },
 "nbformat": 4,
 "nbformat_minor": 1
}
