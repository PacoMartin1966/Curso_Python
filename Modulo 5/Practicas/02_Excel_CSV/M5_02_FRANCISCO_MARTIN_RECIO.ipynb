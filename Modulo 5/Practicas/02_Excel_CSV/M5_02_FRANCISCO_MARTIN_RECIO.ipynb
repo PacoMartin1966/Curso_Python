{
 "cells": [
  {
   "cell_type": "markdown",
   "metadata": {},
   "source": [
    "# Ejercicios Modulo 5. Excel y CSV (Enunciado)\n",
    "\n",
    "Consideraciones a tener en cuenta: \n",
    "\n",
    "* Guardar este documento con el siguiente formato para su entrega: __M5_02_nombre_apellido1_apellido2__\n",
    "* Realizar los ejercicios con las herramientas vistas en las sesiones. \n",
    "* Comentar el código\n",
    "* Utilizar nombres de variables apropiados, si vais a guardar una nota, llamar a esa variable nota, no n o x\n",
    "\n",
    "__Recomendación:__ Haz una copia de los ficheros antes de empezar a modificarlos para siempre poder recuperar una versión original de los mismos."
   ]
  },
  {
   "cell_type": "markdown",
   "metadata": {},
   "source": [
    "## EXCEL"
   ]
  },
  {
   "cell_type": "markdown",
   "metadata": {},
   "source": [
    "**1) Ejercicio de manejo de Excel en base al fichero 02_Excel_data.xlsx:**\n",
    "* Abre el fichero Excel\n",
    "* Lista las hojas que hay\n",
    "* Crea una nueva hoja que se llame olimpiadas entre ventas y otros\n",
    "* Vuelve a listar las hojas que hay\n",
    "* Guarda los cambios y comprueba en el excel si se han efectuado"
   ]
  },
  {
   "cell_type": "code",
   "execution_count": null,
   "metadata": {},
   "outputs": [],
   "source": [
    "# Completa el ejercicio aquí\n",
    "import openpyxl\n",
    "wb = openpyxl.load_workbook(\"02_Excel_data.xlsx\")\n",
    "print(\"Los nombres de las hojas son:\")\n",
    "print(wb.sheetnames)\n",
    "nueva_hoja = wb.create_sheet(\"Mysheet\", 2) # el número 2 es la posicion de la hoja que insertamos\n",
    "nueva_hoja.title = \"olimpiadas\"\n",
    "print(\"Los nombres de las hojas son:\")\n",
    "print(wb.sheetnames)\n",
    "wb.save(\"02_Excel_data.xlsx\")"
   ]
  },
  {
   "cell_type": "markdown",
   "metadata": {},
   "source": [
    "**2) Continuemos con Excel**\n",
    "* Crea una lista que contenga los siguientes datos olímpicos (nombre del país y medallas de oro, plata y bronce):\n",
    "```\n",
    "USA, 46, 12, 5\n",
    "China, 38, 20, 7\n",
    "UK, 29, 7, 7\n",
    "Russia, 22, 10, 9\n",
    "South Korea, 13, 3, 2\n",
    "Germany, 11, 7, 4\n",
    "```\n",
    "* Añadir esa lista a la hoja de olimpiadas que creamos en el ejercicio anterior\n",
    "* Listar por filas y columnas el contenido\n",
    "* Mover todo el rango de datos una fila hacia abajo (buscar en la documentación como mover rangos)\n",
    "* Añadir unas cabeceras en la primera línea (que acaba de quedar libre) que sean \"Pais\", \"Oros\", \"Platas\", \"Bronces\"\n",
    "* Guarda los cambios y comprueba en el excel si se han efectuado"
   ]
  },
  {
   "cell_type": "code",
   "execution_count": null,
   "metadata": {},
   "outputs": [],
   "source": [
    "# Completa el ejercicio aquí\n",
    "hoja_olimpiadas = wb[\"olimpiadas\"]\n",
    "hoja_olimpiadas.append([\"USA\", 46, 12, 5])\n",
    "hoja_olimpiadas.append([\"China\", 38, 20, 7])\n",
    "hoja_olimpiadas.append([\"UK\", 29, 7, 7])\n",
    "hoja_olimpiadas.append([\"Russia\", 22, 10, 9])\n",
    "hoja_olimpiadas.append([\"South Korea\", 13, 3, 2])\n",
    "hoja_olimpiadas.append([\"Germany\", 11, 7, 4])\n",
    "wb.save(\"02_Excel_data.xlsx\")\n",
    "   "
   ]
  },
  {
   "cell_type": "code",
   "execution_count": null,
   "metadata": {
    "scrolled": true
   },
   "outputs": [],
   "source": [
    "n=1\n",
    "for fila in hoja_olimpiadas.rows:\n",
    "    print(\"Fila\", n)\n",
    "    for columna in fila:\n",
    "        print(columna.value, end=' ')\n",
    "    print()\n",
    "    n +=1"
   ]
  },
  {
   "cell_type": "code",
   "execution_count": null,
   "metadata": {},
   "outputs": [],
   "source": [
    "# Movemos todo el rango una fila hacia abajo\n",
    "\n",
    "hoja_olimpiadas.move_range(\"A1:D6\", rows=1)\n",
    "wb.save(\"02_Excel_data.xlsx\")"
   ]
  },
  {
   "cell_type": "code",
   "execution_count": null,
   "metadata": {},
   "outputs": [],
   "source": [
    "# Insertamos en la primera línea los nuevos valores\n",
    "\n",
    "hoja_olimpiadas[\"A1\"].value = \"Pais\"\n",
    "hoja_olimpiadas[\"B1\"].value = \"Oros\"\n",
    "hoja_olimpiadas[\"C1\"].value = \"Platas\"\n",
    "hoja_olimpiadas[\"D1\"].value = \"Bronces\"\n",
    "wb.save(\"02_Excel_data.xlsx\")\n"
   ]
  },
  {
   "cell_type": "markdown",
   "metadata": {},
   "source": [
    "**3) Continuemos con Excel, centrandonos en la parte de la librería openpyxl.styles (la cual proporciona estilo a nuestras hojas de Excel)**\n",
    "* Poner las cabeceras que acabamos de añadir en negrita (bold)\n",
    "* Guarda los cambios y comprueba en el excel si se han efectuado\n",
    "\n",
    "Pista: Aunque hay varias formas de hacerlo, lo más común es definir el estilo que deseas (negrita) y luego aplicárselo a todas las celdas que quieras (iterar por la primera fila de nuestra hoja)\n",
    "\n",
    "Doc: https://openpyxl.readthedocs.io/en/stable/styles.html"
   ]
  },
  {
   "cell_type": "code",
   "execution_count": null,
   "metadata": {
    "scrolled": true
   },
   "outputs": [],
   "source": [
    "# Completa el ejercicio aquí\n",
    "# Aplicamos en negrita las cabeceras\n",
    "\n",
    "from openpyxl.styles import Font\n",
    "cabecera = hoja_olimpiadas['A1']\n",
    "cabecera.font = Font(bold=True)\n",
    "cabecera = hoja_olimpiadas['B1']\n",
    "cabecera.font = Font(bold=True)\n",
    "cabecera = hoja_olimpiadas['C1']\n",
    "cabecera.font = Font(bold=True)\n",
    "cabecera = hoja_olimpiadas['D1']\n",
    "cabecera.font = Font(bold=True)\n",
    "wb.save(\"02_Excel_data.xlsx\")"
   ]
  },
  {
   "cell_type": "markdown",
   "metadata": {},
   "source": [
    "**4) Continuamos con Excel. Crea una nueva columna que sea el sumatorio de todas las medallas conseguidas por cada uno de los paises**"
   ]
  },
  {
   "cell_type": "code",
   "execution_count": null,
   "metadata": {},
   "outputs": [],
   "source": [
    "# Completa el ejercicio aquí FILAS\n",
    "celda = \"\"\n",
    "fil = 1\n",
    "valor = 0\n",
    "for fila in hoja_olimpiadas.rows:\n",
    "        \n",
    "    \n",
    "    for columna in fila:\n",
    "        \n",
    "        col = columna.coordinate\n",
    "        col = col[0]\n",
    "        if col != \"A\" and fil != 1:\n",
    "            celda = \"E\"+str(fil)\n",
    "            valor += columna.value\n",
    "    if celda != \"\":\n",
    "        print(\"Valor de celda\", celda, \":\", valor)\n",
    "        hoja_olimpiadas[celda].value = valor    \n",
    "    fil += 1\n",
    "    valor = 0\n",
    "wb.save(\"02_Excel_data.xlsx\")         \n",
    "    \n",
    "    \n",
    "\n",
    "\n",
    "    "
   ]
  },
  {
   "cell_type": "markdown",
   "metadata": {},
   "source": [
    "**5) Continuamos con Excel. Crear un gráfico de barras (openpyxl.chart.BarChart()) lo más parecido al que se muestra en la imagen:**\n",
    "\n",
    "<img src=\"./02_Excel_data.png\"  />"
   ]
  },
  {
   "cell_type": "code",
   "execution_count": null,
   "metadata": {},
   "outputs": [],
   "source": [
    "import openpyxl\n",
    "\n",
    "\n",
    "\n",
    "# Completa el ejercicio aquí\n",
    "\n",
    "\n",
    "\n",
    "# Abrir un archivo Excel (workbook)\n",
    "wb = openpyxl.load_workbook(\"02_Excel_data.xlsx\")\n",
    "\n",
    "# Definimos la hoja dos (hoja de ventas)\n",
    "hoja_olimpiadas = wb[\"olimpiadas\"]\n",
    "\n",
    "# Configuracion y creacion de la gráfica\n",
    "grafica = openpyxl.chart.AreaChart()\n",
    "# Para versiones nuevas de Anaconda: grafica = AreaChart()\n",
    "#grafica = AreaChart()\n",
    "grafica.title = \"RANKING\"\n",
    "grafica.style = 10\n",
    "grafica.x_axis.title = \"PAIS\"\n",
    "grafica.y_axis.title = \"MEDALLAS\"\n",
    "data = openpyxl.chart.Reference(hoja_olimpiadas, min_col=5, min_row=2, max_col=5, max_row=7)\n",
    "#periodo = openpyxl.chart.Reference(hoja_dos, min_col=1, min_row=2, max_row=7)\n",
    "# Para versiones nuevas de Anaconda: periodo = Reference(hoja_dos, min_col=1, min_row=2, max_row=7)\n",
    "categs = openpyxl.chart.Reference(hoja_olimpiadas, min_col=1, min_row=2, max_row=7)\n",
    "#utilidades = openpyxl.chart.Reference(hoja_dos, min_col=2, min_row=1, max_col=3, max_row=7)\n",
    "# Para versiones nuevas de Anaconda: Reference(hoja_dos, min_col=2, min_row=1, max_col=3, max_row=7)\n",
    "grafica.add_data(data, titles_from_data=True)\n",
    "grafica.set_categories(categs)\n",
    "hoja_olimpiadas.add_chart(grafica, \"A8\")\n",
    "\n",
    "# Guardamos los cambios\n",
    "wb.save(\"02_Excel_data.xlsx\")\n",
    "print(\"GRAFICA GENERADA\")"
   ]
  },
  {
   "cell_type": "code",
   "execution_count": null,
   "metadata": {},
   "outputs": [],
   "source": [
    "import openpyxl\n",
    "from openpyxl.chart import BarChart, Series, Reference\n",
    "\n",
    "\n",
    "# Completa el ejercicio aquí\n",
    "\n",
    "\n",
    "\n",
    "wb = openpyxl.load_workbook(\"02_Excel_data.xlsx\")\n",
    "\n",
    "# Definimos la hoja dos (hoja de ventas)\n",
    "hoja_olimpiadas = wb[\"olimpiadas\"]\n",
    "\n",
    "# Configuracion y creacion de la gráfica\n",
    "grafica = BarChart()\n",
    "grafica.title = \"RANKING\"\n",
    "grafica.style = 10\n",
    "grafica.x_axis.title = \"PAIS\"\n",
    "grafica.y_axis.title = \"MEDALLAS\"\n",
    "data = openpyxl.chart.Reference(hoja_olimpiadas, min_col=5, min_row=1, max_col=5, max_row=7)\n",
    "categs = openpyxl.chart.Reference(hoja_olimpiadas, min_col=1, min_row=2, max_row=7)\n",
    "grafica.add_data(data, titles_from_data=True)\n",
    "grafica.set_categories(categs)\n",
    "hoja_olimpiadas.add_chart(grafica, \"A8\")\n",
    "\n",
    "# Guardamos los cambios\n",
    "wb.save(\"02_Excel_data.xlsx\")\n",
    "print(\"GRAFICA GENERADA\")\n"
   ]
  },
  {
   "cell_type": "markdown",
   "metadata": {},
   "source": [
    "## CSV"
   ]
  },
  {
   "cell_type": "markdown",
   "metadata": {},
   "source": [
    "**Vamos a realizar un ejercicio práctico de minería de datos, donde limpiaremos y filtraremos información con un csv que contiene datos de vehículos**\n",
    "\n",
    "Trabajaremos con el fichero **02_CSV_data.csv**"
   ]
  },
  {
   "cell_type": "markdown",
   "metadata": {},
   "source": [
    "**6) Observa los datos del csv y realiza las siguientes tareas:**\n",
    "\n",
    "* Tenemos 9 columnas, las 8 primeras contienen datos numéricos con los cuales podemos trabajar, crea una lista para cada una de estas columnas (mpg, cylinders, etc.). No es necesario crear lista para name\n",
    "* Recorre los datos del csv adecuadamente y almacena los datos de cada columna en cada una de las listas que has creado anteriormente.\n",
    "* Comprobar que se haya guardado en las listas la información correspondiente (con prints)"
   ]
  },
  {
   "cell_type": "code",
   "execution_count": null,
   "metadata": {},
   "outputs": [],
   "source": [
    "# Completa el ejercicio aquí\n",
    "import csv\n",
    "dicc = []\n",
    "\n",
    "with open(\"02_CSV_data.csv\") as my_csv_file:\n",
    "    reader = csv.DictReader(my_csv_file)\n",
    "    for reg in reader:\n",
    "        #print(reg['mpg'], reg['cylinders'], reg['displacement'], reg['horsepower'], reg['weight'], \n",
    "              #reg['acceleration'], reg['year'], reg['origin'])\n",
    "        dicc.append(reg)\n",
    "        \n",
    "mpg = []\n",
    "cylinders = []\n",
    "displacement = []\n",
    "horsepower = []\n",
    "weight = []\n",
    "acceleration = []\n",
    "year = []\n",
    "origin = []\n",
    "for lista in dicc:\n",
    "    for clave, valor in lista.items():\n",
    "        if clave == 'mpg':\n",
    "            mpg.append(valor)\n",
    "        elif clave == 'cylinders':\n",
    "            cylinders.append(valor)\n",
    "        elif clave == 'displacement':\n",
    "            displacement.append(valor)\n",
    "        elif clave == 'horsepower':\n",
    "            horsepower.append(valor)\n",
    "        elif clave == 'weight':\n",
    "            weight.append(valor)\n",
    "        elif clave == 'acceleration':\n",
    "            acceleration.append(valor)\n",
    "        elif clave == 'year':\n",
    "            year.append(valor)\n",
    "        elif clave == 'origin':\n",
    "            origin.append(valor)\n",
    "\n",
    "print(mpg)\n",
    "print(cylinders)\n",
    "print(displacement)\n",
    "print(horsepower)\n",
    "print(weight)\n",
    "print(acceleration)\n",
    "print(year)\n",
    "print(origin)"
   ]
  },
  {
   "cell_type": "markdown",
   "metadata": {},
   "source": [
    "**7) Vamos a trabajar con los números de nuestras listas por lo que nos sobra el primer elemento de cada lista, el cual contiene el nombre de cada una de las columnas.**\n",
    "\n",
    "* Elimina el primer elemento de cada una de las listas\n",
    "* Observa que los datos de nuestras listas son strings, conviértelos a float. Pista: list y map te pueden ayudar.\n",
    "* Comprobar que se haya eliminado el primer elemento y que los datos son numéricos (con prints)"
   ]
  },
  {
   "cell_type": "code",
   "execution_count": null,
   "metadata": {},
   "outputs": [],
   "source": [
    "# Completa el ejercicio aquí\n",
    "print(\"Tipo de dato de la lista 'mpg' antes de la conversion:\", type(mpg[0]))\n",
    "mpg = list(map(float, mpg))\n",
    "print(\"Tipo de dato de la lista 'mpg' después de la conversion:\", type(mpg[0]), \"\\n\")\n",
    "\n",
    "print(\"Tipo de dato de la lista 'cylinders' antes de la conversion:\", type(cylinders[0]))\n",
    "cylinders = list(map(float, cylinders))\n",
    "print(\"Tipo de dato de la lista 'cylinders' después de la conversion:\", type(cylinders[0]), \"\\n\")\n",
    "\n",
    "print(\"Tipo de dato de la lista 'displacement' antes de la conversion:\", type(displacement[0]))\n",
    "displacement = list(map(float, displacement))\n",
    "print(\"Tipo de dato de la lista 'displacement' después de la conversion:\", type(displacement[0]), \"\\n\")\n",
    "\n",
    "print(\"Tipo de dato de la lista 'horsepower' antes de la conversion:\", type(horsepower[0]))\n",
    "horsepower = list(map(float, horsepower))\n",
    "print(\"Tipo de dato de la lista 'horsepower' después de la conversion:\", type(horsepower[0]), \"\\n\")\n",
    "\n",
    "print(\"Tipo de dato de la lista 'weight' antes de la conversion:\", type(weight[0]))\n",
    "weight = list(map(float, weight))\n",
    "print(\"Tipo de dato de la lista 'weight' después de la conversion:\", type(weight[0]), \"\\n\")\n",
    "\n",
    "print(\"Tipo de dato de la lista 'acceleration' antes de la conversion:\", type(acceleration[0]))\n",
    "acceleration = list(map(float, acceleration))\n",
    "print(\"Tipo de dato de la lista 'acceleration' después de la conversion:\", type(acceleration[0]), \"\\n\")\n",
    "\n",
    "print(\"Tipo de dato de la lista 'year' antes de la conversion:\", type(year[0]))\n",
    "year = list(map(float, year))\n",
    "print(\"Tipo de dato de la lista 'year' después de la conversion:\", type(year[0]), \"\\n\")\n",
    "\n",
    "print(\"Tipo de dato de la lista 'origin' antes de la conversion:\", type(origin[0]))\n",
    "origin = list(map(float, origin))\n",
    "print(\"Tipo de dato de la lista 'origin' después de la conversion:\", type(origin[0]))"
   ]
  },
  {
   "cell_type": "markdown",
   "metadata": {},
   "source": [
    "**8) Para terminar vamos a mostrar algunos resultados. Para ello utilizaremos la librería statistics.**\n",
    "\n",
    "* Muestra para cada una de las listas, cuantas observaciones tiene (cuántos datos tiene).\n",
    "* Mostrar el mínimo y el máximo de cada lista\n",
    "* Mostrar la media, mediana y desviación estándar de cada lista (utilizando statistics)"
   ]
  },
  {
   "cell_type": "code",
   "execution_count": null,
   "metadata": {},
   "outputs": [],
   "source": [
    "#mport statistics as stats\n",
    "# Completa el ejercicio aquí\n",
    "\n",
    "import statistics # ********* HE TENIDO QUE QUITAR as stats PARA QUE ME FUNCIONASE ************\n",
    "\n",
    "print(\"La lista 'mpg' tiene\", len(mpg), \"datos\")\n",
    "print(\"La lista 'cylinders' tiene\", len(cylinders), \"datos\")\n",
    "print(\"La lista 'displacement' tiene\", len(displacement), \"datos\")\n",
    "print(\"La lista 'horsepower' tiene\", len(horsepower), \"datos\")\n",
    "print(\"La lista 'weight' tiene\", len(weight), \"datos\")\n",
    "print(\"La lista 'acceleration' tiene\", len(acceleration), \"datos\")\n",
    "print(\"La lista 'year' tiene\", len(year), \"datos\")\n",
    "print(\"La lista 'origin' tiene\", len(origin), \"datos\")"
   ]
  },
  {
   "cell_type": "code",
   "execution_count": null,
   "metadata": {},
   "outputs": [],
   "source": [
    "print(\"El valor minimo de la tabla 'mpg' es:\", min(mpg))\n",
    "print(\"El valor minimo de la tabla 'cylinders' es:\", min(cylinders))\n",
    "print(\"El valor minimo de la tabla 'displacement' es:\", min(displacement))\n",
    "print(\"El valor minimo de la tabla 'horsepower' es:\", min(horsepower))\n",
    "print(\"El valor minimo de la tabla 'weight' es:\", min(weight))\n",
    "print(\"El valor minimo de la tabla 'acceleration' es:\", min(acceleration))\n",
    "print(\"El valor minimo de la tabla 'year' es:\", min(year))\n",
    "print(\"El valor minimo de la tabla 'origin' es:\", min(origin))\n"
   ]
  },
  {
   "cell_type": "code",
   "execution_count": null,
   "metadata": {},
   "outputs": [],
   "source": [
    "print(\"El valor máximo de la tabla 'mpg' es:\", max(mpg))\n",
    "print(\"El valor máximo de la tabla 'cylinders' es:\", max(cylinders))\n",
    "print(\"El valor máximo de la tabla 'displacement' es:\", max(displacement))\n",
    "print(\"El valor máximo de la tabla 'horsepower' es:\", max(horsepower))\n",
    "print(\"El valor máximo de la tabla 'weight' es:\", max(weight))\n",
    "print(\"El valor máximo de la tabla 'acceleration' es:\", max(acceleration))\n",
    "print(\"El valor máximo de la tabla 'year' es:\", max(year))\n",
    "print(\"El valor máximo de la tabla 'origin' es:\", max(origin))"
   ]
  },
  {
   "cell_type": "code",
   "execution_count": null,
   "metadata": {},
   "outputs": [],
   "source": [
    "x = statistics.mean(mpg)\n",
    "print(\"La media de la lista 'mpg es:\", round(x, 2))\n",
    "\n",
    "x = statistics.mean(cylinders)\n",
    "print(\"La media de la lista 'cylinders es:\", round(x, 2))\n",
    "\n",
    "x = statistics.mean(displacement)\n",
    "print(\"La media de la lista 'displacement es:\", round(x, 2))\n",
    "\n",
    "x = statistics.mean(horsepower)\n",
    "print(\"La media de la lista 'horsepower es:\", round(x, 2))\n",
    "\n",
    "x = statistics.mean(weight)\n",
    "print(\"La media de la lista 'weight es:\", round(x, 2))\n",
    "\n",
    "x = statistics.mean(acceleration)\n",
    "print(\"La media de la lista 'acceleration es:\", round(x, 2))\n",
    "\n",
    "x = statistics.mean(year)\n",
    "print(\"La media de la lista 'year es:\", round(x, 2))\n",
    "\n",
    "x = statistics.mean(origin)\n",
    "print(\"La media de la lista 'origin es:\", round(x, 2))\n"
   ]
  },
  {
   "cell_type": "code",
   "execution_count": null,
   "metadata": {},
   "outputs": [],
   "source": [
    "x = statistics.median(mpg)\n",
    "print(\"La mediana de la lista 'mpg es:\", round(x, 2))\n",
    "\n",
    "x = statistics.median(cylinders)\n",
    "print(\"La mediana de la lista 'cylinders es:\", round(x, 2))\n",
    "\n",
    "x = statistics.median(displacement)\n",
    "print(\"La mediana de la lista 'displacement es:\", round(x, 2))\n",
    "\n",
    "x = statistics.median(horsepower)\n",
    "print(\"La mediana de la lista 'horsepower es:\", round(x, 2))\n",
    "\n",
    "x = statistics.median(weight)\n",
    "print(\"La mediana de la lista 'weight es:\", round(x, 2))\n",
    "\n",
    "x = statistics.median(acceleration)\n",
    "print(\"La mediana de la lista 'acceleration es:\", round(x, 2))\n",
    "\n",
    "x = statistics.median(year)\n",
    "print(\"La mediana de la lista 'year es:\", round(x, 2))\n",
    "\n",
    "x = statistics.median(origin)\n",
    "print(\"La mediana de la lista 'origin es:\", round(x, 2))"
   ]
  },
  {
   "cell_type": "code",
   "execution_count": null,
   "metadata": {},
   "outputs": [],
   "source": [
    "\n",
    "x = statistics.pstdev(mpg)\n",
    "print(\"La desviación estándar de la lista 'mpg es:\", round(x, 2))\n",
    "\n",
    "x = statistics.pstdev(cylinders)\n",
    "print(\"La desviación estándar de la lista 'cylinders es:\", round(x, 2))\n",
    "\n",
    "x = statistics.pstdev(displacement)\n",
    "print(\"La desviación estándar de la lista 'displacement es:\", round(x, 2))\n",
    "\n",
    "x = statistics.pstdev(horsepower)\n",
    "print(\"La desviación estándar de la lista 'horsepower es:\", round(x, 2))\n",
    "\n",
    "x = statistics.pstdev(weight)\n",
    "print(\"La desviación estándar de la lista 'weight es:\", round(x, 2))\n",
    "\n",
    "x = statistics.pstdev(acceleration)\n",
    "print(\"La desviación estándar de la lista 'acceleration es:\", round(x, 2))\n",
    "\n",
    "x = statistics.pstdev(year)\n",
    "print(\"La desviación estándar de la lista 'year es:\", round(x, 2))\n",
    "\n",
    "x = statistics.pstdev(origin)\n",
    "print(\"La desviación estándar de la lista 'origin es:\", round(x, 2))"
   ]
  },
  {
   "cell_type": "code",
   "execution_count": null,
   "metadata": {},
   "outputs": [],
   "source": []
  }
 ],
 "metadata": {
  "anaconda-cloud": {},
  "kernelspec": {
   "display_name": "Python 3",
   "language": "python",
   "name": "python3"
  },
  "language_info": {
   "codemirror_mode": {
    "name": "ipython",
    "version": 3
   },
   "file_extension": ".py",
   "mimetype": "text/x-python",
   "name": "python",
   "nbconvert_exporter": "python",
   "pygments_lexer": "ipython3",
   "version": "3.8.3"
  }
 },
 "nbformat": 4,
 "nbformat_minor": 1
}
