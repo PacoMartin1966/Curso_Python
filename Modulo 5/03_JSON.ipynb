{
 "cells": [
  {
   "cell_type": "markdown",
   "metadata": {},
   "source": [
    "# JSON\n",
    "Vamos a ver con una serie de ejemplos como interpretar y manipular datos en formato JSON. Para ello utilizaremos el módulo __json__. En la actualidad todos los lenguajes de programación disponen de módulos o librerías especializadas para el manejo de datos en formato JSON.\n",
    "En la web oficial de JSON (https://www.json.org/json-es.html), en el final de la página se encuentra un listado de más de __200 librerías y módulos para más de 60 lengajes de programación diferentes.__"
   ]
  },
  {
   "cell_type": "markdown",
   "metadata": {},
   "source": [
    "### ÍNDICE DE CONTENIDOS\n",
    "\n",
    "* Ejemplo de partida\n",
    "* Módulo JSON\n",
    "* Codificar JSON\n",
    "* Decodificar JSON\n",
    "* Trabajar con datos JSON"
   ]
  },
  {
   "cell_type": "markdown",
   "metadata": {},
   "source": [
    "Veamos un ejemplo sencillo de JSON:"
   ]
  },
  {
   "cell_type": "code",
   "execution_count": 2,
   "metadata": {},
   "outputs": [
    {
     "data": {
      "text/plain": [
       "{'Fruteria': [{'Fruta': [{'Nombre': 'Manzana', 'Cantidad': 10},\n",
       "    {'Nombre': 'Pera', 'Cantidad': 20},\n",
       "    {'Nombre': 'Naranja', 'Cantidad': 30}]},\n",
       "  {'Verdura': [{'Nombre': 'Lechuga', 'Cantidad': 80},\n",
       "    {'Nombre': 'Tomate', 'Cantidad': 15},\n",
       "    {'Nombre': 'Pepino', 'Cantidad': 50}]}]}"
      ]
     },
     "execution_count": 2,
     "metadata": {},
     "output_type": "execute_result"
    }
   ],
   "source": [
    "{\n",
    "    \"Fruteria\": [\n",
    "        {\n",
    "            \"Fruta\": [\n",
    "                {\n",
    "                    \"Nombre\": \"Manzana\",\n",
    "                    \"Cantidad\": 10\n",
    "                },\n",
    "                {\n",
    "                    \"Nombre\": \"Pera\",\n",
    "                    \"Cantidad\": 20\n",
    "                },\n",
    "                {\n",
    "                    \"Nombre\": \"Naranja\",\n",
    "                    \"Cantidad\": 30\n",
    "                }\n",
    "            ]\n",
    "        },\n",
    "        {\n",
    "            \"Verdura\": [\n",
    "                {\n",
    "                    \"Nombre\": \"Lechuga\",\n",
    "                    \"Cantidad\": 80\n",
    "                },\n",
    "                {\n",
    "                    \"Nombre\": \"Tomate\",\n",
    "                    \"Cantidad\": 15\n",
    "                },\n",
    "                {\n",
    "                    \"Nombre\": \"Pepino\",\n",
    "                    \"Cantidad\": 50\n",
    "                }\n",
    "            ]\n",
    "        }\n",
    "    ]\n",
    "}"
   ]
  },
  {
   "cell_type": "markdown",
   "metadata": {},
   "source": [
    "Como podemos observar, hemos creado un objeto llamado __frutería__ y, dentro de ese objeto hemos almacenado un __array de dos elementos__. El primer elemento del array contiene un objeto llamado __fruta__ y el segundo elemento del array contiene otro objeto llamado __verdura__. Estos objetos a su vez contienen __un array__ cuyo contenido es __el nombre y la cantidad__ de cada fruta o verdura."
   ]
  },
  {
   "cell_type": "markdown",
   "metadata": {},
   "source": [
    "## MÓDULO JSON"
   ]
  },
  {
   "cell_type": "code",
   "execution_count": 3,
   "metadata": {},
   "outputs": [],
   "source": [
    "import json"
   ]
  },
  {
   "cell_type": "markdown",
   "metadata": {},
   "source": [
    "## CODIFICAR JSON (CREAR JSON) (dumps())\n",
    "Nuestro módulo __json__ el cual nos va a permitir manipular datos JSON, también nos permitirá crear (o transformar más bien) datos que ya tengamos en nuestro programa (variables) en datos JSON. Esto lo logrará gracias al __codificador (dumps)__. Este codificador será capaz de transformar todo tipo de datos nativos de Python (string, unicode, int, float, list, tuple, dict, etc.). Para nuestro ejemplo vamos a crear la estructura con __diccionarios y listas.__"
   ]
  },
  {
   "cell_type": "code",
   "execution_count": 4,
   "metadata": {},
   "outputs": [
    {
     "name": "stdout",
     "output_type": "stream",
     "text": [
      "{'Nombre': 'Manzana', 'Cantidad': 10}\n",
      "{'Nombre': 'Pera', 'Cantidad': 20}\n",
      "{'Nombre': 'Naranja', 'Cantidad': 30}\n",
      "{'Nombre': 'Lechuga', 'Cantidad': 80}\n",
      "{'Nombre': 'Tomate', 'Cantidad': 15}\n",
      "{'Nombre': 'Pepino', 'Cantidad': 50}\n"
     ]
    }
   ],
   "source": [
    "# Opcion 1 (iniciacion): Creacion de las estructuras poco a poco. Vamos a ir de dentro a fuera\n",
    "# Diccionarios de las frutas\n",
    "dicc_frutas_1 = {\n",
    "    \"Nombre\": \"Manzana\",\n",
    "    \"Cantidad\": 10\n",
    "}\n",
    "print(dicc_frutas_1)\n",
    "\n",
    "dicc_frutas_2 = {\n",
    "    \"Nombre\": \"Pera\",\n",
    "    \"Cantidad\": 20\n",
    "}\n",
    "print(dicc_frutas_2)\n",
    "\n",
    "dicc_frutas_3 = {\n",
    "    \"Nombre\": \"Naranja\",\n",
    "    \"Cantidad\": 30\n",
    "}\n",
    "print(dicc_frutas_3)\n",
    "\n",
    "# Diccionario de las verduras\n",
    "dicc_verduras_1 = {\n",
    "    \"Nombre\": \"Lechuga\",\n",
    "    \"Cantidad\": 80\n",
    "}\n",
    "print(dicc_verduras_1)\n",
    "\n",
    "dicc_verduras_2 = {\n",
    "    \"Nombre\": \"Tomate\",\n",
    "    \"Cantidad\": 15\n",
    "}\n",
    "print(dicc_verduras_2)\n",
    "\n",
    "dicc_verduras_3 = {\n",
    "    \"Nombre\": \"Pepino\",\n",
    "    \"Cantidad\": 50\n",
    "}\n",
    "print(dicc_verduras_3)"
   ]
  },
  {
   "cell_type": "markdown",
   "metadata": {},
   "source": [
    "Ya tenemos los diccionarios más internos de nuestra estructura, los que contienen la información de las frutas y de las verduras. Fijaos que tenemos 3 diccionarios de frutas y 3 diccionarios de verduras, pero este número podría crecer rapidamente. La estructura lógica para cuando tenemos una lista de variables (en este caso diccionarios), es una __lista__. Por lo tanto, __introduciremos todos nuestros diccionarios de frutas dentro de una lista__. Y realizaremos lo mismo con las verduras."
   ]
  },
  {
   "cell_type": "code",
   "execution_count": 5,
   "metadata": {},
   "outputs": [
    {
     "name": "stdout",
     "output_type": "stream",
     "text": [
      "[{'Nombre': 'Manzana', 'Cantidad': 10}, {'Nombre': 'Pera', 'Cantidad': 20}, {'Nombre': 'Naranja', 'Cantidad': 30}]\n",
      "[{'Nombre': 'Lechuga', 'Cantidad': 80}, {'Nombre': 'Tomate', 'Cantidad': 15}, {'Nombre': 'Pepino', 'Cantidad': 50}]\n"
     ]
    }
   ],
   "source": [
    "# Lista de frutas: Contiene los diccionarios de las frutas\n",
    "lista_frutas = [dicc_frutas_1, dicc_frutas_2, dicc_frutas_3]\n",
    "print(lista_frutas)\n",
    "\n",
    "# Lista de verduras: Contiene los diccionarios de las verduras\n",
    "lista_verduras = [dicc_verduras_1, dicc_verduras_2, dicc_verduras_3]\n",
    "print(lista_verduras)"
   ]
  },
  {
   "cell_type": "markdown",
   "metadata": {},
   "source": [
    "Casi lo tenemos, en este momento tenemos 2 listas, las cuales incluyen las frutas y las verduras. Vamos a __crear un diccionario que incluya estas listas.__ "
   ]
  },
  {
   "cell_type": "code",
   "execution_count": 6,
   "metadata": {},
   "outputs": [
    {
     "name": "stdout",
     "output_type": "stream",
     "text": [
      "{'Fruta': [{'Nombre': 'Manzana', 'Cantidad': 10}, {'Nombre': 'Pera', 'Cantidad': 20}, {'Nombre': 'Naranja', 'Cantidad': 30}], 'Verdura': [{'Nombre': 'Lechuga', 'Cantidad': 80}, {'Nombre': 'Tomate', 'Cantidad': 15}, {'Nombre': 'Pepino', 'Cantidad': 50}]}\n"
     ]
    }
   ],
   "source": [
    "dicc_fruta_verdura = {\n",
    "    \"Fruta\": lista_frutas,\n",
    "    \"Verdura\": lista_verduras\n",
    "}\n",
    "print(dicc_fruta_verdura)"
   ]
  },
  {
   "cell_type": "markdown",
   "metadata": {},
   "source": [
    "Sólo nos queda un detalle. La estructura que tenemos ya sería funcional, pero en muchas ocasiones se necesita un nodo central (una variable central y única) como entrada a nuestros datos. En nuestro caso, las dos primeras claves que encontrariamos serían __Fruta__ y __Verdura__. Pero sería mejor que hubiese una clave única por encima de ellas. Por eso vamos a crear la clave __Fruteria__ que las englobe. "
   ]
  },
  {
   "cell_type": "code",
   "execution_count": 7,
   "metadata": {},
   "outputs": [
    {
     "name": "stdout",
     "output_type": "stream",
     "text": [
      "{'Fruteria': {'Fruta': [{'Nombre': 'Manzana', 'Cantidad': 10}, {'Nombre': 'Pera', 'Cantidad': 20}, {'Nombre': 'Naranja', 'Cantidad': 30}], 'Verdura': [{'Nombre': 'Lechuga', 'Cantidad': 80}, {'Nombre': 'Tomate', 'Cantidad': 15}, {'Nombre': 'Pepino', 'Cantidad': 50}]}}\n"
     ]
    }
   ],
   "source": [
    "dicc_fruteria = {\n",
    "    \"Fruteria\": dicc_fruta_verdura\n",
    "}\n",
    "print(dicc_fruteria)"
   ]
  },
  {
   "cell_type": "markdown",
   "metadata": {},
   "source": [
    "Si os fijáis, la salida por pantalla no ha cambiado respecto al ejemplo anterior. Pero resultará muy útil tener una clave principal (\"Fruteria\") para temas más avanzados."
   ]
  },
  {
   "cell_type": "markdown",
   "metadata": {},
   "source": [
    "### Opcion 1 (iniciación). Paso a paso. Código completo"
   ]
  },
  {
   "cell_type": "code",
   "execution_count": 8,
   "metadata": {},
   "outputs": [
    {
     "name": "stdout",
     "output_type": "stream",
     "text": [
      "<class 'dict'>\n",
      "{'Fruteria': [{'Fruta': [{'Nombre': 'Manzana', 'Cantidad': 10}, {'Nombre': 'Pera', 'Cantidad': 20}, {'Nombre': 'Naranja', 'Cantidad': 30}]}, {'Verdura': [{'Nombre': 'Lechuga', 'Cantidad': 80}, {'Nombre': 'Tomate', 'Cantidad': 15}, {'Nombre': 'Pepino', 'Cantidad': 50}]}]}\n"
     ]
    }
   ],
   "source": [
    "# Opcion 1 (iniciacion): Creacion de las estructuras poco a poco. Vamos a ir de dentro a fuera\n",
    "# Diccionarios de las frutas\n",
    "dicc_frutas_1 = {\n",
    "    \"Nombre\": \"Manzana\",\n",
    "    \"Cantidad\": 10\n",
    "}\n",
    "\n",
    "dicc_frutas_2 = {\n",
    "    \"Nombre\": \"Pera\",\n",
    "    \"Cantidad\": 20\n",
    "}\n",
    "\n",
    "dicc_frutas_3 = {\n",
    "    \"Nombre\": \"Naranja\",\n",
    "    \"Cantidad\": 30\n",
    "}\n",
    "\n",
    "# Diccionario de las verduras\n",
    "dicc_verduras_1 = {\n",
    "    \"Nombre\": \"Lechuga\",\n",
    "    \"Cantidad\": 80\n",
    "}\n",
    "\n",
    "dicc_verduras_2 = {\n",
    "    \"Nombre\": \"Tomate\",\n",
    "    \"Cantidad\": 15\n",
    "}\n",
    "\n",
    "dicc_verduras_3 = {\n",
    "    \"Nombre\": \"Pepino\",\n",
    "    \"Cantidad\": 50\n",
    "}\n",
    "\n",
    "# Lista de frutas: Contiene los diccionarios de las frutas\n",
    "lista_frutas = [dicc_frutas_1, dicc_frutas_2, dicc_frutas_3]\n",
    "\n",
    "# Lista de verduras: Contiene los diccionarios de las verduras\n",
    "lista_verduras = [dicc_verduras_1, dicc_verduras_2, dicc_verduras_3]\n",
    "\n",
    "dicc_fruta = {\n",
    "    \"Fruta\": lista_frutas\n",
    "}\n",
    "\n",
    "dicc_verdura = {\n",
    "     \"Verdura\": lista_verduras\n",
    "}\n",
    "\n",
    "dicc_fruteria = {\n",
    "    \"Fruteria\": [dicc_fruta, dicc_verdura]\n",
    "}\n",
    "\n",
    "# Imprimimos por pantalla el tipo y los datos\n",
    "print(type(dicc_fruteria))\n",
    "print(dicc_fruteria)"
   ]
  },
  {
   "cell_type": "markdown",
   "metadata": {},
   "source": [
    "### Opcion 2 (avanzada). Crear la estructura directamente"
   ]
  },
  {
   "cell_type": "code",
   "execution_count": 9,
   "metadata": {},
   "outputs": [
    {
     "name": "stdout",
     "output_type": "stream",
     "text": [
      "Tipo de los datos: <class 'dict'>\n",
      "\n",
      "Datos en estructuras de datos de Python (diccionarios):\n",
      "\n",
      "{'Fruteria': [{'Fruta': [{'Nombre': 'Manzana', 'Cantidad': 10}, {'Nombre': 'Pera', 'Cantidad': 20}, {'Nombre': 'Naranja', 'Cantidad': 30}]}, {'Verdura': [{'Nombre': 'Lechuga', 'Cantidad': 80}, {'Nombre': 'Tomate', 'Cantidad': 15}, {'Nombre': 'Pepino', 'Cantidad': 50}]}]}\n"
     ]
    }
   ],
   "source": [
    "# Opcion 2 (avanzada): Crear la estructura directamente\n",
    "dicc_fruteria = {\"Fruteria\": [  {\"Fruta\":   [    {\"Nombre\":\"Manzana\",\"Cantidad\":10},    {\"Nombre\":\"Pera\",\"Cantidad\":20},    {\"Nombre\":\"Naranja\",\"Cantidad\":30}   ]  },  {\"Verdura\":   [    {\"Nombre\":\"Lechuga\",\"Cantidad\":80},    {\"Nombre\":\"Tomate\",\"Cantidad\":15},    {\"Nombre\":\"Pepino\",\"Cantidad\":50}   ]  } ]}\n",
    "\n",
    "# Imprimimos por pantalla el tipo y los datos\n",
    "print(\"Tipo de los datos:\", type(dicc_fruteria))\n",
    "print(\"\\nDatos en estructuras de datos de Python (diccionarios):\\n\")\n",
    "print(dicc_fruteria)"
   ]
  },
  {
   "cell_type": "markdown",
   "metadata": {},
   "source": [
    "### Una vez que tenemos la estructura creada, la codificamos en JSON (dumps)"
   ]
  },
  {
   "cell_type": "code",
   "execution_count": 10,
   "metadata": {},
   "outputs": [
    {
     "name": "stdout",
     "output_type": "stream",
     "text": [
      "Tipo de los datos: <class 'str'>\n",
      "\n",
      "Datos en JSON:\n",
      "\n",
      "{\"Fruteria\": [{\"Fruta\": [{\"Nombre\": \"Manzana\", \"Cantidad\": 10}, {\"Nombre\": \"Pera\", \"Cantidad\": 20}, {\"Nombre\": \"Naranja\", \"Cantidad\": 30}]}, {\"Verdura\": [{\"Nombre\": \"Lechuga\", \"Cantidad\": 80}, {\"Nombre\": \"Tomate\", \"Cantidad\": 15}, {\"Nombre\": \"Pepino\", \"Cantidad\": 50}]}]}\n"
     ]
    }
   ],
   "source": [
    "# Nos devuelve el String con el JSON\n",
    "json_fruteria = json.dumps(dicc_fruteria)\n",
    "\n",
    "print(\"Tipo de los datos:\", type(json_fruteria))\n",
    "print(\"\\nDatos en JSON:\\n\")\n",
    "print(json_fruteria)"
   ]
  },
  {
   "cell_type": "markdown",
   "metadata": {},
   "source": [
    "### ¿Diferencias?"
   ]
  },
  {
   "cell_type": "code",
   "execution_count": 11,
   "metadata": {},
   "outputs": [
    {
     "name": "stdout",
     "output_type": "stream",
     "text": [
      "{'Fruteria': [{'Fruta': [{'Nombre': 'Manzana', 'Cantidad': 10}, {'Nombre': 'Pera', 'Cantidad': 20}, {'Nombre': 'Naranja', 'Cantidad': 30}]}, {'Verdura': [{'Nombre': 'Lechuga', 'Cantidad': 80}, {'Nombre': 'Tomate', 'Cantidad': 15}, {'Nombre': 'Pepino', 'Cantidad': 50}]}]}\n",
      "\n",
      "{\"Fruteria\": [{\"Fruta\": [{\"Nombre\": \"Manzana\", \"Cantidad\": 10}, {\"Nombre\": \"Pera\", \"Cantidad\": 20}, {\"Nombre\": \"Naranja\", \"Cantidad\": 30}]}, {\"Verdura\": [{\"Nombre\": \"Lechuga\", \"Cantidad\": 80}, {\"Nombre\": \"Tomate\", \"Cantidad\": 15}, {\"Nombre\": \"Pepino\", \"Cantidad\": 50}]}]}\n"
     ]
    }
   ],
   "source": [
    "print(dicc_fruteria)\n",
    "print()\n",
    "print(json_fruteria)"
   ]
  },
  {
   "cell_type": "markdown",
   "metadata": {},
   "source": [
    "## DECODIFICAR JSON (json_loads(String))\n",
    "Ahora veremos el caso contrario, dado un dato en formato JSON, veremos como decodificarlo para transformarlo en tipos de datos manejables por Python. Para ello usaremos la función __json_loads(String)__"
   ]
  },
  {
   "cell_type": "code",
   "execution_count": 12,
   "metadata": {},
   "outputs": [
    {
     "name": "stdout",
     "output_type": "stream",
     "text": [
      "Tipo de los datos: <class 'str'>\n",
      "Datos en JSON:\n",
      "\n",
      "{\"Fruteria\": [{\"Fruta\": [{\"Nombre\": \"Manzana\", \"Cantidad\": 10}, {\"Nombre\": \"Pera\", \"Cantidad\": 20}, {\"Nombre\": \"Naranja\", \"Cantidad\": 30}]}, {\"Verdura\": [{\"Nombre\": \"Lechuga\", \"Cantidad\": 80}, {\"Nombre\": \"Tomate\", \"Cantidad\": 15}, {\"Nombre\": \"Pepino\", \"Cantidad\": 50}]}]}\n",
      "\n",
      "Tipo de los datos: <class 'dict'>\n",
      "Datos en estructuras de datos de Python (diccionarios):\n",
      "\n",
      "{'Fruteria': [{'Fruta': [{'Nombre': 'Manzana', 'Cantidad': 10}, {'Nombre': 'Pera', 'Cantidad': 20}, {'Nombre': 'Naranja', 'Cantidad': 30}]}, {'Verdura': [{'Nombre': 'Lechuga', 'Cantidad': 80}, {'Nombre': 'Tomate', 'Cantidad': 15}, {'Nombre': 'Pepino', 'Cantidad': 50}]}]}\n"
     ]
    }
   ],
   "source": [
    "# Disponemos de json_fruteria el cual contiene nuestra informacion en formato JSON\n",
    "print(\"Tipo de los datos:\", type(json_fruteria))\n",
    "print(\"Datos en JSON:\\n\")\n",
    "print(json_fruteria)\n",
    "\n",
    "f_dict = json.loads(json_fruteria)\n",
    "print(\"\\nTipo de los datos:\", type(f_dict))\n",
    "print(\"Datos en estructuras de datos de Python (diccionarios):\\n\")\n",
    "print(f_dict)"
   ]
  },
  {
   "cell_type": "markdown",
   "metadata": {},
   "source": [
    "## TRABAJAR CON DATOS JSON\n",
    "Cuando tengamos ojetos en formato JSON (que hemos visto que son strings internamente, pero con un formato pre-estructurado) nos son muy útiles para transferirlos a otros sitios o programas. Por lo que el proceso normal de trabajo será:\n",
    "* Tener nuestros datos en estructuras propias de nuestro lenguaje (diccionarios, listas, tuplas, etc.)\n",
    "* Codificarlo a un string con formato JSON\n",
    "* Enviarlo a otro sitio, programa o lenguaje\n",
    "* En el destino, recibir ese string con formato JSON\n",
    "* Decodificar dicho string y adaptarlo a las estructuras propias que tenga ese sistema, programa o lenguaje (que pueden ser diferentes a las de Python)\n",
    "\n",
    "__Este proceso se realiza así porque una estructura de datos diccionario, no es igual en Python, en Java o en SQL. Por lo que no tiene sentido enviar unos datos desde Python a esos lenguajes en formato diccionario, ya que no lo van a entender. Pero lo que si entiende todo el mundo es la estructura de JSON.__"
   ]
  },
  {
   "cell_type": "code",
   "execution_count": 13,
   "metadata": {},
   "outputs": [
    {
     "name": "stdout",
     "output_type": "stream",
     "text": [
      "Datos completos (tipo  <class 'dict'> )\n",
      "{'Fruteria': [{'Fruta': [{'Nombre': 'Manzana', 'Cantidad': 10}, {'Nombre': 'Pera', 'Cantidad': 20}, {'Nombre': 'Naranja', 'Cantidad': 30}]}, {'Verdura': [{'Nombre': 'Lechuga', 'Cantidad': 80}, {'Nombre': 'Tomate', 'Cantidad': 15}, {'Nombre': 'Pepino', 'Cantidad': 50}]}]}\n",
      "\n",
      "JSON Object Fruta\n",
      "{'Fruta': [{'Nombre': 'Manzana', 'Cantidad': 10}, {'Nombre': 'Pera', 'Cantidad': 20}, {'Nombre': 'Naranja', 'Cantidad': 30}]}\n",
      "\n",
      "JSON Object Verdura\n",
      "{'Verdura': [{'Nombre': 'Lechuga', 'Cantidad': 80}, {'Nombre': 'Tomate', 'Cantidad': 15}, {'Nombre': 'Pepino', 'Cantidad': 50}]}\n",
      "\n",
      "JSON Object Fruta. Primer objeto del JSON Array\n",
      "{'Nombre': 'Manzana', 'Cantidad': 10}\n",
      "\n",
      "Numero de manzanas\n",
      "10\n"
     ]
    }
   ],
   "source": [
    "# Ver el diccionario completo\n",
    "print(\"Datos completos (tipo \", type(f_dict), \")\")\n",
    "print(f_dict)\n",
    "\n",
    "print(\"\\nJSON Object Fruta\")\n",
    "print(f_dict['Fruteria'][0]) # JSON Object Fruta\n",
    "print(\"\\nJSON Object Verdura\")\n",
    "print(f_dict['Fruteria'][1]) # JSON Object Verdura\n",
    "\n",
    "print(\"\\nJSON Object Fruta. Primer objeto del JSON Array\")\n",
    "print(f_dict['Fruteria'][0]['Fruta'][0]) # JSON Object Fruta. Primer objeto del JSON Array\n",
    "\n",
    "print(\"\\nNumero de manzanas\")\n",
    "print(f_dict[\"Fruteria\"][0][\"Fruta\"][0][\"Cantidad\"]) # Número de manzanas"
   ]
  },
  {
   "cell_type": "markdown",
   "metadata": {},
   "source": [
    "## EJEMPLO COMPLETO"
   ]
  },
  {
   "cell_type": "code",
   "execution_count": 15,
   "metadata": {},
   "outputs": [
    {
     "name": "stdout",
     "output_type": "stream",
     "text": [
      "Datos completos\n",
      "{'Fruteria': [{'Fruta': [{'Nombre': 'Manzana', 'Cantidad': 10}, {'Nombre': 'Pera', 'Cantidad': 20}, {'Nombre': 'Naranja', 'Cantidad': 30}]}, {'Verdura': [{'Nombre': 'Lechuga', 'Cantidad': 80}, {'Nombre': 'Tomate', 'Cantidad': 15}, {'Nombre': 'Pepino', 'Cantidad': 50}]}]}\n",
      "\n",
      "JSON Object Fruta\n",
      "{'Fruta': [{'Nombre': 'Manzana', 'Cantidad': 10}, {'Nombre': 'Pera', 'Cantidad': 20}, {'Nombre': 'Naranja', 'Cantidad': 30}]}\n",
      "\n",
      "JSON Object Verdura\n",
      "{'Verdura': [{'Nombre': 'Lechuga', 'Cantidad': 80}, {'Nombre': 'Tomate', 'Cantidad': 15}, {'Nombre': 'Pepino', 'Cantidad': 50}]}\n",
      "\n",
      "JSON Object Fruta. Primer objeto del JSON Array\n",
      "{'Nombre': 'Manzana', 'Cantidad': 10}\n",
      "\n",
      "Numero de manzanas\n",
      "10\n"
     ]
    }
   ],
   "source": [
    "import json\n",
    "\n",
    "# f es un JSON string y f_dict es un diccionario\n",
    "f = '{\"Fruteria\": [{\"Fruta\": [{\"Nombre\": \"Manzana\",\"Cantidad\": 10},{\"Nombre\": \"Pera\",\"Cantidad\": 20},{\"Nombre\": \"Naranja\",\"Cantidad\": 30}]},{\"Verdura\": [{\"Nombre\": \"Lechuga\",\"Cantidad\": 80},{\"Nombre\": \"Tomate\",\"Cantidad\": 15},{\"Nombre\": \"Pepino\",\"Cantidad\": 50}]}]}'\n",
    "f_dict = json.loads(f) # Decodificamos el JSON para transformarlo en un diccionario y poder trabajar con el mas facilmente\n",
    "\n",
    "# Ver el diccionario completo\n",
    "print(\"Datos completos\")\n",
    "print(f_dict)\n",
    "\n",
    "print(\"\\nJSON Object Fruta\")\n",
    "print(f_dict['Fruteria'][0]) # JSON Object Fruta\n",
    "print(\"\\nJSON Object Verdura\")\n",
    "print(f_dict['Fruteria'][1]) # JSON Object Verdura\n",
    "\n",
    "print(\"\\nJSON Object Fruta. Primer objeto del JSON Array\")\n",
    "print(f_dict['Fruteria'][0]['Fruta'][0]) # JSON Object Fruta. Primer objeto del JSON Array\n",
    "\n",
    "print(\"\\nNumero de manzanas\")\n",
    "print(f_dict[\"Fruteria\"][0][\"Fruta\"][0][\"Cantidad\"]) # Número de manzanas"
   ]
  },
  {
   "cell_type": "markdown",
   "metadata": {},
   "source": [
    "## VISUALIZAR CONTENIDO JSON\n",
    "Hay multitud de páginas web y herramientas que nos sirven para visualizar gráficamente un objeto JSON. \n",
    "Copia el siguiente código y pegalo en la siguiente web (pestaña Text para introducir el código y pestaña Viewer para visualizarlo): \n",
    "\n",
    "* http://jsonviewer.stack.hu/\n",
    "* https://jsonformatter.org/json-viewer\n",
    "\n",
    "{\"Fruteria\": [{\"Fruta\": [{\"Nombre\": \"Manzana\", \"Cantidad\": 10}, {\"Nombre\": \"Pera\", \"Cantidad\": 20}, {\"Nombre\": \"Naranja\", \"Cantidad\": 30}]}, {\"Verdura\": [{\"Nombre\": \"Lechuga\", \"Cantidad\": 80}, {\"Nombre\": \"Tomate\", \"Cantidad\": 15}, {\"Nombre\": \"Pepino\", \"Cantidad\": 50}]}]}"
   ]
  }
 ],
 "metadata": {
  "kernelspec": {
   "display_name": "Python 3",
   "language": "python",
   "name": "python3"
  },
  "language_info": {
   "codemirror_mode": {
    "name": "ipython",
    "version": 3
   },
   "file_extension": ".py",
   "mimetype": "text/x-python",
   "name": "python",
   "nbconvert_exporter": "python",
   "pygments_lexer": "ipython3",
   "version": "3.8.3"
  }
 },
 "nbformat": 4,
 "nbformat_minor": 1
}
